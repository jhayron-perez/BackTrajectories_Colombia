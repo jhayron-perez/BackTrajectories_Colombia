{
 "cells": [
  {
   "cell_type": "code",
   "execution_count": 7,
   "id": "7449b16e",
   "metadata": {},
   "outputs": [
    {
     "name": "stderr",
     "output_type": "stream",
     "text": [
      "2022-10-02 20:41:37,522 INFO Welcome to the CDS\n",
      "2022-10-02 20:41:37,524 INFO Sending request to https://cds.climate.copernicus.eu/api/v2/resources/reanalysis-era5-pressure-levels\n",
      "2022-10-02 20:41:37,677 INFO Request is queued\n",
      "2022-10-02 20:41:38,806 INFO Request is running\n",
      "2022-10-02 20:47:57,719 INFO Request is completed\n",
      "2022-10-02 20:47:57,721 INFO Downloading https://download-0012-clone.copernicus-climate.eu/cache-compute-0012/cache/data3/adaptor.mars.internal-1664758001.4537208-31490-5-6c53db6e-da08-4482-a45e-8aa80e3820ce.nc to /Users/jhayron/Data/ERA5/2014/ERA5_2014_01.nc (1.3G)\n",
      "2022-10-02 20:57:06,499 INFO Download rate 2.3M/s                                                                                                            \n",
      "2022-10-02 20:57:07,222 INFO Welcome to the CDS\n",
      "2022-10-02 20:57:07,223 INFO Sending request to https://cds.climate.copernicus.eu/api/v2/resources/reanalysis-era5-pressure-levels\n"
     ]
    },
    {
     "name": "stdout",
     "output_type": "stream",
     "text": [
      "Directory already exists.\n"
     ]
    },
    {
     "name": "stderr",
     "output_type": "stream",
     "text": [
      "2022-10-02 20:57:07,380 INFO Request is queued\n",
      "2022-10-02 20:57:08,511 INFO Request is running\n",
      "2022-10-02 21:03:27,471 INFO Request is completed\n",
      "2022-10-02 21:03:27,473 INFO Downloading https://download-0001-clone.copernicus-climate.eu/cache-compute-0001/cache/data1/adaptor.mars.internal-1664758899.1504765-29067-12-2a53818b-72f8-4a1e-8519-d70370e434fb.nc to /Users/jhayron/Data/ERA5/2014/ERA5_2014_02.nc (1.1G)\n",
      "2022-10-02 21:09:24,639 INFO Download rate 3.2M/s                                                                                                            \n",
      "2022-10-02 21:09:25,654 INFO Welcome to the CDS\n",
      "2022-10-02 21:09:25,656 INFO Sending request to https://cds.climate.copernicus.eu/api/v2/resources/reanalysis-era5-pressure-levels\n"
     ]
    },
    {
     "name": "stdout",
     "output_type": "stream",
     "text": [
      "Directory already exists.\n"
     ]
    },
    {
     "name": "stderr",
     "output_type": "stream",
     "text": [
      "2022-10-02 21:09:25,813 INFO Request is queued\n",
      "2022-10-02 21:09:26,951 INFO Request is running\n",
      "2022-10-02 21:15:45,920 INFO Request is completed\n",
      "2022-10-02 21:15:45,922 INFO Downloading https://download-0021.copernicus-climate.eu/cache-compute-0021/cache/data3/adaptor.mars.internal-1664759662.9950995-29410-18-621748af-fec7-4da8-806a-2478ad690698.nc to /Users/jhayron/Data/ERA5/2014/ERA5_2014_03.nc (1.3G)\n",
      "2022-10-02 21:20:29,453 INFO Download rate 4.5M/s                                                                                                            \n",
      "2022-10-02 21:20:30,120 INFO Welcome to the CDS\n",
      "2022-10-02 21:20:30,122 INFO Sending request to https://cds.climate.copernicus.eu/api/v2/resources/reanalysis-era5-pressure-levels\n"
     ]
    },
    {
     "name": "stdout",
     "output_type": "stream",
     "text": [
      "Directory already exists.\n"
     ]
    },
    {
     "name": "stderr",
     "output_type": "stream",
     "text": [
      "2022-10-02 21:20:30,282 INFO Request is queued\n",
      "2022-10-02 21:20:31,425 INFO Request is running\n",
      "2022-10-02 21:26:50,474 INFO Request is completed\n",
      "2022-10-02 21:26:50,476 INFO Downloading https://download-0013-clone.copernicus-climate.eu/cache-compute-0013/cache/data4/adaptor.mars.internal-1664760321.6088247-25532-20-2a0bf5e0-986f-4a88-9b49-facd69eb3411.nc to /Users/jhayron/Data/ERA5/2014/ERA5_2014_04.nc (1.2G)\n",
      "2022-10-02 21:30:50,201 INFO Download rate 5.2M/s                                                                                                            \n",
      "2022-10-02 21:30:51,495 INFO Welcome to the CDS\n",
      "2022-10-02 21:30:51,497 INFO Sending request to https://cds.climate.copernicus.eu/api/v2/resources/reanalysis-era5-pressure-levels\n"
     ]
    },
    {
     "name": "stdout",
     "output_type": "stream",
     "text": [
      "Directory already exists.\n"
     ]
    },
    {
     "name": "stderr",
     "output_type": "stream",
     "text": [
      "2022-10-02 21:30:51,666 INFO Request is queued\n",
      "2022-10-02 21:30:52,807 INFO Request is running\n",
      "2022-10-02 21:37:11,828 INFO Request is completed\n",
      "2022-10-02 21:37:11,830 INFO Downloading https://download-0019.copernicus-climate.eu/cache-compute-0019/cache/data3/adaptor.mars.internal-1664760941.4557505-17688-12-cd5ec680-5d3d-4498-b90b-8df56faaadb5.nc to /Users/jhayron/Data/ERA5/2014/ERA5_2014_05.nc (1.3G)\n",
      "2022-10-02 21:42:55,915 INFO Download rate 3.7M/s                                                                                                            \n",
      "2022-10-02 21:42:56,612 INFO Welcome to the CDS\n",
      "2022-10-02 21:42:56,614 INFO Sending request to https://cds.climate.copernicus.eu/api/v2/resources/reanalysis-era5-pressure-levels\n"
     ]
    },
    {
     "name": "stdout",
     "output_type": "stream",
     "text": [
      "Directory already exists.\n"
     ]
    },
    {
     "name": "stderr",
     "output_type": "stream",
     "text": [
      "2022-10-02 21:42:56,828 INFO Request is queued\n",
      "2022-10-02 21:42:57,986 INFO Request is running\n",
      "2022-10-02 21:49:17,128 INFO Request is completed\n",
      "2022-10-02 21:49:17,130 INFO Downloading https://download-0015-clone.copernicus-climate.eu/cache-compute-0015/cache/data8/adaptor.mars.internal-1664761670.0086315-29861-18-ed4c4bd7-9377-4b94-bb61-f89777ce23f5.nc to /Users/jhayron/Data/ERA5/2014/ERA5_2014_06.nc (1.2G)\n",
      "2022-10-02 21:54:10,441 INFO Download rate 4.2M/s                                                                                                            \n",
      "2022-10-02 21:54:11,188 INFO Welcome to the CDS\n",
      "2022-10-02 21:54:11,190 INFO Sending request to https://cds.climate.copernicus.eu/api/v2/resources/reanalysis-era5-pressure-levels\n"
     ]
    },
    {
     "name": "stdout",
     "output_type": "stream",
     "text": [
      "Directory already exists.\n"
     ]
    },
    {
     "name": "stderr",
     "output_type": "stream",
     "text": [
      "2022-10-02 21:54:11,346 INFO Request is queued\n",
      "2022-10-02 21:54:12,488 INFO Request is running\n",
      "2022-10-02 22:00:31,481 INFO Request is completed\n",
      "2022-10-02 22:00:31,484 INFO Downloading https://download-0012-clone.copernicus-climate.eu/cache-compute-0012/cache/data8/adaptor.mars.internal-1664762352.583018-9496-9-d2c2c035-36c0-45ad-b8fc-c7e3d83dd383.nc to /Users/jhayron/Data/ERA5/2014/ERA5_2014_07.nc (1.3G)\n",
      "2022-10-02 22:03:54,120 INFO Download rate 6.3M/s                                                                                                            \n",
      "2022-10-02 22:03:54,806 INFO Welcome to the CDS\n",
      "2022-10-02 22:03:54,808 INFO Sending request to https://cds.climate.copernicus.eu/api/v2/resources/reanalysis-era5-pressure-levels\n"
     ]
    },
    {
     "name": "stdout",
     "output_type": "stream",
     "text": [
      "Directory already exists.\n"
     ]
    },
    {
     "name": "stderr",
     "output_type": "stream",
     "text": [
      "2022-10-02 22:03:54,980 INFO Request is queued\n",
      "2022-10-02 22:03:56,173 INFO Request is running\n",
      "2022-10-02 22:10:15,244 INFO Request is completed\n",
      "2022-10-02 22:10:15,246 INFO Downloading https://download-0000-clone.copernicus-climate.eu/cache-compute-0000/cache/data6/adaptor.mars.internal-1664762937.2758195-25076-13-66529a6a-3b54-452c-8519-7bf141678aee.nc to /Users/jhayron/Data/ERA5/2014/ERA5_2014_08.nc (1.3G)\n",
      "2022-10-02 22:31:18,814 INFO Download rate 1M/s                                                                                                              \n",
      "2022-10-02 22:31:20,094 INFO Welcome to the CDS\n",
      "2022-10-02 22:31:20,095 INFO Sending request to https://cds.climate.copernicus.eu/api/v2/resources/reanalysis-era5-pressure-levels\n"
     ]
    },
    {
     "name": "stdout",
     "output_type": "stream",
     "text": [
      "Directory already exists.\n"
     ]
    },
    {
     "name": "stderr",
     "output_type": "stream",
     "text": [
      "2022-10-02 22:31:20,230 INFO Request is queued\n",
      "2022-10-02 22:31:21,355 INFO Request is running\n",
      "2022-10-02 22:37:40,321 INFO Request is completed\n",
      "2022-10-02 22:37:40,326 INFO Downloading https://download-0014-clone.copernicus-climate.eu/cache-compute-0014/cache/data7/adaptor.mars.internal-1664764547.1820936-558-15-b05796ba-80ba-4b9c-9e24-acdbea1ad70c.nc to /Users/jhayron/Data/ERA5/2014/ERA5_2014_09.nc (1.2G)\n",
      "2022-10-02 23:09:09,800 INFO Download rate 672.6K/s                                                                                                          \n",
      "2022-10-02 23:09:10,557 INFO Welcome to the CDS\n",
      "2022-10-02 23:09:10,557 INFO Sending request to https://cds.climate.copernicus.eu/api/v2/resources/reanalysis-era5-pressure-levels\n"
     ]
    },
    {
     "name": "stdout",
     "output_type": "stream",
     "text": [
      "Directory already exists.\n"
     ]
    },
    {
     "name": "stderr",
     "output_type": "stream",
     "text": [
      "2022-10-02 23:09:10,702 INFO Request is queued\n",
      "2022-10-02 23:09:11,832 INFO Request is running\n",
      "2022-10-02 23:15:30,791 INFO Request is completed\n",
      "2022-10-02 23:15:30,793 INFO Downloading https://download-0006-clone.copernicus-climate.eu/cache-compute-0006/cache/data8/adaptor.mars.internal-1664766880.1282356-29592-8-33562a47-7dcf-464f-9818-c49156b2118a.nc to /Users/jhayron/Data/ERA5/2014/ERA5_2014_10.nc (1.3G)\n",
      "2022-10-02 23:46:30,749 INFO Download rate 706K/s                                                                                                            \n",
      "2022-10-02 23:46:31,538 INFO Welcome to the CDS\n",
      "2022-10-02 23:46:31,539 INFO Sending request to https://cds.climate.copernicus.eu/api/v2/resources/reanalysis-era5-pressure-levels\n"
     ]
    },
    {
     "name": "stdout",
     "output_type": "stream",
     "text": [
      "Directory already exists.\n"
     ]
    },
    {
     "name": "stderr",
     "output_type": "stream",
     "text": [
      "2022-10-02 23:46:31,717 INFO Request is queued\n",
      "2022-10-02 23:46:32,854 INFO Request is running\n",
      "2022-10-02 23:52:52,045 INFO Request is completed\n",
      "2022-10-02 23:52:52,051 INFO Downloading https://download-0007-clone.copernicus-climate.eu/cache-compute-0007/cache/data2/adaptor.mars.internal-1664769099.8799107-8918-4-bac3173c-cec7-4166-9ef2-7216641dc08d.nc to /Users/jhayron/Data/ERA5/2014/ERA5_2014_11.nc (1.2G)\n",
      "2022-10-03 00:13:50,153 INFO Download rate 1010.1K/s                                                                                                         \n",
      "2022-10-03 00:13:50,967 INFO Welcome to the CDS\n",
      "2022-10-03 00:13:50,968 INFO Sending request to https://cds.climate.copernicus.eu/api/v2/resources/reanalysis-era5-pressure-levels\n"
     ]
    },
    {
     "name": "stdout",
     "output_type": "stream",
     "text": [
      "Directory already exists.\n"
     ]
    },
    {
     "name": "stderr",
     "output_type": "stream",
     "text": [
      "2022-10-03 00:13:51,099 INFO Request is queued\n",
      "2022-10-03 00:13:52,239 INFO Request is running\n",
      "2022-10-03 00:20:11,316 INFO Request is completed\n",
      "2022-10-03 00:20:11,325 INFO Downloading https://download-0007-clone.copernicus-climate.eu/cache-compute-0007/cache/data2/adaptor.mars.internal-1664770735.6362805-25485-2-8f77e0c8-e4b9-428c-b6dc-acf3e7ba4cbc.nc to /Users/jhayron/Data/ERA5/2014/ERA5_2014_12.nc (1.3G)\n",
      "2022-10-03 00:24:07,365 INFO Download rate 5.4M/s                                                                                                            \n"
     ]
    }
   ],
   "source": [
    "import cdsapi\n",
    "from calendar import monthrange\n",
    "import numpy as np\n",
    "import os\n",
    "\n",
    "year = '2014'\n",
    "for month in ['01','02','03','04','05','06','07','08','09','10','11','12']:\n",
    "    number_of_days = monthrange(int(year),int(month))[-1]\n",
    "    days = np.arange(1,number_of_days+1).astype(str).tolist()\n",
    "    path_output = f'/Users/jhayron/Data/ERA5/{year}/'\n",
    "    try:\n",
    "        os.mkdir(path_output)\n",
    "    except:\n",
    "        print('Directory already exists.')\n",
    "\n",
    "    c = cdsapi.Client()\n",
    "\n",
    "    c.retrieve(\n",
    "        'reanalysis-era5-pressure-levels',\n",
    "        {\n",
    "            'product_type': 'reanalysis',\n",
    "            'format': 'netcdf',\n",
    "            'pressure_level': [\n",
    "                '500', '600', '700',\n",
    "                '800', '850', '900',\n",
    "                '950', '1000',\n",
    "            ],\n",
    "            'variable': [\n",
    "                'geopotential', 'relative_humidity', 'specific_humidity',\n",
    "                'u_component_of_wind', 'v_component_of_wind', 'vertical_velocity',\n",
    "            ],\n",
    "            'year': year,\n",
    "            'month': [\n",
    "                month\n",
    "            ],\n",
    "            'day': days,\n",
    "            'time': [\n",
    "                '00:00', '03:00', '06:00',\n",
    "                '09:00', '12:00', '15:00',\n",
    "                '18:00', '21:00',\n",
    "            ],\n",
    "            'area': [\n",
    "                25, -100, -25,\n",
    "                -30,\n",
    "            ],\n",
    "        },\n",
    "        f'{path_output}ERA5_{year}_{month}.nc')"
   ]
  },
  {
   "cell_type": "code",
   "execution_count": 8,
   "id": "8571a757",
   "metadata": {},
   "outputs": [
    {
     "name": "stderr",
     "output_type": "stream",
     "text": [
      "2022-10-03 00:24:08,076 INFO Welcome to the CDS\n",
      "2022-10-03 00:24:08,078 INFO Sending request to https://cds.climate.copernicus.eu/api/v2/resources/reanalysis-era5-pressure-levels\n",
      "2022-10-03 00:24:08,250 INFO Request is queued\n",
      "2022-10-03 00:24:09,399 INFO Request is running\n",
      "2022-10-03 00:30:28,663 INFO Request is completed\n",
      "2022-10-03 00:30:28,668 INFO Downloading https://download-0001-clone.copernicus-climate.eu/cache-compute-0001/cache/data1/adaptor.mars.internal-1664771336.7711606-14009-20-f39dd6a7-2ca2-4463-a08a-4c7d9481e143.nc to /Users/jhayron/Data/ERA5/2013/ERA5_2013_01.nc (1.3G)\n",
      "2022-10-03 00:32:35,531 INFO Download rate 10.1M/s                                                                                                           \n",
      "2022-10-03 00:32:36,157 INFO Welcome to the CDS\n",
      "2022-10-03 00:32:36,158 INFO Sending request to https://cds.climate.copernicus.eu/api/v2/resources/reanalysis-era5-pressure-levels\n"
     ]
    },
    {
     "name": "stdout",
     "output_type": "stream",
     "text": [
      "Directory already exists.\n"
     ]
    },
    {
     "name": "stderr",
     "output_type": "stream",
     "text": [
      "2022-10-03 00:32:36,302 INFO Request is queued\n",
      "2022-10-03 00:32:37,434 INFO Request is running\n",
      "2022-10-03 00:38:56,634 INFO Request is completed\n",
      "2022-10-03 00:38:56,639 INFO Downloading https://download-0014-clone.copernicus-climate.eu/cache-compute-0014/cache/data3/adaptor.mars.internal-1664771814.6721797-30828-18-440f0ac4-c7fd-4121-8e45-e60a12294f8d.nc to /Users/jhayron/Data/ERA5/2013/ERA5_2013_02.nc (1.1G)\n",
      "2022-10-03 00:43:49,209 INFO Download rate 4M/s                                                                                                              \n",
      "2022-10-03 00:43:49,852 INFO Welcome to the CDS\n",
      "2022-10-03 00:43:49,853 INFO Sending request to https://cds.climate.copernicus.eu/api/v2/resources/reanalysis-era5-pressure-levels\n"
     ]
    },
    {
     "name": "stdout",
     "output_type": "stream",
     "text": [
      "Directory already exists.\n"
     ]
    },
    {
     "name": "stderr",
     "output_type": "stream",
     "text": [
      "2022-10-03 00:43:50,002 INFO Request is queued\n",
      "2022-10-03 00:43:51,150 INFO Request is running\n",
      "2022-10-03 00:50:10,651 INFO Request is completed\n",
      "2022-10-03 00:50:10,655 INFO Downloading https://download-0015-clone.copernicus-climate.eu/cache-compute-0015/cache/data1/adaptor.mars.internal-1664772507.412633-32243-15-14880782-f7b3-484b-87a0-70527bdbc5cf.nc to /Users/jhayron/Data/ERA5/2013/ERA5_2013_03.nc (1.3G)\n",
      "2022-10-03 00:55:45,994 INFO Download rate 3.8M/s                                                                                                            \n",
      "2022-10-03 00:55:46,672 INFO Welcome to the CDS\n",
      "2022-10-03 00:55:46,673 INFO Sending request to https://cds.climate.copernicus.eu/api/v2/resources/reanalysis-era5-pressure-levels\n"
     ]
    },
    {
     "name": "stdout",
     "output_type": "stream",
     "text": [
      "Directory already exists.\n"
     ]
    },
    {
     "name": "stderr",
     "output_type": "stream",
     "text": [
      "2022-10-03 00:55:46,822 INFO Request is queued\n",
      "2022-10-03 00:55:47,982 INFO Request is running\n",
      "2022-10-03 01:02:07,098 INFO Request is completed\n",
      "2022-10-03 01:02:07,101 INFO Downloading https://download-0020.copernicus-climate.eu/cache-compute-0020/cache/data9/adaptor.mars.internal-1664773250.1580052-9293-4-f5fe281c-5f3f-411b-b7f5-a7e5a09b0295.nc to /Users/jhayron/Data/ERA5/2013/ERA5_2013_04.nc (1.2G)\n",
      "2022-10-03 01:06:11,186 INFO Download rate 5.1M/s                                                                                                            \n",
      "2022-10-03 01:06:11,873 INFO Welcome to the CDS\n",
      "2022-10-03 01:06:11,875 INFO Sending request to https://cds.climate.copernicus.eu/api/v2/resources/reanalysis-era5-pressure-levels\n"
     ]
    },
    {
     "name": "stdout",
     "output_type": "stream",
     "text": [
      "Directory already exists.\n"
     ]
    },
    {
     "name": "stderr",
     "output_type": "stream",
     "text": [
      "2022-10-03 01:06:12,006 INFO Request is queued\n",
      "2022-10-03 01:06:13,159 INFO Request is running\n",
      "2022-10-03 01:12:32,166 INFO Request is completed\n",
      "2022-10-03 01:12:32,170 INFO Downloading https://download-0005-clone.copernicus-climate.eu/cache-compute-0005/cache/data2/adaptor.mars.internal-1664773895.9890687-23545-20-545344c1-4301-472f-8663-df44ca49d55d.nc to /Users/jhayron/Data/ERA5/2013/ERA5_2013_05.nc (1.3G)\n",
      "2022-10-03 01:16:08,442 INFO Download rate 5.9M/s                                                                                                            \n",
      "2022-10-03 01:16:09,094 INFO Welcome to the CDS\n",
      "2022-10-03 01:16:09,096 INFO Sending request to https://cds.climate.copernicus.eu/api/v2/resources/reanalysis-era5-pressure-levels\n"
     ]
    },
    {
     "name": "stdout",
     "output_type": "stream",
     "text": [
      "Directory already exists.\n"
     ]
    },
    {
     "name": "stderr",
     "output_type": "stream",
     "text": [
      "2022-10-03 01:16:09,293 INFO Request is queued\n",
      "2022-10-03 01:16:10,427 INFO Request is running\n",
      "2022-10-03 01:22:29,580 INFO Request is completed\n",
      "2022-10-03 01:22:29,582 INFO Downloading https://download-0015-clone.copernicus-climate.eu/cache-compute-0015/cache/data9/adaptor.mars.internal-1664774452.7881007-18345-12-d2b931ef-a32f-40a2-9770-7b93e929a220.nc to /Users/jhayron/Data/ERA5/2013/ERA5_2013_06.nc (1.2G)\n",
      "2022-10-03 01:25:48,918 INFO Download rate 6.2M/s                                                                                                            \n",
      "2022-10-03 01:25:49,569 INFO Welcome to the CDS\n",
      "2022-10-03 01:25:49,570 INFO Sending request to https://cds.climate.copernicus.eu/api/v2/resources/reanalysis-era5-pressure-levels\n"
     ]
    },
    {
     "name": "stdout",
     "output_type": "stream",
     "text": [
      "Directory already exists.\n"
     ]
    },
    {
     "name": "stderr",
     "output_type": "stream",
     "text": [
      "2022-10-03 01:25:49,709 INFO Request is queued\n",
      "2022-10-03 01:25:50,849 INFO Request is running\n",
      "2022-10-03 01:32:10,542 INFO Request is completed\n",
      "2022-10-03 01:32:10,546 INFO Downloading https://download-0019.copernicus-climate.eu/cache-compute-0019/cache/data3/adaptor.mars.internal-1664775063.5121062-8642-20-28ad8728-1c42-495d-a3a1-8de0c8b4609f.nc to /Users/jhayron/Data/ERA5/2013/ERA5_2013_07.nc (1.3G)\n",
      "2022-10-03 01:35:09,453 INFO Download rate 7.2M/s                                                                                                            \n",
      "2022-10-03 01:35:10,182 INFO Welcome to the CDS\n",
      "2022-10-03 01:35:10,183 INFO Sending request to https://cds.climate.copernicus.eu/api/v2/resources/reanalysis-era5-pressure-levels\n"
     ]
    },
    {
     "name": "stdout",
     "output_type": "stream",
     "text": [
      "Directory already exists.\n"
     ]
    },
    {
     "name": "stderr",
     "output_type": "stream",
     "text": [
      "2022-10-03 01:35:10,342 INFO Request is queued\n",
      "2022-10-03 01:35:11,481 INFO Request is running\n",
      "2022-10-03 01:41:30,467 INFO Request is completed\n",
      "2022-10-03 01:41:30,471 INFO Downloading https://download-0020.copernicus-climate.eu/cache-compute-0020/cache/data9/adaptor.mars.internal-1664775619.2827497-22971-10-c0fc361e-06ed-4b70-ba7e-1f8c106edf3b.nc to /Users/jhayron/Data/ERA5/2013/ERA5_2013_08.nc (1.3G)\n",
      "2022-10-03 01:44:14,439 INFO Download rate 7.8M/s                                                                                                            \n",
      "2022-10-03 01:44:15,098 INFO Welcome to the CDS\n",
      "2022-10-03 01:44:15,100 INFO Sending request to https://cds.climate.copernicus.eu/api/v2/resources/reanalysis-era5-pressure-levels\n"
     ]
    },
    {
     "name": "stdout",
     "output_type": "stream",
     "text": [
      "Directory already exists.\n"
     ]
    },
    {
     "name": "stderr",
     "output_type": "stream",
     "text": [
      "2022-10-03 01:44:15,270 INFO Request is queued\n",
      "2022-10-03 01:44:16,409 INFO Request is running\n",
      "2022-10-03 01:50:35,347 INFO Request is completed\n",
      "2022-10-03 01:50:35,351 INFO Downloading https://download-0015-clone.copernicus-climate.eu/cache-compute-0015/cache/data8/adaptor.mars.internal-1664776168.3390865-29077-19-b75cf373-5182-4a06-ad25-e4baa1ac45e9.nc to /Users/jhayron/Data/ERA5/2013/ERA5_2013_09.nc (1.2G)\n",
      "2022-10-03 01:53:36,667 INFO Download rate 6.8M/s                                                                                                            \n",
      "2022-10-03 01:53:37,401 INFO Welcome to the CDS\n",
      "2022-10-03 01:53:37,402 INFO Sending request to https://cds.climate.copernicus.eu/api/v2/resources/reanalysis-era5-pressure-levels\n"
     ]
    },
    {
     "name": "stdout",
     "output_type": "stream",
     "text": [
      "Directory already exists.\n"
     ]
    },
    {
     "name": "stderr",
     "output_type": "stream",
     "text": [
      "2022-10-03 01:53:37,616 INFO Request is queued\n",
      "2022-10-03 01:53:38,761 INFO Request is running\n",
      "2022-10-03 01:59:57,668 INFO Request is completed\n",
      "2022-10-03 01:59:57,673 INFO Downloading https://download-0012-clone.copernicus-climate.eu/cache-compute-0012/cache/data7/adaptor.mars.internal-1664776731.9944227-10580-3-ea489225-c4f4-45e8-a9d9-b5ece11c6b12.nc to /Users/jhayron/Data/ERA5/2013/ERA5_2013_10.nc (1.3G)\n",
      "2022-10-03 02:03:30,657 INFO Download rate 6M/s                                                                                                              \n",
      "2022-10-03 02:03:31,309 INFO Welcome to the CDS\n",
      "2022-10-03 02:03:31,310 INFO Sending request to https://cds.climate.copernicus.eu/api/v2/resources/reanalysis-era5-pressure-levels\n"
     ]
    },
    {
     "name": "stdout",
     "output_type": "stream",
     "text": [
      "Directory already exists.\n"
     ]
    },
    {
     "name": "stderr",
     "output_type": "stream",
     "text": [
      "2022-10-03 02:03:31,458 INFO Request is queued\n",
      "2022-10-03 02:03:32,603 INFO Request is running\n",
      "2022-10-03 02:11:52,203 INFO Request is completed\n",
      "2022-10-03 02:11:52,206 INFO Downloading https://download-0010-clone.copernicus-climate.eu/cache-compute-0010/cache/data1/adaptor.mars.internal-1664777393.7171307-11282-15-0aec1acc-7e46-4120-8e28-37d20cb1f0f7.nc to /Users/jhayron/Data/ERA5/2013/ERA5_2013_11.nc (1.2G)\n",
      "2022-10-03 02:14:12,225 INFO Download rate 8.9M/s                                                                                                            \n",
      "2022-10-03 02:14:12,856 INFO Welcome to the CDS\n",
      "2022-10-03 02:14:12,858 INFO Sending request to https://cds.climate.copernicus.eu/api/v2/resources/reanalysis-era5-pressure-levels\n"
     ]
    },
    {
     "name": "stdout",
     "output_type": "stream",
     "text": [
      "Directory already exists.\n"
     ]
    },
    {
     "name": "stderr",
     "output_type": "stream",
     "text": [
      "2022-10-03 02:14:13,059 INFO Request is queued\n",
      "2022-10-03 02:14:14,192 INFO Request is running\n",
      "2022-10-03 02:20:33,161 INFO Request is completed\n",
      "2022-10-03 02:20:33,165 INFO Downloading https://download-0012-clone.copernicus-climate.eu/cache-compute-0012/cache/data7/adaptor.mars.internal-1664777980.761071-22294-3-3fb16250-c7cf-42c3-a01e-f51a7b406735.nc to /Users/jhayron/Data/ERA5/2013/ERA5_2013_12.nc (1.3G)\n",
      "2022-10-03 02:22:45,356 INFO Download rate 9.7M/s                                                                                                            \n"
     ]
    }
   ],
   "source": [
    "import cdsapi\n",
    "from calendar import monthrange\n",
    "import numpy as np\n",
    "import os\n",
    "\n",
    "year = '2013'\n",
    "for month in ['01','02','03','04','05','06','07','08','09','10','11','12']:\n",
    "    number_of_days = monthrange(int(year),int(month))[-1]\n",
    "    days = np.arange(1,number_of_days+1).astype(str).tolist()\n",
    "    path_output = f'/Users/jhayron/Data/ERA5/{year}/'\n",
    "    try:\n",
    "        os.mkdir(path_output)\n",
    "    except:\n",
    "        print('Directory already exists.')\n",
    "\n",
    "    c = cdsapi.Client()\n",
    "\n",
    "    c.retrieve(\n",
    "        'reanalysis-era5-pressure-levels',\n",
    "        {\n",
    "            'product_type': 'reanalysis',\n",
    "            'format': 'netcdf',\n",
    "            'pressure_level': [\n",
    "                '500', '600', '700',\n",
    "                '800', '850', '900',\n",
    "                '950', '1000',\n",
    "            ],\n",
    "            'variable': [\n",
    "                'geopotential', 'relative_humidity', 'specific_humidity',\n",
    "                'u_component_of_wind', 'v_component_of_wind', 'vertical_velocity',\n",
    "            ],\n",
    "            'year': year,\n",
    "            'month': [\n",
    "                month\n",
    "            ],\n",
    "            'day': days,\n",
    "            'time': [\n",
    "                '00:00', '03:00', '06:00',\n",
    "                '09:00', '12:00', '15:00',\n",
    "                '18:00', '21:00',\n",
    "            ],\n",
    "            'area': [\n",
    "                25, -100, -25,\n",
    "                -30,\n",
    "            ],\n",
    "        },\n",
    "        f'{path_output}ERA5_{year}_{month}.nc')"
   ]
  },
  {
   "cell_type": "code",
   "execution_count": 9,
   "id": "d511fa82",
   "metadata": {},
   "outputs": [
    {
     "name": "stderr",
     "output_type": "stream",
     "text": [
      "2022-10-03 02:22:46,033 INFO Welcome to the CDS\n",
      "2022-10-03 02:22:46,034 INFO Sending request to https://cds.climate.copernicus.eu/api/v2/resources/reanalysis-era5-pressure-levels\n",
      "2022-10-03 02:22:46,231 INFO Request is queued\n",
      "2022-10-03 02:22:47,381 INFO Request is running\n",
      "2022-10-03 02:29:06,456 INFO Request is completed\n",
      "2022-10-03 02:29:06,460 INFO Downloading https://download-0000-clone.copernicus-climate.eu/cache-compute-0000/cache/data2/adaptor.mars.internal-1664778467.1899755-1224-3-b0cdbe9b-fe1d-47e1-a75b-df5e294cbded.nc to /Users/jhayron/Data/ERA5/2012/ERA5_2012_01.nc (1.3G)\n",
      "2022-10-03 02:31:37,464 INFO Download rate 8.5M/s                                                                                                            \n",
      "2022-10-03 02:31:38,090 INFO Welcome to the CDS\n",
      "2022-10-03 02:31:38,091 INFO Sending request to https://cds.climate.copernicus.eu/api/v2/resources/reanalysis-era5-pressure-levels\n"
     ]
    },
    {
     "name": "stdout",
     "output_type": "stream",
     "text": [
      "Directory already exists.\n"
     ]
    },
    {
     "name": "stderr",
     "output_type": "stream",
     "text": [
      "2022-10-03 02:31:38,266 INFO Request is queued\n",
      "2022-10-03 02:31:39,403 INFO Request is running\n",
      "2022-10-03 02:37:58,311 INFO Request is completed\n",
      "2022-10-03 02:37:58,315 INFO Downloading https://download-0017.copernicus-climate.eu/cache-compute-0017/cache/data5/adaptor.mars.internal-1664778979.6570883-13870-7-7092d670-c470-4a3d-aa79-2322bb5fa6e0.nc to /Users/jhayron/Data/ERA5/2012/ERA5_2012_02.nc (1.2G)\n",
      "2022-10-03 02:41:14,210 INFO Download rate 6.1M/s                                                                                                            \n",
      "2022-10-03 02:41:14,946 INFO Welcome to the CDS\n",
      "2022-10-03 02:41:14,947 INFO Sending request to https://cds.climate.copernicus.eu/api/v2/resources/reanalysis-era5-pressure-levels\n"
     ]
    },
    {
     "name": "stdout",
     "output_type": "stream",
     "text": [
      "Directory already exists.\n"
     ]
    },
    {
     "name": "stderr",
     "output_type": "stream",
     "text": [
      "2022-10-03 02:41:15,097 INFO Request is queued\n",
      "2022-10-03 02:41:16,235 INFO Request is running\n",
      "2022-10-03 02:47:35,576 INFO Request is completed\n",
      "2022-10-03 02:47:35,580 INFO Downloading https://download-0021.copernicus-climate.eu/cache-compute-0021/cache/data3/adaptor.mars.internal-1664779588.6782587-5004-18-dcbd763b-c723-4a33-9ef0-c4fc63dee2ec.nc to /Users/jhayron/Data/ERA5/2012/ERA5_2012_03.nc (1.3G)\n",
      "2022-10-03 02:50:03,966 INFO Download rate 8.6M/s                                                                                                            \n",
      "2022-10-03 02:50:04,603 INFO Welcome to the CDS\n",
      "2022-10-03 02:50:04,604 INFO Sending request to https://cds.climate.copernicus.eu/api/v2/resources/reanalysis-era5-pressure-levels\n"
     ]
    },
    {
     "name": "stdout",
     "output_type": "stream",
     "text": [
      "Directory already exists.\n"
     ]
    },
    {
     "name": "stderr",
     "output_type": "stream",
     "text": [
      "2022-10-03 02:50:04,759 INFO Request is queued\n",
      "2022-10-03 02:50:05,897 INFO Request is running\n",
      "2022-10-03 02:56:25,895 INFO Request is completed\n",
      "2022-10-03 02:56:25,900 INFO Downloading https://download-0002-clone.copernicus-climate.eu/cache-compute-0002/cache/data4/adaptor.mars.internal-1664780121.6662219-27752-10-0465846e-126b-4823-b503-dd2ec5596012.nc to /Users/jhayron/Data/ERA5/2012/ERA5_2012_04.nc (1.2G)\n",
      "2022-10-03 02:59:02,421 INFO Download rate 7.9M/s                                                                                                            \n",
      "2022-10-03 02:59:03,070 INFO Welcome to the CDS\n",
      "2022-10-03 02:59:03,071 INFO Sending request to https://cds.climate.copernicus.eu/api/v2/resources/reanalysis-era5-pressure-levels\n"
     ]
    },
    {
     "name": "stdout",
     "output_type": "stream",
     "text": [
      "Directory already exists.\n"
     ]
    },
    {
     "name": "stderr",
     "output_type": "stream",
     "text": [
      "2022-10-03 02:59:03,243 INFO Request is queued\n",
      "2022-10-03 02:59:04,376 INFO Request is running\n",
      "2022-10-03 03:05:23,346 INFO Request is completed\n",
      "2022-10-03 03:05:23,350 INFO Downloading https://download-0019.copernicus-climate.eu/cache-compute-0019/cache/data3/adaptor.mars.internal-1664780666.7456026-3614-2-837bc602-29ff-4a5c-b79d-74e08adcfce2.nc to /Users/jhayron/Data/ERA5/2012/ERA5_2012_05.nc (1.3G)\n",
      "2022-10-03 03:07:21,619 INFO Download rate 10.8M/s                                                                                                           \n",
      "2022-10-03 03:07:22,264 INFO Welcome to the CDS\n",
      "2022-10-03 03:07:22,265 INFO Sending request to https://cds.climate.copernicus.eu/api/v2/resources/reanalysis-era5-pressure-levels\n"
     ]
    },
    {
     "name": "stdout",
     "output_type": "stream",
     "text": [
      "Directory already exists.\n"
     ]
    },
    {
     "name": "stderr",
     "output_type": "stream",
     "text": [
      "2022-10-03 03:07:22,417 INFO Request is queued\n",
      "2022-10-03 03:07:23,549 INFO Request is running\n",
      "2022-10-03 03:15:43,109 INFO Request is completed\n",
      "2022-10-03 03:15:43,113 INFO Downloading https://download-0005-clone.copernicus-climate.eu/cache-compute-0005/cache/data1/adaptor.mars.internal-1664781189.3370714-22618-9-8b6b40d2-6340-4426-97bb-664499e0bfd3.nc to /Users/jhayron/Data/ERA5/2012/ERA5_2012_06.nc (1.2G)\n",
      "2022-10-03 03:17:54,671 INFO Download rate 9.4M/s                                                                                                            \n",
      "2022-10-03 03:17:55,331 INFO Welcome to the CDS\n",
      "2022-10-03 03:17:55,333 INFO Sending request to https://cds.climate.copernicus.eu/api/v2/resources/reanalysis-era5-pressure-levels\n"
     ]
    },
    {
     "name": "stdout",
     "output_type": "stream",
     "text": [
      "Directory already exists.\n"
     ]
    },
    {
     "name": "stderr",
     "output_type": "stream",
     "text": [
      "2022-10-03 03:17:55,504 INFO Request is queued\n",
      "2022-10-03 03:17:56,648 INFO Request is running\n",
      "2022-10-03 03:26:16,074 INFO Request is completed\n",
      "2022-10-03 03:26:16,076 INFO Downloading https://download-0012-clone.copernicus-climate.eu/cache-compute-0012/cache/data3/adaptor.mars.internal-1664781847.0058842-20629-8-2dbcb3ba-a522-48d7-a436-7824e7e4cd19.nc to /Users/jhayron/Data/ERA5/2012/ERA5_2012_07.nc (1.3G)\n",
      "2022-10-03 03:28:18,775 INFO Download rate 10.5M/s                                                                                                           \n",
      "2022-10-03 03:28:19,488 INFO Welcome to the CDS\n",
      "2022-10-03 03:28:19,489 INFO Sending request to https://cds.climate.copernicus.eu/api/v2/resources/reanalysis-era5-pressure-levels\n"
     ]
    },
    {
     "name": "stdout",
     "output_type": "stream",
     "text": [
      "Directory already exists.\n"
     ]
    },
    {
     "name": "stderr",
     "output_type": "stream",
     "text": [
      "2022-10-03 03:28:19,633 INFO Request is queued\n",
      "2022-10-03 03:28:20,760 INFO Request is running\n",
      "2022-10-03 03:36:40,167 INFO Request is completed\n",
      "2022-10-03 03:36:40,171 INFO Downloading https://download-0006-clone.copernicus-climate.eu/cache-compute-0006/cache/data5/adaptor.mars.internal-1664782485.2576747-27740-4-8aaa6491-985a-4d00-a9ad-bcec597cf142.nc to /Users/jhayron/Data/ERA5/2012/ERA5_2012_08.nc (1.3G)\n",
      "2022-10-03 03:39:18,716 INFO Download rate 8.1M/s                                                                                                            \n",
      "2022-10-03 03:39:19,399 INFO Welcome to the CDS\n",
      "2022-10-03 03:39:19,400 INFO Sending request to https://cds.climate.copernicus.eu/api/v2/resources/reanalysis-era5-pressure-levels\n"
     ]
    },
    {
     "name": "stdout",
     "output_type": "stream",
     "text": [
      "Directory already exists.\n"
     ]
    },
    {
     "name": "stderr",
     "output_type": "stream",
     "text": [
      "2022-10-03 03:39:19,551 INFO Request is queued\n",
      "2022-10-03 03:39:20,693 INFO Request is running\n",
      "2022-10-03 03:47:40,339 INFO Request is completed\n",
      "2022-10-03 03:47:40,343 INFO Downloading https://download-0014-clone.copernicus-climate.eu/cache-compute-0014/cache/data8/adaptor.mars.internal-1664783100.5993435-28454-13-cf6b4378-f2cb-49a7-b71b-d11454fc6a6d.nc to /Users/jhayron/Data/ERA5/2012/ERA5_2012_09.nc (1.2G)\n",
      "2022-10-03 03:51:40,093 INFO Download rate 5.2M/s                                                                                                            \n",
      "2022-10-03 03:51:40,755 INFO Welcome to the CDS\n",
      "2022-10-03 03:51:40,757 INFO Sending request to https://cds.climate.copernicus.eu/api/v2/resources/reanalysis-era5-pressure-levels\n"
     ]
    },
    {
     "name": "stdout",
     "output_type": "stream",
     "text": [
      "Directory already exists.\n"
     ]
    },
    {
     "name": "stderr",
     "output_type": "stream",
     "text": [
      "2022-10-03 03:51:40,923 INFO Request is queued\n",
      "2022-10-03 03:51:42,073 INFO Request is running\n",
      "2022-10-03 03:58:01,003 INFO Request is completed\n",
      "2022-10-03 03:58:01,005 INFO Downloading https://download-0006-clone.copernicus-climate.eu/cache-compute-0006/cache/data8/adaptor.mars.internal-1664783790.5181255-6040-12-1fbaa4bf-5177-4d17-9014-a7ce728be5ed.nc to /Users/jhayron/Data/ERA5/2012/ERA5_2012_10.nc (1.3G)\n",
      "2022-10-03 04:00:16,783 INFO Download rate 9.4M/s                                                                                                            \n",
      "2022-10-03 04:00:17,425 INFO Welcome to the CDS\n",
      "2022-10-03 04:00:17,426 INFO Sending request to https://cds.climate.copernicus.eu/api/v2/resources/reanalysis-era5-pressure-levels\n"
     ]
    },
    {
     "name": "stdout",
     "output_type": "stream",
     "text": [
      "Directory already exists.\n"
     ]
    },
    {
     "name": "stderr",
     "output_type": "stream",
     "text": [
      "2022-10-03 04:00:17,591 INFO Request is queued\n",
      "2022-10-03 04:00:18,725 INFO Request is running\n",
      "2022-10-03 04:06:37,729 INFO Request is completed\n",
      "2022-10-03 04:06:37,733 INFO Downloading https://download-0009-clone.copernicus-climate.eu/cache-compute-0009/cache/data9/adaptor.mars.internal-1664784341.2486372-7128-16-b11076ae-8e18-4dfc-945e-004ee05dbcaf.nc to /Users/jhayron/Data/ERA5/2012/ERA5_2012_11.nc (1.2G)\n",
      "2022-10-03 04:09:04,073 INFO Download rate 8.5M/s                                                                                                            \n",
      "2022-10-03 04:09:04,776 INFO Welcome to the CDS\n",
      "2022-10-03 04:09:04,778 INFO Sending request to https://cds.climate.copernicus.eu/api/v2/resources/reanalysis-era5-pressure-levels\n"
     ]
    },
    {
     "name": "stdout",
     "output_type": "stream",
     "text": [
      "Directory already exists.\n"
     ]
    },
    {
     "name": "stderr",
     "output_type": "stream",
     "text": [
      "2022-10-03 04:09:04,932 INFO Request is queued\n",
      "2022-10-03 04:09:06,076 INFO Request is running\n",
      "2022-10-03 04:17:25,659 INFO Request is completed\n",
      "2022-10-03 04:17:25,664 INFO Downloading https://download-0014-clone.copernicus-climate.eu/cache-compute-0014/cache/data2/adaptor.mars.internal-1664784901.5263553-11025-16-5d1a0ea4-afff-412b-b986-32ac632880a7.nc to /Users/jhayron/Data/ERA5/2012/ERA5_2012_12.nc (1.3G)\n",
      "2022-10-03 04:20:14,849 INFO Download rate 7.6M/s                                                                                                            \n"
     ]
    }
   ],
   "source": [
    "import cdsapi\n",
    "from calendar import monthrange\n",
    "import numpy as np\n",
    "import os\n",
    "\n",
    "year = '2012'\n",
    "for month in ['01','02','03','04','05','06','07','08','09','10','11','12']:\n",
    "    number_of_days = monthrange(int(year),int(month))[-1]\n",
    "    days = np.arange(1,number_of_days+1).astype(str).tolist()\n",
    "    path_output = f'/Users/jhayron/Data/ERA5/{year}/'\n",
    "    try:\n",
    "        os.mkdir(path_output)\n",
    "    except:\n",
    "        print('Directory already exists.')\n",
    "\n",
    "    c = cdsapi.Client()\n",
    "\n",
    "    c.retrieve(\n",
    "        'reanalysis-era5-pressure-levels',\n",
    "        {\n",
    "            'product_type': 'reanalysis',\n",
    "            'format': 'netcdf',\n",
    "            'pressure_level': [\n",
    "                '500', '600', '700',\n",
    "                '800', '850', '900',\n",
    "                '950', '1000',\n",
    "            ],\n",
    "            'variable': [\n",
    "                'geopotential', 'relative_humidity', 'specific_humidity',\n",
    "                'u_component_of_wind', 'v_component_of_wind', 'vertical_velocity',\n",
    "            ],\n",
    "            'year': year,\n",
    "            'month': [\n",
    "                month\n",
    "            ],\n",
    "            'day': days,\n",
    "            'time': [\n",
    "                '00:00', '03:00', '06:00',\n",
    "                '09:00', '12:00', '15:00',\n",
    "                '18:00', '21:00',\n",
    "            ],\n",
    "            'area': [\n",
    "                25, -100, -25,\n",
    "                -30,\n",
    "            ],\n",
    "        },\n",
    "        f'{path_output}ERA5_{year}_{month}.nc')"
   ]
  },
  {
   "cell_type": "code",
   "execution_count": 10,
   "id": "08b831cb",
   "metadata": {},
   "outputs": [
    {
     "name": "stderr",
     "output_type": "stream",
     "text": [
      "2022-10-03 04:20:15,500 INFO Welcome to the CDS\n",
      "2022-10-03 04:20:15,502 INFO Sending request to https://cds.climate.copernicus.eu/api/v2/resources/reanalysis-era5-pressure-levels\n",
      "2022-10-03 04:20:15,650 INFO Request is queued\n",
      "2022-10-03 04:20:16,796 INFO Request is running\n",
      "2022-10-03 04:26:35,788 INFO Request is completed\n",
      "2022-10-03 04:26:35,790 INFO Downloading https://download-0013-clone.copernicus-climate.eu/cache-compute-0013/cache/data5/adaptor.mars.internal-1664785521.5873384-27450-10-7ea587a9-4ebc-4759-8976-04d14af144ea.nc to /Users/jhayron/Data/ERA5/2011/ERA5_2011_01.nc (1.3G)\n",
      "2022-10-03 04:29:58,717 INFO Download rate 6.3M/s                                                                                                            \n",
      "2022-10-03 04:29:59,473 INFO Welcome to the CDS\n",
      "2022-10-03 04:29:59,474 INFO Sending request to https://cds.climate.copernicus.eu/api/v2/resources/reanalysis-era5-pressure-levels\n"
     ]
    },
    {
     "name": "stdout",
     "output_type": "stream",
     "text": [
      "Directory already exists.\n"
     ]
    },
    {
     "name": "stderr",
     "output_type": "stream",
     "text": [
      "2022-10-03 04:29:59,626 INFO Request is queued\n",
      "2022-10-03 04:30:00,776 INFO Request is running\n",
      "2022-10-03 04:36:19,790 INFO Request is completed\n",
      "2022-10-03 04:36:19,792 INFO Downloading https://download-0015-clone.copernicus-climate.eu/cache-compute-0015/cache/data8/adaptor.mars.internal-1664786081.8849072-13396-18-0299129b-f1e8-4bd4-b612-0edf4b630024.nc to /Users/jhayron/Data/ERA5/2011/ERA5_2011_02.nc (1.1G)\n",
      "                                                                                                                                                             \r"
     ]
    },
    {
     "ename": "OSError",
     "evalue": "[Errno 28] No space left on device",
     "output_type": "error",
     "traceback": [
      "\u001b[0;31m---------------------------------------------------------------------------\u001b[0m",
      "\u001b[0;31mOSError\u001b[0m                                   Traceback (most recent call last)",
      "File \u001b[0;32m/opt/homebrew/Caskroom/miniforge/base/envs/bt_colombia/lib/python3.10/site-packages/cdsapi/api.py:135\u001b[0m, in \u001b[0;36mResult._download\u001b[0;34m(self, url, size, target)\u001b[0m\n\u001b[1;32m    134\u001b[0m \u001b[38;5;28;01mif\u001b[39;00m chunk:\n\u001b[0;32m--> 135\u001b[0m     \u001b[43mf\u001b[49m\u001b[38;5;241;43m.\u001b[39;49m\u001b[43mwrite\u001b[49m\u001b[43m(\u001b[49m\u001b[43mchunk\u001b[49m\u001b[43m)\u001b[49m\n\u001b[1;32m    136\u001b[0m     total \u001b[38;5;241m+\u001b[39m\u001b[38;5;241m=\u001b[39m \u001b[38;5;28mlen\u001b[39m(chunk)\n",
      "\u001b[0;31mOSError\u001b[0m: [Errno 28] No space left on device",
      "\nDuring handling of the above exception, another exception occurred:\n",
      "\u001b[0;31mOSError\u001b[0m                                   Traceback (most recent call last)",
      "Input \u001b[0;32mIn [10]\u001b[0m, in \u001b[0;36m<cell line: 7>\u001b[0;34m()\u001b[0m\n\u001b[1;32m     14\u001b[0m     \u001b[38;5;28mprint\u001b[39m(\u001b[38;5;124m'\u001b[39m\u001b[38;5;124mDirectory already exists.\u001b[39m\u001b[38;5;124m'\u001b[39m)\n\u001b[1;32m     16\u001b[0m c \u001b[38;5;241m=\u001b[39m cdsapi\u001b[38;5;241m.\u001b[39mClient()\n\u001b[0;32m---> 18\u001b[0m \u001b[43mc\u001b[49m\u001b[38;5;241;43m.\u001b[39;49m\u001b[43mretrieve\u001b[49m\u001b[43m(\u001b[49m\n\u001b[1;32m     19\u001b[0m \u001b[43m    \u001b[49m\u001b[38;5;124;43m'\u001b[39;49m\u001b[38;5;124;43mreanalysis-era5-pressure-levels\u001b[39;49m\u001b[38;5;124;43m'\u001b[39;49m\u001b[43m,\u001b[49m\n\u001b[1;32m     20\u001b[0m \u001b[43m    \u001b[49m\u001b[43m{\u001b[49m\n\u001b[1;32m     21\u001b[0m \u001b[43m        \u001b[49m\u001b[38;5;124;43m'\u001b[39;49m\u001b[38;5;124;43mproduct_type\u001b[39;49m\u001b[38;5;124;43m'\u001b[39;49m\u001b[43m:\u001b[49m\u001b[43m \u001b[49m\u001b[38;5;124;43m'\u001b[39;49m\u001b[38;5;124;43mreanalysis\u001b[39;49m\u001b[38;5;124;43m'\u001b[39;49m\u001b[43m,\u001b[49m\n\u001b[1;32m     22\u001b[0m \u001b[43m        \u001b[49m\u001b[38;5;124;43m'\u001b[39;49m\u001b[38;5;124;43mformat\u001b[39;49m\u001b[38;5;124;43m'\u001b[39;49m\u001b[43m:\u001b[49m\u001b[43m \u001b[49m\u001b[38;5;124;43m'\u001b[39;49m\u001b[38;5;124;43mnetcdf\u001b[39;49m\u001b[38;5;124;43m'\u001b[39;49m\u001b[43m,\u001b[49m\n\u001b[1;32m     23\u001b[0m \u001b[43m        \u001b[49m\u001b[38;5;124;43m'\u001b[39;49m\u001b[38;5;124;43mpressure_level\u001b[39;49m\u001b[38;5;124;43m'\u001b[39;49m\u001b[43m:\u001b[49m\u001b[43m \u001b[49m\u001b[43m[\u001b[49m\n\u001b[1;32m     24\u001b[0m \u001b[43m            \u001b[49m\u001b[38;5;124;43m'\u001b[39;49m\u001b[38;5;124;43m500\u001b[39;49m\u001b[38;5;124;43m'\u001b[39;49m\u001b[43m,\u001b[49m\u001b[43m \u001b[49m\u001b[38;5;124;43m'\u001b[39;49m\u001b[38;5;124;43m600\u001b[39;49m\u001b[38;5;124;43m'\u001b[39;49m\u001b[43m,\u001b[49m\u001b[43m \u001b[49m\u001b[38;5;124;43m'\u001b[39;49m\u001b[38;5;124;43m700\u001b[39;49m\u001b[38;5;124;43m'\u001b[39;49m\u001b[43m,\u001b[49m\n\u001b[1;32m     25\u001b[0m \u001b[43m            \u001b[49m\u001b[38;5;124;43m'\u001b[39;49m\u001b[38;5;124;43m800\u001b[39;49m\u001b[38;5;124;43m'\u001b[39;49m\u001b[43m,\u001b[49m\u001b[43m \u001b[49m\u001b[38;5;124;43m'\u001b[39;49m\u001b[38;5;124;43m850\u001b[39;49m\u001b[38;5;124;43m'\u001b[39;49m\u001b[43m,\u001b[49m\u001b[43m \u001b[49m\u001b[38;5;124;43m'\u001b[39;49m\u001b[38;5;124;43m900\u001b[39;49m\u001b[38;5;124;43m'\u001b[39;49m\u001b[43m,\u001b[49m\n\u001b[1;32m     26\u001b[0m \u001b[43m            \u001b[49m\u001b[38;5;124;43m'\u001b[39;49m\u001b[38;5;124;43m950\u001b[39;49m\u001b[38;5;124;43m'\u001b[39;49m\u001b[43m,\u001b[49m\u001b[43m \u001b[49m\u001b[38;5;124;43m'\u001b[39;49m\u001b[38;5;124;43m1000\u001b[39;49m\u001b[38;5;124;43m'\u001b[39;49m\u001b[43m,\u001b[49m\n\u001b[1;32m     27\u001b[0m \u001b[43m        \u001b[49m\u001b[43m]\u001b[49m\u001b[43m,\u001b[49m\n\u001b[1;32m     28\u001b[0m \u001b[43m        \u001b[49m\u001b[38;5;124;43m'\u001b[39;49m\u001b[38;5;124;43mvariable\u001b[39;49m\u001b[38;5;124;43m'\u001b[39;49m\u001b[43m:\u001b[49m\u001b[43m \u001b[49m\u001b[43m[\u001b[49m\n\u001b[1;32m     29\u001b[0m \u001b[43m            \u001b[49m\u001b[38;5;124;43m'\u001b[39;49m\u001b[38;5;124;43mgeopotential\u001b[39;49m\u001b[38;5;124;43m'\u001b[39;49m\u001b[43m,\u001b[49m\u001b[43m \u001b[49m\u001b[38;5;124;43m'\u001b[39;49m\u001b[38;5;124;43mrelative_humidity\u001b[39;49m\u001b[38;5;124;43m'\u001b[39;49m\u001b[43m,\u001b[49m\u001b[43m \u001b[49m\u001b[38;5;124;43m'\u001b[39;49m\u001b[38;5;124;43mspecific_humidity\u001b[39;49m\u001b[38;5;124;43m'\u001b[39;49m\u001b[43m,\u001b[49m\n\u001b[1;32m     30\u001b[0m \u001b[43m            \u001b[49m\u001b[38;5;124;43m'\u001b[39;49m\u001b[38;5;124;43mu_component_of_wind\u001b[39;49m\u001b[38;5;124;43m'\u001b[39;49m\u001b[43m,\u001b[49m\u001b[43m \u001b[49m\u001b[38;5;124;43m'\u001b[39;49m\u001b[38;5;124;43mv_component_of_wind\u001b[39;49m\u001b[38;5;124;43m'\u001b[39;49m\u001b[43m,\u001b[49m\u001b[43m \u001b[49m\u001b[38;5;124;43m'\u001b[39;49m\u001b[38;5;124;43mvertical_velocity\u001b[39;49m\u001b[38;5;124;43m'\u001b[39;49m\u001b[43m,\u001b[49m\n\u001b[1;32m     31\u001b[0m \u001b[43m        \u001b[49m\u001b[43m]\u001b[49m\u001b[43m,\u001b[49m\n\u001b[1;32m     32\u001b[0m \u001b[43m        \u001b[49m\u001b[38;5;124;43m'\u001b[39;49m\u001b[38;5;124;43myear\u001b[39;49m\u001b[38;5;124;43m'\u001b[39;49m\u001b[43m:\u001b[49m\u001b[43m \u001b[49m\u001b[43myear\u001b[49m\u001b[43m,\u001b[49m\n\u001b[1;32m     33\u001b[0m \u001b[43m        \u001b[49m\u001b[38;5;124;43m'\u001b[39;49m\u001b[38;5;124;43mmonth\u001b[39;49m\u001b[38;5;124;43m'\u001b[39;49m\u001b[43m:\u001b[49m\u001b[43m \u001b[49m\u001b[43m[\u001b[49m\n\u001b[1;32m     34\u001b[0m \u001b[43m            \u001b[49m\u001b[43mmonth\u001b[49m\n\u001b[1;32m     35\u001b[0m \u001b[43m        \u001b[49m\u001b[43m]\u001b[49m\u001b[43m,\u001b[49m\n\u001b[1;32m     36\u001b[0m \u001b[43m        \u001b[49m\u001b[38;5;124;43m'\u001b[39;49m\u001b[38;5;124;43mday\u001b[39;49m\u001b[38;5;124;43m'\u001b[39;49m\u001b[43m:\u001b[49m\u001b[43m \u001b[49m\u001b[43mdays\u001b[49m\u001b[43m,\u001b[49m\n\u001b[1;32m     37\u001b[0m \u001b[43m        \u001b[49m\u001b[38;5;124;43m'\u001b[39;49m\u001b[38;5;124;43mtime\u001b[39;49m\u001b[38;5;124;43m'\u001b[39;49m\u001b[43m:\u001b[49m\u001b[43m \u001b[49m\u001b[43m[\u001b[49m\n\u001b[1;32m     38\u001b[0m \u001b[43m            \u001b[49m\u001b[38;5;124;43m'\u001b[39;49m\u001b[38;5;124;43m00:00\u001b[39;49m\u001b[38;5;124;43m'\u001b[39;49m\u001b[43m,\u001b[49m\u001b[43m \u001b[49m\u001b[38;5;124;43m'\u001b[39;49m\u001b[38;5;124;43m03:00\u001b[39;49m\u001b[38;5;124;43m'\u001b[39;49m\u001b[43m,\u001b[49m\u001b[43m \u001b[49m\u001b[38;5;124;43m'\u001b[39;49m\u001b[38;5;124;43m06:00\u001b[39;49m\u001b[38;5;124;43m'\u001b[39;49m\u001b[43m,\u001b[49m\n\u001b[1;32m     39\u001b[0m \u001b[43m            \u001b[49m\u001b[38;5;124;43m'\u001b[39;49m\u001b[38;5;124;43m09:00\u001b[39;49m\u001b[38;5;124;43m'\u001b[39;49m\u001b[43m,\u001b[49m\u001b[43m \u001b[49m\u001b[38;5;124;43m'\u001b[39;49m\u001b[38;5;124;43m12:00\u001b[39;49m\u001b[38;5;124;43m'\u001b[39;49m\u001b[43m,\u001b[49m\u001b[43m \u001b[49m\u001b[38;5;124;43m'\u001b[39;49m\u001b[38;5;124;43m15:00\u001b[39;49m\u001b[38;5;124;43m'\u001b[39;49m\u001b[43m,\u001b[49m\n\u001b[1;32m     40\u001b[0m \u001b[43m            \u001b[49m\u001b[38;5;124;43m'\u001b[39;49m\u001b[38;5;124;43m18:00\u001b[39;49m\u001b[38;5;124;43m'\u001b[39;49m\u001b[43m,\u001b[49m\u001b[43m \u001b[49m\u001b[38;5;124;43m'\u001b[39;49m\u001b[38;5;124;43m21:00\u001b[39;49m\u001b[38;5;124;43m'\u001b[39;49m\u001b[43m,\u001b[49m\n\u001b[1;32m     41\u001b[0m \u001b[43m        \u001b[49m\u001b[43m]\u001b[49m\u001b[43m,\u001b[49m\n\u001b[1;32m     42\u001b[0m \u001b[43m        \u001b[49m\u001b[38;5;124;43m'\u001b[39;49m\u001b[38;5;124;43marea\u001b[39;49m\u001b[38;5;124;43m'\u001b[39;49m\u001b[43m:\u001b[49m\u001b[43m \u001b[49m\u001b[43m[\u001b[49m\n\u001b[1;32m     43\u001b[0m \u001b[43m            \u001b[49m\u001b[38;5;241;43m25\u001b[39;49m\u001b[43m,\u001b[49m\u001b[43m \u001b[49m\u001b[38;5;241;43m-\u001b[39;49m\u001b[38;5;241;43m100\u001b[39;49m\u001b[43m,\u001b[49m\u001b[43m \u001b[49m\u001b[38;5;241;43m-\u001b[39;49m\u001b[38;5;241;43m25\u001b[39;49m\u001b[43m,\u001b[49m\n\u001b[1;32m     44\u001b[0m \u001b[43m            \u001b[49m\u001b[38;5;241;43m-\u001b[39;49m\u001b[38;5;241;43m30\u001b[39;49m\u001b[43m,\u001b[49m\n\u001b[1;32m     45\u001b[0m \u001b[43m        \u001b[49m\u001b[43m]\u001b[49m\u001b[43m,\u001b[49m\n\u001b[1;32m     46\u001b[0m \u001b[43m    \u001b[49m\u001b[43m}\u001b[49m\u001b[43m,\u001b[49m\n\u001b[1;32m     47\u001b[0m \u001b[43m    \u001b[49m\u001b[38;5;124;43mf\u001b[39;49m\u001b[38;5;124;43m'\u001b[39;49m\u001b[38;5;132;43;01m{\u001b[39;49;00m\u001b[43mpath_output\u001b[49m\u001b[38;5;132;43;01m}\u001b[39;49;00m\u001b[38;5;124;43mERA5_\u001b[39;49m\u001b[38;5;132;43;01m{\u001b[39;49;00m\u001b[43myear\u001b[49m\u001b[38;5;132;43;01m}\u001b[39;49;00m\u001b[38;5;124;43m_\u001b[39;49m\u001b[38;5;132;43;01m{\u001b[39;49;00m\u001b[43mmonth\u001b[49m\u001b[38;5;132;43;01m}\u001b[39;49;00m\u001b[38;5;124;43m.nc\u001b[39;49m\u001b[38;5;124;43m'\u001b[39;49m\u001b[43m)\u001b[49m\n",
      "File \u001b[0;32m/opt/homebrew/Caskroom/miniforge/base/envs/bt_colombia/lib/python3.10/site-packages/cdsapi/api.py:350\u001b[0m, in \u001b[0;36mClient.retrieve\u001b[0;34m(self, name, request, target)\u001b[0m\n\u001b[1;32m    348\u001b[0m result \u001b[38;5;241m=\u001b[39m \u001b[38;5;28mself\u001b[39m\u001b[38;5;241m.\u001b[39m_api(\u001b[38;5;124m\"\u001b[39m\u001b[38;5;132;01m%s\u001b[39;00m\u001b[38;5;124m/resources/\u001b[39m\u001b[38;5;132;01m%s\u001b[39;00m\u001b[38;5;124m\"\u001b[39m \u001b[38;5;241m%\u001b[39m (\u001b[38;5;28mself\u001b[39m\u001b[38;5;241m.\u001b[39murl, name), request, \u001b[38;5;124m\"\u001b[39m\u001b[38;5;124mPOST\u001b[39m\u001b[38;5;124m\"\u001b[39m)\n\u001b[1;32m    349\u001b[0m \u001b[38;5;28;01mif\u001b[39;00m target \u001b[38;5;129;01mis\u001b[39;00m \u001b[38;5;129;01mnot\u001b[39;00m \u001b[38;5;28;01mNone\u001b[39;00m:\n\u001b[0;32m--> 350\u001b[0m     \u001b[43mresult\u001b[49m\u001b[38;5;241;43m.\u001b[39;49m\u001b[43mdownload\u001b[49m\u001b[43m(\u001b[49m\u001b[43mtarget\u001b[49m\u001b[43m)\u001b[49m\n\u001b[1;32m    351\u001b[0m \u001b[38;5;28;01mreturn\u001b[39;00m result\n",
      "File \u001b[0;32m/opt/homebrew/Caskroom/miniforge/base/envs/bt_colombia/lib/python3.10/site-packages/cdsapi/api.py:173\u001b[0m, in \u001b[0;36mResult.download\u001b[0;34m(self, target)\u001b[0m\n\u001b[1;32m    172\u001b[0m \u001b[38;5;28;01mdef\u001b[39;00m \u001b[38;5;21mdownload\u001b[39m(\u001b[38;5;28mself\u001b[39m, target\u001b[38;5;241m=\u001b[39m\u001b[38;5;28;01mNone\u001b[39;00m):\n\u001b[0;32m--> 173\u001b[0m     \u001b[38;5;28;01mreturn\u001b[39;00m \u001b[38;5;28;43mself\u001b[39;49m\u001b[38;5;241;43m.\u001b[39;49m\u001b[43m_download\u001b[49m\u001b[43m(\u001b[49m\u001b[38;5;28;43mself\u001b[39;49m\u001b[38;5;241;43m.\u001b[39;49m\u001b[43mlocation\u001b[49m\u001b[43m,\u001b[49m\u001b[43m \u001b[49m\u001b[38;5;28;43mself\u001b[39;49m\u001b[38;5;241;43m.\u001b[39;49m\u001b[43mcontent_length\u001b[49m\u001b[43m,\u001b[49m\u001b[43m \u001b[49m\u001b[43mtarget\u001b[49m\u001b[43m)\u001b[49m\n",
      "File \u001b[0;32m/opt/homebrew/Caskroom/miniforge/base/envs/bt_colombia/lib/python3.10/site-packages/cdsapi/api.py:132\u001b[0m, in \u001b[0;36mResult._download\u001b[0;34m(self, url, size, target)\u001b[0m\n\u001b[1;32m    123\u001b[0m \u001b[38;5;28;01mwith\u001b[39;00m tqdm(\n\u001b[1;32m    124\u001b[0m     total\u001b[38;5;241m=\u001b[39msize,\n\u001b[1;32m    125\u001b[0m     unit_scale\u001b[38;5;241m=\u001b[39m\u001b[38;5;28;01mTrue\u001b[39;00m,\n\u001b[0;32m   (...)\u001b[0m\n\u001b[1;32m    129\u001b[0m     leave\u001b[38;5;241m=\u001b[39m\u001b[38;5;28;01mFalse\u001b[39;00m,\n\u001b[1;32m    130\u001b[0m ) \u001b[38;5;28;01mas\u001b[39;00m pbar:\n\u001b[1;32m    131\u001b[0m     pbar\u001b[38;5;241m.\u001b[39mupdate(total)\n\u001b[0;32m--> 132\u001b[0m     \u001b[38;5;28;01mwith\u001b[39;00m \u001b[38;5;28mopen\u001b[39m(target, mode) \u001b[38;5;28;01mas\u001b[39;00m f:\n\u001b[1;32m    133\u001b[0m         \u001b[38;5;28;01mfor\u001b[39;00m chunk \u001b[38;5;129;01min\u001b[39;00m r\u001b[38;5;241m.\u001b[39miter_content(chunk_size\u001b[38;5;241m=\u001b[39m\u001b[38;5;241m1024\u001b[39m):\n\u001b[1;32m    134\u001b[0m             \u001b[38;5;28;01mif\u001b[39;00m chunk:\n",
      "\u001b[0;31mOSError\u001b[0m: [Errno 28] No space left on device"
     ]
    }
   ],
   "source": [
    "import cdsapi\n",
    "from calendar import monthrange\n",
    "import numpy as np\n",
    "import os\n",
    "\n",
    "year = '2011'\n",
    "for month in ['01','02','03','04','05','06','07','08','09','10','11','12']:\n",
    "    number_of_days = monthrange(int(year),int(month))[-1]\n",
    "    days = np.arange(1,number_of_days+1).astype(str).tolist()\n",
    "    path_output = f'/Users/jhayron/Data/ERA5/{year}/'\n",
    "    try:\n",
    "        os.mkdir(path_output)\n",
    "    except:\n",
    "        print('Directory already exists.')\n",
    "\n",
    "    c = cdsapi.Client()\n",
    "\n",
    "    c.retrieve(\n",
    "        'reanalysis-era5-pressure-levels',\n",
    "        {\n",
    "            'product_type': 'reanalysis',\n",
    "            'format': 'netcdf',\n",
    "            'pressure_level': [\n",
    "                '500', '600', '700',\n",
    "                '800', '850', '900',\n",
    "                '950', '1000',\n",
    "            ],\n",
    "            'variable': [\n",
    "                'geopotential', 'relative_humidity', 'specific_humidity',\n",
    "                'u_component_of_wind', 'v_component_of_wind', 'vertical_velocity',\n",
    "            ],\n",
    "            'year': year,\n",
    "            'month': [\n",
    "                month\n",
    "            ],\n",
    "            'day': days,\n",
    "            'time': [\n",
    "                '00:00', '03:00', '06:00',\n",
    "                '09:00', '12:00', '15:00',\n",
    "                '18:00', '21:00',\n",
    "            ],\n",
    "            'area': [\n",
    "                25, -100, -25,\n",
    "                -30,\n",
    "            ],\n",
    "        },\n",
    "        f'{path_output}ERA5_{year}_{month}.nc')"
   ]
  },
  {
   "cell_type": "code",
   "execution_count": null,
   "id": "095edcdd",
   "metadata": {},
   "outputs": [],
   "source": [
    "import cdsapi\n",
    "from calendar import monthrange\n",
    "import numpy as np\n",
    "import os\n",
    "\n",
    "year = '2010'\n",
    "for month in ['01','02','03','04','05','06','07','08','09','10','11','12']:\n",
    "    number_of_days = monthrange(int(year),int(month))[-1]\n",
    "    days = np.arange(1,number_of_days+1).astype(str).tolist()\n",
    "    path_output = f'/Users/jhayron/Data/ERA5/{year}/'\n",
    "    try:\n",
    "        os.mkdir(path_output)\n",
    "    except:\n",
    "        print('Directory already exists.')\n",
    "\n",
    "    c = cdsapi.Client()\n",
    "\n",
    "    c.retrieve(\n",
    "        'reanalysis-era5-pressure-levels',\n",
    "        {\n",
    "            'product_type': 'reanalysis',\n",
    "            'format': 'netcdf',\n",
    "            'pressure_level': [\n",
    "                '500', '600', '700',\n",
    "                '800', '850', '900',\n",
    "                '950', '1000',\n",
    "            ],\n",
    "            'variable': [\n",
    "                'geopotential', 'relative_humidity', 'specific_humidity',\n",
    "                'u_component_of_wind', 'v_component_of_wind', 'vertical_velocity',\n",
    "            ],\n",
    "            'year': year,\n",
    "            'month': [\n",
    "                month\n",
    "            ],\n",
    "            'day': days,\n",
    "            'time': [\n",
    "                '00:00', '03:00', '06:00',\n",
    "                '09:00', '12:00', '15:00',\n",
    "                '18:00', '21:00',\n",
    "            ],\n",
    "            'area': [\n",
    "                25, -100, -25,\n",
    "                -30,\n",
    "            ],\n",
    "        },\n",
    "        f'{path_output}ERA5_{year}_{month}.nc')"
   ]
  },
  {
   "cell_type": "code",
   "execution_count": null,
   "id": "bdf4c3f3",
   "metadata": {},
   "outputs": [],
   "source": []
  },
  {
   "cell_type": "code",
   "execution_count": null,
   "id": "f5bf3ac1",
   "metadata": {},
   "outputs": [],
   "source": []
  }
 ],
 "metadata": {
  "kernelspec": {
   "display_name": "Python 3 (ipykernel)",
   "language": "python",
   "name": "python3"
  },
  "language_info": {
   "codemirror_mode": {
    "name": "ipython",
    "version": 3
   },
   "file_extension": ".py",
   "mimetype": "text/x-python",
   "name": "python",
   "nbconvert_exporter": "python",
   "pygments_lexer": "ipython3",
   "version": "3.10.6"
  }
 },
 "nbformat": 4,
 "nbformat_minor": 5
}
