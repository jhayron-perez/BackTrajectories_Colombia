{
 "cells": [
  {
   "cell_type": "code",
   "execution_count": 1,
   "id": "fcb322f2",
   "metadata": {},
   "outputs": [
    {
     "name": "stdout",
     "output_type": "stream",
     "text": [
      "Directory already exists.\n"
     ]
    },
    {
     "name": "stderr",
     "output_type": "stream",
     "text": [
      "2022-10-04 09:17:23,471 INFO Welcome to the CDS\n",
      "2022-10-04 09:17:23,472 INFO Sending request to https://cds.climate.copernicus.eu/api/v2/resources/reanalysis-era5-pressure-levels\n",
      "2022-10-04 09:17:23,816 INFO Request is completed\n",
      "2022-10-04 09:17:23,816 INFO Downloading https://download-0013-clone.copernicus-climate.eu/cache-compute-0013/cache/data5/adaptor.mars.internal-1664785521.5873384-27450-10-7ea587a9-4ebc-4759-8976-04d14af144ea.nc to /Users/jhayron/Data/ERA5/2011/ERA5_2011_01.nc (1.3G)\n",
      "2022-10-04 09:21:34,158 INFO Download rate 5.1M/s                                                                                                            \n",
      "2022-10-04 09:21:34,804 INFO Welcome to the CDS\n",
      "2022-10-04 09:21:34,805 INFO Sending request to https://cds.climate.copernicus.eu/api/v2/resources/reanalysis-era5-pressure-levels\n"
     ]
    },
    {
     "name": "stdout",
     "output_type": "stream",
     "text": [
      "Directory already exists.\n"
     ]
    },
    {
     "name": "stderr",
     "output_type": "stream",
     "text": [
      "2022-10-04 09:21:35,014 INFO Request is completed\n",
      "2022-10-04 09:21:35,016 INFO Downloading https://download-0015-clone.copernicus-climate.eu/cache-compute-0015/cache/data8/adaptor.mars.internal-1664786081.8849072-13396-18-0299129b-f1e8-4bd4-b612-0edf4b630024.nc to /Users/jhayron/Data/ERA5/2011/ERA5_2011_02.nc (1.1G)\n",
      "2022-10-04 09:25:23,947 INFO Download rate 5.1M/s                                                                                                            \n",
      "2022-10-04 09:25:24,592 INFO Welcome to the CDS\n",
      "2022-10-04 09:25:24,593 INFO Sending request to https://cds.climate.copernicus.eu/api/v2/resources/reanalysis-era5-pressure-levels\n"
     ]
    },
    {
     "name": "stdout",
     "output_type": "stream",
     "text": [
      "Directory already exists.\n"
     ]
    },
    {
     "name": "stderr",
     "output_type": "stream",
     "text": [
      "2022-10-04 09:25:24,747 INFO Request is queued\n",
      "2022-10-04 09:25:25,875 INFO Request is running\n",
      "2022-10-04 09:33:45,594 INFO Request is completed\n",
      "2022-10-04 09:33:45,596 INFO Downloading https://download-0007-clone.copernicus-climate.eu/cache-compute-0007/cache/data0/adaptor.mars.internal-1664890342.3390312-8870-5-9b232b76-103d-4e72-8b29-b9d30158881f.nc to /Users/jhayron/Data/ERA5/2011/ERA5_2011_03.nc (1.3G)\n",
      "2022-10-04 09:37:28,963 INFO Download rate 5.7M/s                                                                                                            \n",
      "2022-10-04 09:37:29,605 INFO Welcome to the CDS\n",
      "2022-10-04 09:37:29,607 INFO Sending request to https://cds.climate.copernicus.eu/api/v2/resources/reanalysis-era5-pressure-levels\n"
     ]
    },
    {
     "name": "stdout",
     "output_type": "stream",
     "text": [
      "Directory already exists.\n"
     ]
    },
    {
     "name": "stderr",
     "output_type": "stream",
     "text": [
      "2022-10-04 09:37:29,760 INFO Request is queued\n",
      "2022-10-04 09:37:32,532 INFO Request is running\n",
      "2022-10-04 09:45:50,438 INFO Request is completed\n",
      "2022-10-04 09:45:50,441 INFO Downloading https://download-0010-clone.copernicus-climate.eu/cache-compute-0010/cache/data2/adaptor.mars.internal-1664891022.7162726-9890-4-15780466-2fef-4787-ba20-d743a508fa0c.nc to /Users/jhayron/Data/ERA5/2011/ERA5_2011_04.nc (1.2G)\n",
      "2022-10-04 09:48:51,984 INFO Download rate 6.8M/s                                                                                                            \n",
      "2022-10-04 09:48:52,677 INFO Welcome to the CDS\n",
      "2022-10-04 09:48:52,679 INFO Sending request to https://cds.climate.copernicus.eu/api/v2/resources/reanalysis-era5-pressure-levels\n"
     ]
    },
    {
     "name": "stdout",
     "output_type": "stream",
     "text": [
      "Directory already exists.\n"
     ]
    },
    {
     "name": "stderr",
     "output_type": "stream",
     "text": [
      "2022-10-04 09:48:53,001 INFO Request is queued\n",
      "2022-10-04 09:48:54,153 INFO Request is running\n",
      "2022-10-04 09:57:14,168 INFO Request is completed\n",
      "2022-10-04 09:57:14,170 INFO Downloading https://download-0016.copernicus-climate.eu/cache-compute-0016/cache/data7/adaptor.mars.internal-1664891716.5919797-28446-14-3d1f6a8a-80cc-48cf-aa99-c19315bf291d.nc to /Users/jhayron/Data/ERA5/2011/ERA5_2011_05.nc (1.3G)\n",
      "2022-10-04 09:59:26,584 INFO Download rate 9.7M/s                                                                                                            \n",
      "2022-10-04 09:59:27,244 INFO Welcome to the CDS\n",
      "2022-10-04 09:59:27,246 INFO Sending request to https://cds.climate.copernicus.eu/api/v2/resources/reanalysis-era5-pressure-levels\n"
     ]
    },
    {
     "name": "stdout",
     "output_type": "stream",
     "text": [
      "Directory already exists.\n"
     ]
    },
    {
     "name": "stderr",
     "output_type": "stream",
     "text": [
      "2022-10-04 09:59:27,382 INFO Request is queued\n",
      "2022-10-04 09:59:49,018 INFO Request is running\n",
      "2022-10-04 10:07:48,246 INFO Request is completed\n",
      "2022-10-04 10:07:48,248 INFO Downloading https://download-0009-clone.copernicus-climate.eu/cache-compute-0009/cache/data6/adaptor.mars.internal-1664892365.4460475-12573-20-28fc161a-0444-4142-b4e4-1a920bb4ba07.nc to /Users/jhayron/Data/ERA5/2011/ERA5_2011_06.nc (1.2G)\n",
      "2022-10-04 10:09:58,816 INFO Download rate 9.5M/s                                                                                                            \n",
      "2022-10-04 10:09:59,490 INFO Welcome to the CDS\n",
      "2022-10-04 10:09:59,492 INFO Sending request to https://cds.climate.copernicus.eu/api/v2/resources/reanalysis-era5-pressure-levels\n"
     ]
    },
    {
     "name": "stdout",
     "output_type": "stream",
     "text": [
      "Directory already exists.\n"
     ]
    },
    {
     "name": "stderr",
     "output_type": "stream",
     "text": [
      "2022-10-04 10:09:59,658 INFO Request is queued\n",
      "2022-10-04 10:10:13,646 INFO Request is running\n",
      "2022-10-04 10:18:20,465 INFO Request is completed\n",
      "2022-10-04 10:18:20,467 INFO Downloading https://download-0002-clone.copernicus-climate.eu/cache-compute-0002/cache/data1/adaptor.mars.internal-1664892987.1219602-25902-2-8566b1eb-6ea1-4466-8711-5f21166f41b7.nc to /Users/jhayron/Data/ERA5/2011/ERA5_2011_07.nc (1.3G)\n",
      "2022-10-04 10:20:48,216 INFO Download rate 8.7M/s                                                                                                            \n",
      "2022-10-04 10:20:48,890 INFO Welcome to the CDS\n",
      "2022-10-04 10:20:48,892 INFO Sending request to https://cds.climate.copernicus.eu/api/v2/resources/reanalysis-era5-pressure-levels\n"
     ]
    },
    {
     "name": "stdout",
     "output_type": "stream",
     "text": [
      "Directory already exists.\n"
     ]
    },
    {
     "name": "stderr",
     "output_type": "stream",
     "text": [
      "2022-10-04 10:20:49,079 INFO Request is queued\n",
      "2022-10-04 10:20:50,217 INFO Request is running\n",
      "2022-10-04 10:29:09,838 INFO Request is completed\n",
      "2022-10-04 10:29:09,840 INFO Downloading https://download-0015-clone.copernicus-climate.eu/cache-compute-0015/cache/data4/adaptor.mars.internal-1664893616.4294488-17561-3-1f42a3ef-606b-49e1-9477-1ce3d047bb37.nc to /Users/jhayron/Data/ERA5/2011/ERA5_2011_08.nc (1.3G)\n",
      "2022-10-04 10:32:10,814 INFO Download rate 7.1M/s                                                                                                            \n",
      "2022-10-04 10:32:11,450 INFO Welcome to the CDS\n",
      "2022-10-04 10:32:11,452 INFO Sending request to https://cds.climate.copernicus.eu/api/v2/resources/reanalysis-era5-pressure-levels\n"
     ]
    },
    {
     "name": "stdout",
     "output_type": "stream",
     "text": [
      "Directory already exists.\n"
     ]
    },
    {
     "name": "stderr",
     "output_type": "stream",
     "text": [
      "2022-10-04 10:32:11,584 INFO Request is queued\n",
      "2022-10-04 10:32:14,359 INFO Request is running\n",
      "2022-10-04 10:40:32,325 INFO Request is completed\n",
      "2022-10-04 10:40:32,327 INFO Downloading https://download-0019.copernicus-climate.eu/cache-compute-0019/cache/data1/adaptor.mars.internal-1664894324.0960085-13836-2-3aca5a43-5a3d-4b9e-b598-45585c5153fa.nc to /Users/jhayron/Data/ERA5/2011/ERA5_2011_09.nc (1.2G)\n",
      "2022-10-04 10:43:04,727 INFO Download rate 8.1M/s                                                                                                            \n",
      "2022-10-04 10:43:05,368 INFO Welcome to the CDS\n",
      "2022-10-04 10:43:05,370 INFO Sending request to https://cds.climate.copernicus.eu/api/v2/resources/reanalysis-era5-pressure-levels\n"
     ]
    },
    {
     "name": "stdout",
     "output_type": "stream",
     "text": [
      "Directory already exists.\n"
     ]
    },
    {
     "name": "stderr",
     "output_type": "stream",
     "text": [
      "2022-10-04 10:43:05,508 INFO Request is queued\n",
      "2022-10-04 10:43:06,653 INFO Request is running\n",
      "2022-10-04 10:51:26,255 INFO Request is completed\n",
      "2022-10-04 10:51:26,257 INFO Downloading https://download-0019.copernicus-climate.eu/cache-compute-0019/cache/data1/adaptor.mars.internal-1664894951.2712545-20465-2-cd6ddc14-fa67-4344-aad0-2e2c7c49acf1.nc to /Users/jhayron/Data/ERA5/2011/ERA5_2011_10.nc (1.3G)\n",
      "2022-10-04 10:54:10,031 INFO Download rate 7.8M/s                                                                                                            \n",
      "2022-10-04 10:54:10,685 INFO Welcome to the CDS\n",
      "2022-10-04 10:54:10,687 INFO Sending request to https://cds.climate.copernicus.eu/api/v2/resources/reanalysis-era5-pressure-levels\n"
     ]
    },
    {
     "name": "stdout",
     "output_type": "stream",
     "text": [
      "Directory already exists.\n"
     ]
    },
    {
     "name": "stderr",
     "output_type": "stream",
     "text": [
      "2022-10-04 10:54:10,825 INFO Request is queued\n",
      "2022-10-04 10:54:11,968 INFO Request is running\n",
      "2022-10-04 11:02:31,572 INFO Request is completed\n",
      "2022-10-04 11:02:31,574 INFO Downloading https://download-0021.copernicus-climate.eu/cache-compute-0021/cache/data7/adaptor.mars.internal-1664895631.0497243-7038-7-2921ba69-77cb-4cbf-8f48-27d82a7b7b91.nc to /Users/jhayron/Data/ERA5/2011/ERA5_2011_11.nc (1.2G)\n",
      "2022-10-04 11:04:33,364 INFO Download rate 10.2M/s                                                                                                           \n",
      "2022-10-04 11:04:34,052 INFO Welcome to the CDS\n",
      "2022-10-04 11:04:34,054 INFO Sending request to https://cds.climate.copernicus.eu/api/v2/resources/reanalysis-era5-pressure-levels\n"
     ]
    },
    {
     "name": "stdout",
     "output_type": "stream",
     "text": [
      "Directory already exists.\n"
     ]
    },
    {
     "name": "stderr",
     "output_type": "stream",
     "text": [
      "2022-10-04 11:04:34,210 INFO Request is queued\n",
      "2022-10-04 11:04:35,362 INFO Request is running\n",
      "2022-10-04 11:12:55,073 INFO Request is completed\n",
      "2022-10-04 11:12:55,075 INFO Downloading https://download-0016.copernicus-climate.eu/cache-compute-0016/cache/data1/adaptor.mars.internal-1664896222.945699-31780-6-284a4439-08a7-41ff-8a22-de33c68a5da8.nc to /Users/jhayron/Data/ERA5/2011/ERA5_2011_12.nc (1.3G)\n",
      "2022-10-04 11:15:42,502 INFO Download rate 7.7M/s                                                                                                            \n"
     ]
    }
   ],
   "source": [
    "import cdsapi\n",
    "from calendar import monthrange\n",
    "import numpy as np\n",
    "import os\n",
    "\n",
    "year = '2011'\n",
    "for month in ['01','02','03','04','05','06','07','08','09','10','11','12']:\n",
    "    number_of_days = monthrange(int(year),int(month))[-1]\n",
    "    days = np.arange(1,number_of_days+1).astype(str).tolist()\n",
    "    path_output = f'/Users/jhayron/Data/ERA5/{year}/'\n",
    "    try:\n",
    "        os.mkdir(path_output)\n",
    "    except:\n",
    "        print('Directory already exists.')\n",
    "\n",
    "    c = cdsapi.Client()\n",
    "\n",
    "    c.retrieve(\n",
    "        'reanalysis-era5-pressure-levels',\n",
    "        {\n",
    "            'product_type': 'reanalysis',\n",
    "            'format': 'netcdf',\n",
    "            'pressure_level': [\n",
    "                '500', '600', '700',\n",
    "                '800', '850', '900',\n",
    "                '950', '1000',\n",
    "            ],\n",
    "            'variable': [\n",
    "                'geopotential', 'relative_humidity', 'specific_humidity',\n",
    "                'u_component_of_wind', 'v_component_of_wind', 'vertical_velocity',\n",
    "            ],\n",
    "            'year': year,\n",
    "            'month': [\n",
    "                month\n",
    "            ],\n",
    "            'day': days,\n",
    "            'time': [\n",
    "                '00:00', '03:00', '06:00',\n",
    "                '09:00', '12:00', '15:00',\n",
    "                '18:00', '21:00',\n",
    "            ],\n",
    "            'area': [\n",
    "                25, -100, -25,\n",
    "                -30,\n",
    "            ],\n",
    "        },\n",
    "        f'{path_output}ERA5_{year}_{month}.nc')"
   ]
  },
  {
   "cell_type": "code",
   "execution_count": 2,
   "id": "acf00d9d",
   "metadata": {},
   "outputs": [
    {
     "name": "stderr",
     "output_type": "stream",
     "text": [
      "2022-10-04 11:15:43,199 INFO Welcome to the CDS\n",
      "2022-10-04 11:15:43,200 INFO Sending request to https://cds.climate.copernicus.eu/api/v2/resources/reanalysis-era5-pressure-levels\n",
      "2022-10-04 11:15:43,402 INFO Request is queued\n",
      "2022-10-04 11:15:44,557 INFO Request is running\n",
      "2022-10-04 11:24:04,207 INFO Request is completed\n",
      "2022-10-04 11:24:04,209 INFO Downloading https://download-0020.copernicus-climate.eu/cache-compute-0020/cache/data8/adaptor.mars.internal-1664896924.9359653-13284-4-bf49cdcf-8b31-4545-8517-46faf3b29032.nc to /Users/jhayron/Data/ERA5/2010/ERA5_2010_01.nc (1.3G)\n",
      "2022-10-04 11:26:20,204 INFO Download rate 9.4M/s                                                                                                            \n",
      "2022-10-04 11:26:20,881 INFO Welcome to the CDS\n",
      "2022-10-04 11:26:20,883 INFO Sending request to https://cds.climate.copernicus.eu/api/v2/resources/reanalysis-era5-pressure-levels\n"
     ]
    },
    {
     "name": "stdout",
     "output_type": "stream",
     "text": [
      "Directory already exists.\n"
     ]
    },
    {
     "name": "stderr",
     "output_type": "stream",
     "text": [
      "2022-10-04 11:26:21,021 INFO Request is queued\n",
      "2022-10-04 11:26:22,164 INFO Request is running\n",
      "2022-10-04 11:34:41,860 INFO Request is completed\n",
      "2022-10-04 11:34:41,862 INFO Downloading https://download-0012-clone.copernicus-climate.eu/cache-compute-0012/cache/data6/adaptor.mars.internal-1664897546.4414008-25036-12-8745d01f-c754-41bf-aa15-e0359f21de09.nc to /Users/jhayron/Data/ERA5/2010/ERA5_2010_02.nc (1.1G)\n",
      "2022-10-04 11:37:12,596 INFO Download rate 7.7M/s                                                                                                            \n",
      "2022-10-04 11:37:13,256 INFO Welcome to the CDS\n",
      "2022-10-04 11:37:13,258 INFO Sending request to https://cds.climate.copernicus.eu/api/v2/resources/reanalysis-era5-pressure-levels\n"
     ]
    },
    {
     "name": "stdout",
     "output_type": "stream",
     "text": [
      "Directory already exists.\n"
     ]
    },
    {
     "name": "stderr",
     "output_type": "stream",
     "text": [
      "2022-10-04 11:37:13,396 INFO Request is queued\n",
      "2022-10-04 11:37:14,547 INFO Request is running\n",
      "2022-10-04 11:45:34,183 INFO Request is completed\n",
      "2022-10-04 11:45:34,185 INFO Downloading https://download-0019.copernicus-climate.eu/cache-compute-0019/cache/data7/adaptor.mars.internal-1664898207.479317-9976-3-1ddefcef-e20b-45ce-b21d-a1810136745b.nc to /Users/jhayron/Data/ERA5/2010/ERA5_2010_03.nc (1.3G)\n",
      "2022-10-04 11:48:01,875 INFO Download rate 8.7M/s                                                                                                            \n",
      "2022-10-04 11:48:02,576 INFO Welcome to the CDS\n",
      "2022-10-04 11:48:02,578 INFO Sending request to https://cds.climate.copernicus.eu/api/v2/resources/reanalysis-era5-pressure-levels\n"
     ]
    },
    {
     "name": "stdout",
     "output_type": "stream",
     "text": [
      "Directory already exists.\n"
     ]
    },
    {
     "name": "stderr",
     "output_type": "stream",
     "text": [
      "2022-10-04 11:48:02,743 INFO Request is queued\n",
      "2022-10-04 11:48:03,888 INFO Request is running\n",
      "2022-10-04 11:56:23,496 INFO Request is completed\n",
      "2022-10-04 11:56:23,498 INFO Downloading https://download-0007-clone.copernicus-climate.eu/cache-compute-0007/cache/data6/adaptor.mars.internal-1664898860.1267087-4817-6-283a288a-a0b4-4748-bee2-5ddc6f9e10dd.nc to /Users/jhayron/Data/ERA5/2010/ERA5_2010_04.nc (1.2G)\n",
      "2022-10-04 11:58:55,616 INFO Download rate 8.2M/s                                                                                                            \n",
      "2022-10-04 11:58:56,378 INFO Welcome to the CDS\n",
      "2022-10-04 11:58:56,380 INFO Sending request to https://cds.climate.copernicus.eu/api/v2/resources/reanalysis-era5-pressure-levels\n"
     ]
    },
    {
     "name": "stdout",
     "output_type": "stream",
     "text": [
      "Directory already exists.\n"
     ]
    },
    {
     "name": "stderr",
     "output_type": "stream",
     "text": [
      "2022-10-04 11:58:56,533 INFO Request is queued\n",
      "2022-10-04 11:58:57,682 INFO Request is running\n",
      "2022-10-04 12:07:17,990 INFO Request is completed\n",
      "2022-10-04 12:07:17,991 INFO Downloading https://download-0004-clone.copernicus-climate.eu/cache-compute-0004/cache/data3/adaptor.mars.internal-1664899513.3761456-614-15-e40c66ea-0367-4bd8-9c17-b6e282dd693a.nc to /Users/jhayron/Data/ERA5/2010/ERA5_2010_05.nc (1.3G)\n",
      "2022-10-04 12:09:29,070 INFO Download rate 9.8M/s                                                                                                            \n",
      "2022-10-04 12:09:29,770 INFO Welcome to the CDS\n",
      "2022-10-04 12:09:29,772 INFO Sending request to https://cds.climate.copernicus.eu/api/v2/resources/reanalysis-era5-pressure-levels\n"
     ]
    },
    {
     "name": "stdout",
     "output_type": "stream",
     "text": [
      "Directory already exists.\n"
     ]
    },
    {
     "name": "stderr",
     "output_type": "stream",
     "text": [
      "2022-10-04 12:09:29,916 INFO Request is queued\n",
      "2022-10-04 12:09:31,065 INFO Request is running\n",
      "2022-10-04 12:17:50,821 INFO Request is completed\n",
      "2022-10-04 12:17:50,823 INFO Downloading https://download-0015-clone.copernicus-climate.eu/cache-compute-0015/cache/data3/adaptor.mars.internal-1664900125.6071258-3605-15-0cb24a73-99b7-48da-b94f-34625f365177.nc to /Users/jhayron/Data/ERA5/2010/ERA5_2010_06.nc (1.2G)\n",
      "2022-10-04 12:20:03,981 INFO Download rate 9.3M/s                                                                                                            \n",
      "2022-10-04 12:20:04,643 INFO Welcome to the CDS\n",
      "2022-10-04 12:20:04,645 INFO Sending request to https://cds.climate.copernicus.eu/api/v2/resources/reanalysis-era5-pressure-levels\n"
     ]
    },
    {
     "name": "stdout",
     "output_type": "stream",
     "text": [
      "Directory already exists.\n"
     ]
    },
    {
     "name": "stderr",
     "output_type": "stream",
     "text": [
      "2022-10-04 12:20:04,804 INFO Request is queued\n",
      "2022-10-04 12:20:05,939 INFO Request is running\n",
      "2022-10-04 12:28:25,408 INFO Request is completed\n",
      "2022-10-04 12:28:25,410 INFO Downloading https://download-0016.copernicus-climate.eu/cache-compute-0016/cache/data7/adaptor.mars.internal-1664900754.1065211-10022-1-1bd6b9b0-eb0a-426a-9e30-f0cf43a5e9a1.nc to /Users/jhayron/Data/ERA5/2010/ERA5_2010_07.nc (1.3G)\n",
      "2022-10-04 12:30:29,522 INFO Download rate 10.3M/s                                                                                                           \n",
      "2022-10-04 12:30:30,237 INFO Welcome to the CDS\n",
      "2022-10-04 12:30:30,238 INFO Sending request to https://cds.climate.copernicus.eu/api/v2/resources/reanalysis-era5-pressure-levels\n"
     ]
    },
    {
     "name": "stdout",
     "output_type": "stream",
     "text": [
      "Directory already exists.\n"
     ]
    },
    {
     "name": "stderr",
     "output_type": "stream",
     "text": [
      "2022-10-04 12:30:30,389 INFO Request is queued\n",
      "2022-10-04 12:30:31,529 INFO Request is running\n",
      "2022-10-04 12:38:51,037 INFO Request is completed\n",
      "2022-10-04 12:38:51,039 INFO Downloading https://download-0013-clone.copernicus-climate.eu/cache-compute-0013/cache/data7/adaptor.mars.internal-1664901423.5672767-17433-18-63606cad-995d-4c96-9896-a5e6b6b453dc.nc to /Users/jhayron/Data/ERA5/2010/ERA5_2010_08.nc (1.3G)\n",
      "2022-10-04 12:41:06,988 INFO Download rate 9.4M/s                                                                                                            \n",
      "2022-10-04 12:41:07,653 INFO Welcome to the CDS\n",
      "2022-10-04 12:41:07,655 INFO Sending request to https://cds.climate.copernicus.eu/api/v2/resources/reanalysis-era5-pressure-levels\n"
     ]
    },
    {
     "name": "stdout",
     "output_type": "stream",
     "text": [
      "Directory already exists.\n"
     ]
    },
    {
     "name": "stderr",
     "output_type": "stream",
     "text": [
      "2022-10-04 12:41:07,793 INFO Request is queued\n",
      "2022-10-04 12:41:08,926 INFO Request is running\n",
      "2022-10-04 12:49:28,532 INFO Request is completed\n",
      "2022-10-04 12:49:28,533 INFO Downloading https://download-0006-clone.copernicus-climate.eu/cache-compute-0006/cache/data6/adaptor.mars.internal-1664902040.3399131-1320-20-017db5f4-8673-46e0-8814-968076053db5.nc to /Users/jhayron/Data/ERA5/2010/ERA5_2010_09.nc (1.2G)\n",
      "2022-10-04 12:51:50,979 INFO Download rate 8.7M/s                                                                                                            \n",
      "2022-10-04 12:51:51,613 INFO Welcome to the CDS\n",
      "2022-10-04 12:51:51,615 INFO Sending request to https://cds.climate.copernicus.eu/api/v2/resources/reanalysis-era5-pressure-levels\n"
     ]
    },
    {
     "name": "stdout",
     "output_type": "stream",
     "text": [
      "Directory already exists.\n"
     ]
    },
    {
     "name": "stderr",
     "output_type": "stream",
     "text": [
      "2022-10-04 12:51:51,754 INFO Request is queued\n",
      "2022-10-04 12:51:52,888 INFO Request is running\n",
      "2022-10-04 13:00:12,366 INFO Request is completed\n",
      "2022-10-04 13:00:12,368 INFO Downloading https://download-0004-clone.copernicus-climate.eu/cache-compute-0004/cache/data3/adaptor.mars.internal-1664902650.7133858-2899-9-7f6c7862-a5a9-4181-b128-a421fff1a441.nc to /Users/jhayron/Data/ERA5/2010/ERA5_2010_10.nc (1.3G)\n",
      "2022-10-04 13:02:33,945 INFO Download rate 9.1M/s                                                                                                            \n",
      "2022-10-04 13:02:34,717 INFO Welcome to the CDS\n",
      "2022-10-04 13:02:34,719 INFO Sending request to https://cds.climate.copernicus.eu/api/v2/resources/reanalysis-era5-pressure-levels\n"
     ]
    },
    {
     "name": "stdout",
     "output_type": "stream",
     "text": [
      "Directory already exists.\n"
     ]
    },
    {
     "name": "stderr",
     "output_type": "stream",
     "text": [
      "2022-10-04 13:02:34,865 INFO Request is queued\n",
      "2022-10-04 13:02:36,016 INFO Request is running\n",
      "2022-10-04 13:10:55,655 INFO Request is completed\n",
      "2022-10-04 13:10:55,657 INFO Downloading https://download-0015-clone.copernicus-climate.eu/cache-compute-0015/cache/data4/adaptor.mars.internal-1664903294.7541385-28445-16-0e08ab90-9916-4e3a-87f0-5dec741d0376.nc to /Users/jhayron/Data/ERA5/2010/ERA5_2010_11.nc (1.2G)\n",
      "2022-10-04 13:13:38,976 INFO Download rate 7.6M/s                                                                                                            \n",
      "2022-10-04 13:13:39,628 INFO Welcome to the CDS\n",
      "2022-10-04 13:13:39,629 INFO Sending request to https://cds.climate.copernicus.eu/api/v2/resources/reanalysis-era5-pressure-levels\n"
     ]
    },
    {
     "name": "stdout",
     "output_type": "stream",
     "text": [
      "Directory already exists.\n"
     ]
    },
    {
     "name": "stderr",
     "output_type": "stream",
     "text": [
      "2022-10-04 13:13:39,822 INFO Request is queued\n",
      "2022-10-04 13:13:40,975 INFO Request is running\n",
      "2022-10-04 13:22:00,738 INFO Request is completed\n",
      "2022-10-04 13:22:00,740 INFO Downloading https://download-0005-clone.copernicus-climate.eu/cache-compute-0005/cache/data8/adaptor.mars.internal-1664903958.233891-26375-14-235bb843-35f4-4fca-a5be-aff16576b0e3.nc to /Users/jhayron/Data/ERA5/2010/ERA5_2010_12.nc (1.3G)\n",
      "2022-10-04 13:24:46,782 INFO Download rate 7.7M/s                                                                                                            \n"
     ]
    }
   ],
   "source": [
    "import cdsapi\n",
    "from calendar import monthrange\n",
    "import numpy as np\n",
    "import os\n",
    "\n",
    "year = '2010'\n",
    "for month in ['01','02','03','04','05','06','07','08','09','10','11','12']:\n",
    "    number_of_days = monthrange(int(year),int(month))[-1]\n",
    "    days = np.arange(1,number_of_days+1).astype(str).tolist()\n",
    "    path_output = f'/Users/jhayron/Data/ERA5/{year}/'\n",
    "    try:\n",
    "        os.mkdir(path_output)\n",
    "    except:\n",
    "        print('Directory already exists.')\n",
    "\n",
    "    c = cdsapi.Client()\n",
    "\n",
    "    c.retrieve(\n",
    "        'reanalysis-era5-pressure-levels',\n",
    "        {\n",
    "            'product_type': 'reanalysis',\n",
    "            'format': 'netcdf',\n",
    "            'pressure_level': [\n",
    "                '500', '600', '700',\n",
    "                '800', '850', '900',\n",
    "                '950', '1000',\n",
    "            ],\n",
    "            'variable': [\n",
    "                'geopotential', 'relative_humidity', 'specific_humidity',\n",
    "                'u_component_of_wind', 'v_component_of_wind', 'vertical_velocity',\n",
    "            ],\n",
    "            'year': year,\n",
    "            'month': [\n",
    "                month\n",
    "            ],\n",
    "            'day': days,\n",
    "            'time': [\n",
    "                '00:00', '03:00', '06:00',\n",
    "                '09:00', '12:00', '15:00',\n",
    "                '18:00', '21:00',\n",
    "            ],\n",
    "            'area': [\n",
    "                25, -100, -25,\n",
    "                -30,\n",
    "            ],\n",
    "        },\n",
    "        f'{path_output}ERA5_{year}_{month}.nc')"
   ]
  },
  {
   "cell_type": "code",
   "execution_count": 3,
   "id": "da03c7f4",
   "metadata": {},
   "outputs": [
    {
     "name": "stderr",
     "output_type": "stream",
     "text": [
      "2022-10-04 13:24:47,461 INFO Welcome to the CDS\n",
      "2022-10-04 13:24:47,463 INFO Sending request to https://cds.climate.copernicus.eu/api/v2/resources/reanalysis-era5-pressure-levels\n",
      "2022-10-04 13:24:47,602 INFO Request is queued\n",
      "2022-10-04 13:24:48,740 INFO Request is running\n",
      "2022-10-04 13:33:08,213 INFO Request is completed\n",
      "2022-10-04 13:33:08,215 INFO Downloading https://download-0004-clone.copernicus-climate.eu/cache-compute-0004/cache/data3/adaptor.mars.internal-1664904656.0115523-15399-15-57c8dbc1-d6cd-462f-a5c3-fd64225da7c6.nc to /Users/jhayron/Data/ERA5/2009/ERA5_2009_01.nc (1.3G)\n",
      "2022-10-04 13:35:45,840 INFO Download rate 8.1M/s                                                                                                            \n",
      "2022-10-04 13:35:46,570 INFO Welcome to the CDS\n",
      "2022-10-04 13:35:46,572 INFO Sending request to https://cds.climate.copernicus.eu/api/v2/resources/reanalysis-era5-pressure-levels\n"
     ]
    },
    {
     "name": "stdout",
     "output_type": "stream",
     "text": [
      "Directory already exists.\n"
     ]
    },
    {
     "name": "stderr",
     "output_type": "stream",
     "text": [
      "2022-10-04 13:35:46,719 INFO Request is queued\n",
      "2022-10-04 13:35:47,866 INFO Request is running\n",
      "2022-10-04 13:42:06,856 INFO Request is completed\n",
      "2022-10-04 13:42:06,857 INFO Downloading https://download-0017.copernicus-climate.eu/cache-compute-0017/cache/data4/adaptor.mars.internal-1664905259.8254237-24563-1-9540fefc-5241-410e-96b5-d65e6ff44d9a.nc to /Users/jhayron/Data/ERA5/2009/ERA5_2009_02.nc (1.1G)\n",
      "2022-10-04 13:44:33,245 INFO Download rate 7.9M/s                                                                                                            \n",
      "2022-10-04 13:44:33,927 INFO Welcome to the CDS\n",
      "2022-10-04 13:44:33,928 INFO Sending request to https://cds.climate.copernicus.eu/api/v2/resources/reanalysis-era5-pressure-levels\n"
     ]
    },
    {
     "name": "stdout",
     "output_type": "stream",
     "text": [
      "Directory already exists.\n"
     ]
    },
    {
     "name": "stderr",
     "output_type": "stream",
     "text": [
      "2022-10-04 13:44:34,152 INFO Request is queued\n",
      "2022-10-04 13:44:35,298 INFO Request is running\n",
      "2022-10-04 13:54:55,526 INFO Request is completed\n",
      "2022-10-04 13:54:55,528 INFO Downloading https://download-0013-clone.copernicus-climate.eu/cache-compute-0013/cache/data8/adaptor.mars.internal-1664905930.9472282-25925-15-9a3bfa01-bfdf-4bd6-aa4e-8d36908ce3da.nc to /Users/jhayron/Data/ERA5/2009/ERA5_2009_03.nc (1.3G)\n",
      "2022-10-04 13:57:56,863 INFO Download rate 7.1M/s                                                                                                            \n",
      "2022-10-04 13:57:57,557 INFO Welcome to the CDS\n",
      "2022-10-04 13:57:57,559 INFO Sending request to https://cds.climate.copernicus.eu/api/v2/resources/reanalysis-era5-pressure-levels\n"
     ]
    },
    {
     "name": "stdout",
     "output_type": "stream",
     "text": [
      "Directory already exists.\n"
     ]
    },
    {
     "name": "stderr",
     "output_type": "stream",
     "text": [
      "2022-10-04 13:57:57,727 INFO Request is queued\n",
      "2022-10-04 13:57:58,903 INFO Request is running\n",
      "2022-10-04 14:06:18,524 INFO Request is completed\n",
      "2022-10-04 14:06:18,526 INFO Downloading https://download-0020.copernicus-climate.eu/cache-compute-0020/cache/data4/adaptor.mars.internal-1664906627.8664405-20236-20-5487e8f7-416b-41d8-bf4d-a38c1fae46b9.nc to /Users/jhayron/Data/ERA5/2009/ERA5_2009_04.nc (1.2G)\n",
      "2022-10-04 14:09:13,827 INFO Download rate 7.1M/s                                                                                                            \n",
      "2022-10-04 14:09:14,576 INFO Welcome to the CDS\n",
      "2022-10-04 14:09:14,578 INFO Sending request to https://cds.climate.copernicus.eu/api/v2/resources/reanalysis-era5-pressure-levels\n"
     ]
    },
    {
     "name": "stdout",
     "output_type": "stream",
     "text": [
      "Directory already exists.\n"
     ]
    },
    {
     "name": "stderr",
     "output_type": "stream",
     "text": [
      "2022-10-04 14:09:14,735 INFO Request is queued\n",
      "2022-10-04 14:09:16,249 INFO Request is running\n",
      "2022-10-04 14:19:36,373 INFO Request is queued\n",
      "2022-10-04 14:21:36,910 INFO Request is running\n",
      "2022-10-04 14:27:38,980 INFO Request is queued\n",
      "2022-10-04 14:29:39,496 INFO Request is running\n",
      "2022-10-04 14:35:41,112 INFO Request is queued\n",
      "2022-10-04 14:37:41,693 INFO Request is running\n",
      "2022-10-04 14:45:44,156 INFO Request is completed\n",
      "2022-10-04 14:45:44,159 INFO Downloading https://download-0000-clone.copernicus-climate.eu/cache-compute-0000/cache/data1/adaptor.mars.internal-1664909062.3464699-5422-1-fa559f3b-1a0c-4ea1-a62b-a992bf4b2ed2.nc to /Users/jhayron/Data/ERA5/2009/ERA5_2009_05.nc (1.3G)\n",
      "2022-10-04 14:47:59,542 INFO Download rate 9.5M/s                                                                                                            \n",
      "2022-10-04 14:48:00,598 INFO Welcome to the CDS\n",
      "2022-10-04 14:48:00,600 INFO Sending request to https://cds.climate.copernicus.eu/api/v2/resources/reanalysis-era5-pressure-levels\n"
     ]
    },
    {
     "name": "stdout",
     "output_type": "stream",
     "text": [
      "Directory already exists.\n"
     ]
    },
    {
     "name": "stderr",
     "output_type": "stream",
     "text": [
      "2022-10-04 14:48:00,761 INFO Request is queued\n",
      "2022-10-04 14:48:01,910 INFO Request is running\n",
      "2022-10-04 14:56:21,540 INFO Request is completed\n",
      "2022-10-04 14:56:21,542 INFO Downloading https://download-0017.copernicus-climate.eu/cache-compute-0017/cache/data2/adaptor.mars.internal-1664909700.7756443-12054-4-f9f36b30-1ee9-49bf-b39b-3e1ad3122050.nc to /Users/jhayron/Data/ERA5/2009/ERA5_2009_06.nc (1.2G)\n",
      "2022-10-04 14:59:11,854 INFO Download rate 7.3M/s                                                                                                            \n",
      "2022-10-04 14:59:12,544 INFO Welcome to the CDS\n",
      "2022-10-04 14:59:12,546 INFO Sending request to https://cds.climate.copernicus.eu/api/v2/resources/reanalysis-era5-pressure-levels\n"
     ]
    },
    {
     "name": "stdout",
     "output_type": "stream",
     "text": [
      "Directory already exists.\n"
     ]
    },
    {
     "name": "stderr",
     "output_type": "stream",
     "text": [
      "2022-10-04 14:59:12,701 INFO Request is queued\n",
      "2022-10-04 14:59:13,848 INFO Request is running\n",
      "2022-10-04 15:09:34,117 INFO Request is completed\n",
      "2022-10-04 15:09:34,119 INFO Downloading https://download-0014-clone.copernicus-climate.eu/cache-compute-0014/cache/data9/adaptor.mars.internal-1664910388.6564698-31690-17-844bc7b1-2445-49d5-8a1b-9c8272bd88ff.nc to /Users/jhayron/Data/ERA5/2009/ERA5_2009_07.nc (1.3G)\n",
      "2022-10-04 15:12:11,293 INFO Download rate 8.2M/s                                                                                                            \n",
      "2022-10-04 15:12:11,951 INFO Welcome to the CDS\n",
      "2022-10-04 15:12:11,952 INFO Sending request to https://cds.climate.copernicus.eu/api/v2/resources/reanalysis-era5-pressure-levels\n"
     ]
    },
    {
     "name": "stdout",
     "output_type": "stream",
     "text": [
      "Directory already exists.\n"
     ]
    },
    {
     "name": "stderr",
     "output_type": "stream",
     "text": [
      "2022-10-04 15:12:12,088 INFO Request is queued\n",
      "2022-10-04 15:12:13,237 INFO Request is running\n",
      "2022-10-04 15:20:33,064 INFO Request is completed\n",
      "2022-10-04 15:20:33,066 INFO Downloading https://download-0011-clone.copernicus-climate.eu/cache-compute-0011/cache/data2/adaptor.mars.internal-1664911104.4760356-8396-4-edb9d347-3e7a-429d-80db-3161eb5c6570.nc to /Users/jhayron/Data/ERA5/2009/ERA5_2009_08.nc (1.3G)\n",
      "2022-10-04 15:23:17,383 INFO Download rate 7.8M/s                                                                                                            \n",
      "2022-10-04 15:23:18,041 INFO Welcome to the CDS\n",
      "2022-10-04 15:23:18,043 INFO Sending request to https://cds.climate.copernicus.eu/api/v2/resources/reanalysis-era5-pressure-levels\n"
     ]
    },
    {
     "name": "stdout",
     "output_type": "stream",
     "text": [
      "Directory already exists.\n"
     ]
    },
    {
     "name": "stderr",
     "output_type": "stream",
     "text": [
      "2022-10-04 15:23:18,223 INFO Request is queued\n",
      "2022-10-04 15:23:19,359 INFO Request is running\n",
      "2022-10-04 15:33:39,437 INFO Request is completed\n",
      "2022-10-04 15:33:39,439 INFO Downloading https://download-0003-clone.copernicus-climate.eu/cache-compute-0003/cache/data5/adaptor.mars.internal-1664911876.598682-12150-5-aa96034e-724f-4253-a23f-4d3524788912.nc to /Users/jhayron/Data/ERA5/2009/ERA5_2009_09.nc (1.2G)\n",
      "2022-10-04 15:36:04,895 INFO Download rate 8.5M/s                                                                                                            \n",
      "2022-10-04 15:36:05,589 INFO Welcome to the CDS\n",
      "2022-10-04 15:36:05,591 INFO Sending request to https://cds.climate.copernicus.eu/api/v2/resources/reanalysis-era5-pressure-levels\n"
     ]
    },
    {
     "name": "stdout",
     "output_type": "stream",
     "text": [
      "Directory already exists.\n"
     ]
    },
    {
     "name": "stderr",
     "output_type": "stream",
     "text": [
      "2022-10-04 15:36:05,743 INFO Request is queued\n",
      "2022-10-04 15:36:06,883 INFO Request is running\n",
      "2022-10-04 15:44:26,603 INFO Request is completed\n",
      "2022-10-04 15:44:26,605 INFO Downloading https://download-0015-clone.copernicus-climate.eu/cache-compute-0015/cache/data0/adaptor.mars.internal-1664912569.8926063-17443-12-b4be9b0e-56ce-40da-8efd-f6e840cd38f5.nc to /Users/jhayron/Data/ERA5/2009/ERA5_2009_10.nc (1.3G)\n",
      "2022-10-04 15:46:35,915 INFO Download rate 9.9M/s                                                                                                            \n",
      "2022-10-04 15:46:36,557 INFO Welcome to the CDS\n",
      "2022-10-04 15:46:36,559 INFO Sending request to https://cds.climate.copernicus.eu/api/v2/resources/reanalysis-era5-pressure-levels\n"
     ]
    },
    {
     "name": "stdout",
     "output_type": "stream",
     "text": [
      "Directory already exists.\n"
     ]
    },
    {
     "name": "stderr",
     "output_type": "stream",
     "text": [
      "2022-10-04 15:46:36,711 INFO Request is queued\n",
      "2022-10-04 15:46:37,849 INFO Request is running\n",
      "2022-10-04 15:54:57,447 INFO Request is completed\n",
      "2022-10-04 15:54:57,449 INFO Downloading https://download-0015-clone.copernicus-climate.eu/cache-compute-0015/cache/data5/adaptor.mars.internal-1664913186.9461548-23231-8-0a77db68-2803-4b12-8533-865b1abed082.nc to /Users/jhayron/Data/ERA5/2009/ERA5_2009_11.nc (1.2G)\n",
      "2022-10-04 15:57:32,376 INFO Download rate 8M/s                                                                                                              \n",
      "2022-10-04 15:57:33,074 INFO Welcome to the CDS\n",
      "2022-10-04 15:57:33,076 INFO Sending request to https://cds.climate.copernicus.eu/api/v2/resources/reanalysis-era5-pressure-levels\n"
     ]
    },
    {
     "name": "stdout",
     "output_type": "stream",
     "text": [
      "Directory already exists.\n"
     ]
    },
    {
     "name": "stderr",
     "output_type": "stream",
     "text": [
      "2022-10-04 15:57:33,238 INFO Request is queued\n",
      "2022-10-04 15:57:34,383 INFO Request is running\n",
      "2022-10-04 16:05:53,971 INFO Request is completed\n",
      "2022-10-04 16:05:53,973 INFO Downloading https://download-0009-clone.copernicus-climate.eu/cache-compute-0009/cache/data9/adaptor.mars.internal-1664913848.0946162-29419-2-4aba7bbd-abde-49c1-b057-3e6ac5080518.nc to /Users/jhayron/Data/ERA5/2009/ERA5_2009_12.nc (1.3G)\n",
      "2022-10-04 16:08:36,579 INFO Download rate 7.9M/s                                                                                                            \n"
     ]
    }
   ],
   "source": [
    "import cdsapi\n",
    "from calendar import monthrange\n",
    "import numpy as np\n",
    "import os\n",
    "\n",
    "year = '2009'\n",
    "for month in ['01','02','03','04','05','06','07','08','09','10','11','12']:\n",
    "    number_of_days = monthrange(int(year),int(month))[-1]\n",
    "    days = np.arange(1,number_of_days+1).astype(str).tolist()\n",
    "    path_output = f'/Users/jhayron/Data/ERA5/{year}/'\n",
    "    try:\n",
    "        os.mkdir(path_output)\n",
    "    except:\n",
    "        print('Directory already exists.')\n",
    "\n",
    "    c = cdsapi.Client()\n",
    "\n",
    "    c.retrieve(\n",
    "        'reanalysis-era5-pressure-levels',\n",
    "        {\n",
    "            'product_type': 'reanalysis',\n",
    "            'format': 'netcdf',\n",
    "            'pressure_level': [\n",
    "                '500', '600', '700',\n",
    "                '800', '850', '900',\n",
    "                '950', '1000',\n",
    "            ],\n",
    "            'variable': [\n",
    "                'geopotential', 'relative_humidity', 'specific_humidity',\n",
    "                'u_component_of_wind', 'v_component_of_wind', 'vertical_velocity',\n",
    "            ],\n",
    "            'year': year,\n",
    "            'month': [\n",
    "                month\n",
    "            ],\n",
    "            'day': days,\n",
    "            'time': [\n",
    "                '00:00', '03:00', '06:00',\n",
    "                '09:00', '12:00', '15:00',\n",
    "                '18:00', '21:00',\n",
    "            ],\n",
    "            'area': [\n",
    "                25, -100, -25,\n",
    "                -30,\n",
    "            ],\n",
    "        },\n",
    "        f'{path_output}ERA5_{year}_{month}.nc')"
   ]
  },
  {
   "cell_type": "code",
   "execution_count": 4,
   "id": "4c49eb0c",
   "metadata": {},
   "outputs": [
    {
     "name": "stderr",
     "output_type": "stream",
     "text": [
      "2022-10-04 16:08:37,242 INFO Welcome to the CDS\n",
      "2022-10-04 16:08:37,244 INFO Sending request to https://cds.climate.copernicus.eu/api/v2/resources/reanalysis-era5-pressure-levels\n",
      "2022-10-04 16:08:37,414 INFO Request is queued\n",
      "2022-10-04 16:08:38,588 INFO Request is running\n",
      "2022-10-04 16:16:58,266 INFO Request is completed\n",
      "2022-10-04 16:16:58,268 INFO Downloading https://download-0016.copernicus-climate.eu/cache-compute-0016/cache/data2/adaptor.mars.internal-1664914505.5637593-1027-1-a05e8659-4218-4c02-9e0e-4a0b976e641e.nc to /Users/jhayron/Data/ERA5/2008/ERA5_2008_01.nc (1.3G)\n",
      "2022-10-04 16:19:39,681 INFO Download rate 7.9M/s                                                                                                            \n",
      "2022-10-04 16:19:40,347 INFO Welcome to the CDS\n",
      "2022-10-04 16:19:40,349 INFO Sending request to https://cds.climate.copernicus.eu/api/v2/resources/reanalysis-era5-pressure-levels\n"
     ]
    },
    {
     "name": "stdout",
     "output_type": "stream",
     "text": [
      "Directory already exists.\n"
     ]
    },
    {
     "name": "stderr",
     "output_type": "stream",
     "text": [
      "2022-10-04 16:19:40,500 INFO Request is queued\n",
      "2022-10-04 16:19:41,652 INFO Request is running\n",
      "2022-10-04 16:28:01,170 INFO Request is completed\n",
      "2022-10-04 16:28:01,172 INFO Downloading https://download-0019.copernicus-climate.eu/cache-compute-0019/cache/data8/adaptor.mars.internal-1664915141.3955681-21262-10-e8da5b77-2085-452d-a896-f4191ae1ca8f.nc to /Users/jhayron/Data/ERA5/2008/ERA5_2008_02.nc (1.2G)\n",
      "2022-10-04 16:30:20,902 INFO Download rate 8.6M/s                                                                                                            \n",
      "2022-10-04 16:30:21,678 INFO Welcome to the CDS\n",
      "2022-10-04 16:30:21,679 INFO Sending request to https://cds.climate.copernicus.eu/api/v2/resources/reanalysis-era5-pressure-levels\n"
     ]
    },
    {
     "name": "stdout",
     "output_type": "stream",
     "text": [
      "Directory already exists.\n"
     ]
    },
    {
     "name": "stderr",
     "output_type": "stream",
     "text": [
      "2022-10-04 16:30:21,820 INFO Request is queued\n",
      "2022-10-04 16:30:22,958 INFO Request is running\n",
      "2022-10-04 16:38:42,522 INFO Request is completed\n",
      "2022-10-04 16:38:42,525 INFO Downloading https://download-0015-clone.copernicus-climate.eu/cache-compute-0015/cache/data9/adaptor.mars.internal-1664915787.8691604-13064-10-a49c7fff-6a79-4849-8dc0-73cf6f6f7a5d.nc to /Users/jhayron/Data/ERA5/2008/ERA5_2008_03.nc (1.3G)\n",
      "2022-10-04 16:41:39,706 INFO Download rate 7.2M/s                                                                                                            \n",
      "2022-10-04 16:41:40,741 INFO Welcome to the CDS\n",
      "2022-10-04 16:41:40,742 INFO Sending request to https://cds.climate.copernicus.eu/api/v2/resources/reanalysis-era5-pressure-levels\n"
     ]
    },
    {
     "name": "stdout",
     "output_type": "stream",
     "text": [
      "Directory already exists.\n"
     ]
    },
    {
     "name": "stderr",
     "output_type": "stream",
     "text": [
      "2022-10-04 16:41:40,898 INFO Request is queued\n",
      "2022-10-04 16:41:42,043 INFO Request is running\n",
      "2022-10-04 16:48:01,283 INFO Request is completed\n",
      "2022-10-04 16:48:01,285 INFO Downloading https://download-0017.copernicus-climate.eu/cache-compute-0017/cache/data8/adaptor.mars.internal-1664916428.348983-6446-16-ca2d4d03-534f-4e89-8a8a-954f24a6fa2c.nc to /Users/jhayron/Data/ERA5/2008/ERA5_2008_04.nc (1.2G)\n",
      "2022-10-04 16:51:33,432 INFO Download rate 5.8M/s                                                                                                            \n",
      "2022-10-04 16:51:34,111 INFO Welcome to the CDS\n",
      "2022-10-04 16:51:34,113 INFO Sending request to https://cds.climate.copernicus.eu/api/v2/resources/reanalysis-era5-pressure-levels\n"
     ]
    },
    {
     "name": "stdout",
     "output_type": "stream",
     "text": [
      "Directory already exists.\n"
     ]
    },
    {
     "name": "stderr",
     "output_type": "stream",
     "text": [
      "2022-10-04 16:51:34,273 INFO Request is queued\n",
      "2022-10-04 16:51:35,426 INFO Request is running\n",
      "2022-10-04 16:59:55,093 INFO Request is completed\n",
      "2022-10-04 16:59:55,095 INFO Downloading https://download-0011-clone.copernicus-climate.eu/cache-compute-0011/cache/data2/adaptor.mars.internal-1664917063.6334188-17725-7-3f266824-c81a-4cb2-992b-9993a0f8e07a.nc to /Users/jhayron/Data/ERA5/2008/ERA5_2008_05.nc (1.3G)\n",
      "2022-10-04 17:03:18,038 INFO Download rate 6.3M/s                                                                                                            \n",
      "2022-10-04 17:03:18,691 INFO Welcome to the CDS\n",
      "2022-10-04 17:03:18,692 INFO Sending request to https://cds.climate.copernicus.eu/api/v2/resources/reanalysis-era5-pressure-levels\n"
     ]
    },
    {
     "name": "stdout",
     "output_type": "stream",
     "text": [
      "Directory already exists.\n"
     ]
    },
    {
     "name": "stderr",
     "output_type": "stream",
     "text": [
      "2022-10-04 17:03:18,832 INFO Request is queued\n",
      "2022-10-04 17:03:19,974 INFO Request is running\n",
      "2022-10-04 17:11:39,677 INFO Request is completed\n",
      "2022-10-04 17:11:39,680 INFO Downloading https://download-0017.copernicus-climate.eu/cache-compute-0017/cache/data3/adaptor.mars.internal-1664917801.7469997-22100-9-df3580c5-5a19-40f2-ae65-a2d7858f7800.nc to /Users/jhayron/Data/ERA5/2008/ERA5_2008_06.nc (1.2G)\n",
      "2022-10-04 17:14:48,116 INFO Download rate 6.6M/s                                                                                                            \n",
      "2022-10-04 17:14:48,785 INFO Welcome to the CDS\n",
      "2022-10-04 17:14:48,787 INFO Sending request to https://cds.climate.copernicus.eu/api/v2/resources/reanalysis-era5-pressure-levels\n"
     ]
    },
    {
     "name": "stdout",
     "output_type": "stream",
     "text": [
      "Directory already exists.\n"
     ]
    },
    {
     "name": "stderr",
     "output_type": "stream",
     "text": [
      "2022-10-04 17:14:48,937 INFO Request is queued\n",
      "2022-10-04 17:14:50,083 INFO Request is running\n",
      "2022-10-04 17:23:09,997 INFO Request is completed\n",
      "2022-10-04 17:23:10,000 INFO Downloading https://download-0008-clone.copernicus-climate.eu/cache-compute-0008/cache/data8/adaptor.mars.internal-1664918445.090671-18791-1-98004a6d-8bc4-46f9-98e5-4f75d3ffbbf7.nc to /Users/jhayron/Data/ERA5/2008/ERA5_2008_07.nc (1.3G)\n",
      "2022-10-04 17:26:45,703 INFO Download rate 5.9M/s                                                                                                            \n",
      "2022-10-04 17:26:46,366 INFO Welcome to the CDS\n",
      "2022-10-04 17:26:46,368 INFO Sending request to https://cds.climate.copernicus.eu/api/v2/resources/reanalysis-era5-pressure-levels\n"
     ]
    },
    {
     "name": "stdout",
     "output_type": "stream",
     "text": [
      "Directory already exists.\n"
     ]
    },
    {
     "name": "stderr",
     "output_type": "stream",
     "text": [
      "2022-10-04 17:26:46,531 INFO Request is queued\n",
      "2022-10-04 17:26:47,665 INFO Request is running\n",
      "2022-10-04 17:35:07,364 INFO Request is completed\n",
      "2022-10-04 17:35:07,366 INFO Downloading https://download-0009-clone.copernicus-climate.eu/cache-compute-0009/cache/data0/adaptor.mars.internal-1664919130.5032084-30607-8-60fbeeb1-9935-401c-b865-947a870cf384.nc to /Users/jhayron/Data/ERA5/2008/ERA5_2008_08.nc (1.3G)\n",
      "2022-10-04 17:38:00,715 INFO Download rate 7.4M/s                                                                                                            \n",
      "2022-10-04 17:38:01,476 INFO Welcome to the CDS\n",
      "2022-10-04 17:38:01,478 INFO Sending request to https://cds.climate.copernicus.eu/api/v2/resources/reanalysis-era5-pressure-levels\n"
     ]
    },
    {
     "name": "stdout",
     "output_type": "stream",
     "text": [
      "Directory already exists.\n"
     ]
    },
    {
     "name": "stderr",
     "output_type": "stream",
     "text": [
      "2022-10-04 17:38:01,621 INFO Request is queued\n",
      "2022-10-04 17:38:02,770 INFO Request is running\n",
      "2022-10-04 17:46:22,773 INFO Request is completed\n",
      "2022-10-04 17:46:22,775 INFO Downloading https://download-0008-clone.copernicus-climate.eu/cache-compute-0008/cache/data1/adaptor.mars.internal-1664919814.351531-18577-18-8edb4d7b-5cc5-4bdb-b1bd-58293228557b.nc to /Users/jhayron/Data/ERA5/2008/ERA5_2008_09.nc (1.2G)\n",
      "2022-10-04 18:29:46,171 INFO Download rate 488.1K/s                                                                                                          \n",
      "2022-10-04 18:29:46,869 INFO Welcome to the CDS\n",
      "2022-10-04 18:29:46,870 INFO Sending request to https://cds.climate.copernicus.eu/api/v2/resources/reanalysis-era5-pressure-levels\n"
     ]
    },
    {
     "name": "stdout",
     "output_type": "stream",
     "text": [
      "Directory already exists.\n"
     ]
    },
    {
     "name": "stderr",
     "output_type": "stream",
     "text": [
      "2022-10-04 18:29:47,018 INFO Request is queued\n",
      "2022-10-04 18:29:48,150 INFO Request is running\n",
      "2022-10-04 18:54:58,411 INFO Request is completed\n",
      "2022-10-04 18:54:58,413 INFO Downloading https://download-0012-clone.copernicus-climate.eu/cache-compute-0012/cache/data5/adaptor.mars.internal-1664922933.7008822-4695-12-a0b6b040-5d8d-4544-a2ed-92d78f6d1daa.nc to /Users/jhayron/Data/ERA5/2008/ERA5_2008_10.nc (1.3G)\n",
      "2022-10-04 18:57:54,786 INFO Download rate 7.3M/s                                                                                                            \n",
      "2022-10-04 18:57:55,437 INFO Welcome to the CDS\n",
      "2022-10-04 18:57:55,439 INFO Sending request to https://cds.climate.copernicus.eu/api/v2/resources/reanalysis-era5-pressure-levels\n"
     ]
    },
    {
     "name": "stdout",
     "output_type": "stream",
     "text": [
      "Directory already exists.\n"
     ]
    },
    {
     "name": "stderr",
     "output_type": "stream",
     "text": [
      "2022-10-04 18:57:55,599 INFO Request is queued\n",
      "2022-10-04 18:57:56,736 INFO Request is running\n",
      "2022-10-04 19:06:16,395 INFO Request is completed\n",
      "2022-10-04 19:06:16,398 INFO Downloading https://download-0015-clone.copernicus-climate.eu/cache-compute-0015/cache/data9/adaptor.mars.internal-1664924598.5030951-21759-10-5878569d-3605-404c-8718-7dda90cb69b7.nc to /Users/jhayron/Data/ERA5/2008/ERA5_2008_11.nc (1.2G)\n",
      "2022-10-04 19:08:44,208 INFO Download rate 8.4M/s                                                                                                            \n",
      "2022-10-04 19:08:44,907 INFO Welcome to the CDS\n",
      "2022-10-04 19:08:44,908 INFO Sending request to https://cds.climate.copernicus.eu/api/v2/resources/reanalysis-era5-pressure-levels\n"
     ]
    },
    {
     "name": "stdout",
     "output_type": "stream",
     "text": [
      "Directory already exists.\n"
     ]
    },
    {
     "name": "stderr",
     "output_type": "stream",
     "text": [
      "2022-10-04 19:08:45,044 INFO Request is queued\n",
      "2022-10-04 19:08:46,198 INFO Request is running\n",
      "2022-10-04 19:15:05,220 INFO Request is completed\n",
      "2022-10-04 19:15:05,222 INFO Downloading https://download-0021.copernicus-climate.eu/cache-compute-0021/cache/data4/adaptor.mars.internal-1664925225.2122104-12074-19-5dd5d13d-5914-4641-b484-0c75989ee02f.nc to /Users/jhayron/Data/ERA5/2008/ERA5_2008_12.nc (1.3G)\n",
      "2022-10-04 19:17:24,461 INFO Download rate 9.2M/s                                                                                                            \n"
     ]
    }
   ],
   "source": [
    "import cdsapi\n",
    "from calendar import monthrange\n",
    "import numpy as np\n",
    "import os\n",
    "\n",
    "year = '2008'\n",
    "for month in ['01','02','03','04','05','06','07','08','09','10','11','12']:\n",
    "    number_of_days = monthrange(int(year),int(month))[-1]\n",
    "    days = np.arange(1,number_of_days+1).astype(str).tolist()\n",
    "    path_output = f'/Users/jhayron/Data/ERA5/{year}/'\n",
    "    try:\n",
    "        os.mkdir(path_output)\n",
    "    except:\n",
    "        print('Directory already exists.')\n",
    "\n",
    "    c = cdsapi.Client()\n",
    "\n",
    "    c.retrieve(\n",
    "        'reanalysis-era5-pressure-levels',\n",
    "        {\n",
    "            'product_type': 'reanalysis',\n",
    "            'format': 'netcdf',\n",
    "            'pressure_level': [\n",
    "                '500', '600', '700',\n",
    "                '800', '850', '900',\n",
    "                '950', '1000',\n",
    "            ],\n",
    "            'variable': [\n",
    "                'geopotential', 'relative_humidity', 'specific_humidity',\n",
    "                'u_component_of_wind', 'v_component_of_wind', 'vertical_velocity',\n",
    "            ],\n",
    "            'year': year,\n",
    "            'month': [\n",
    "                month\n",
    "            ],\n",
    "            'day': days,\n",
    "            'time': [\n",
    "                '00:00', '03:00', '06:00',\n",
    "                '09:00', '12:00', '15:00',\n",
    "                '18:00', '21:00',\n",
    "            ],\n",
    "            'area': [\n",
    "                25, -100, -25,\n",
    "                -30,\n",
    "            ],\n",
    "        },\n",
    "        f'{path_output}ERA5_{year}_{month}.nc')"
   ]
  },
  {
   "cell_type": "code",
   "execution_count": 5,
   "id": "7f3a2064",
   "metadata": {},
   "outputs": [
    {
     "name": "stderr",
     "output_type": "stream",
     "text": [
      "2022-10-04 19:17:25,155 INFO Welcome to the CDS\n",
      "2022-10-04 19:17:25,157 INFO Sending request to https://cds.climate.copernicus.eu/api/v2/resources/reanalysis-era5-pressure-levels\n",
      "2022-10-04 19:17:25,295 INFO Request is queued\n",
      "2022-10-04 19:17:26,442 INFO Request is running\n",
      "2022-10-04 19:23:46,515 INFO Request is completed\n",
      "2022-10-04 19:23:46,518 INFO Downloading https://download-0002-clone.copernicus-climate.eu/cache-compute-0002/cache/data9/adaptor.mars.internal-1664925741.4782228-13441-7-53d7dce1-46f7-4564-bd7b-caf200cf5202.nc to /Users/jhayron/Data/ERA5/2007/ERA5_2007_01.nc (1.3G)\n",
      "2022-10-04 19:32:51,765 INFO Download rate 2.4M/s                                                                                                            \n",
      "2022-10-04 19:32:52,492 INFO Welcome to the CDS\n",
      "2022-10-04 19:32:52,494 INFO Sending request to https://cds.climate.copernicus.eu/api/v2/resources/reanalysis-era5-pressure-levels\n"
     ]
    },
    {
     "name": "stdout",
     "output_type": "stream",
     "text": [
      "Directory already exists.\n"
     ]
    },
    {
     "name": "stderr",
     "output_type": "stream",
     "text": [
      "2022-10-04 19:32:52,687 INFO Request is queued\n",
      "2022-10-04 19:32:53,827 INFO Request is running\n",
      "2022-10-04 19:39:22,896 INFO Request is completed\n",
      "2022-10-04 19:39:22,898 INFO Downloading https://download-0002-clone.copernicus-climate.eu/cache-compute-0002/cache/data6/adaptor.mars.internal-1664926677.9374924-18948-9-22cbcb33-24b8-478a-8d61-0cd9642adc51.nc to /Users/jhayron/Data/ERA5/2007/ERA5_2007_02.nc (1.1G)\n",
      "2022-10-04 19:42:27,251 INFO Download rate 6.3M/s                                                                                                            \n",
      "2022-10-04 19:42:27,985 INFO Welcome to the CDS\n",
      "2022-10-04 19:42:27,987 INFO Sending request to https://cds.climate.copernicus.eu/api/v2/resources/reanalysis-era5-pressure-levels\n"
     ]
    },
    {
     "name": "stdout",
     "output_type": "stream",
     "text": [
      "Directory already exists.\n"
     ]
    },
    {
     "name": "stderr",
     "output_type": "stream",
     "text": [
      "2022-10-04 19:42:28,152 INFO Request is queued\n",
      "2022-10-04 19:42:29,311 INFO Request is running\n",
      "2022-10-04 19:48:48,572 INFO Request is completed\n",
      "2022-10-04 19:48:48,574 INFO Downloading https://download-0006-clone.copernicus-climate.eu/cache-compute-0006/cache/data2/adaptor.mars.internal-1664927280.113925-4044-10-0b45837e-5bee-4fcf-957e-d40feedf8cb4.nc to /Users/jhayron/Data/ERA5/2007/ERA5_2007_03.nc (1.3G)\n",
      "2022-10-04 19:52:40,973 INFO Download rate 5.5M/s                                                                                                            \n",
      "2022-10-04 19:52:41,681 INFO Welcome to the CDS\n",
      "2022-10-04 19:52:41,683 INFO Sending request to https://cds.climate.copernicus.eu/api/v2/resources/reanalysis-era5-pressure-levels\n"
     ]
    },
    {
     "name": "stdout",
     "output_type": "stream",
     "text": [
      "Directory already exists.\n"
     ]
    },
    {
     "name": "stderr",
     "output_type": "stream",
     "text": [
      "2022-10-04 19:52:41,826 INFO Request is queued\n",
      "2022-10-04 19:52:42,973 INFO Request is running\n",
      "2022-10-04 19:59:14,395 INFO Request is completed\n",
      "2022-10-04 19:59:14,398 INFO Downloading https://download-0019.copernicus-climate.eu/cache-compute-0019/cache/data7/adaptor.mars.internal-1664927867.6727512-24575-5-8850a571-0ae1-4810-b068-902cfbb44192.nc to /Users/jhayron/Data/ERA5/2007/ERA5_2007_04.nc (1.2G)\n",
      "2022-10-04 20:02:07,504 INFO Download rate 7.2M/s                                                                                                            \n",
      "2022-10-04 20:02:08,170 INFO Welcome to the CDS\n",
      "2022-10-04 20:02:08,172 INFO Sending request to https://cds.climate.copernicus.eu/api/v2/resources/reanalysis-era5-pressure-levels\n"
     ]
    },
    {
     "name": "stdout",
     "output_type": "stream",
     "text": [
      "Directory already exists.\n"
     ]
    },
    {
     "name": "stderr",
     "output_type": "stream",
     "text": [
      "2022-10-04 20:02:08,329 INFO Request is queued\n",
      "2022-10-04 20:02:09,477 INFO Request is running\n",
      "2022-10-04 20:08:28,497 INFO Request is completed\n",
      "2022-10-04 20:08:28,498 INFO Downloading https://download-0000-clone.copernicus-climate.eu/cache-compute-0000/cache/data5/adaptor.mars.internal-1664928441.1513064-32149-10-e11a0a78-03fb-494b-8f50-7cdd69beafad.nc to /Users/jhayron/Data/ERA5/2007/ERA5_2007_05.nc (1.3G)\n",
      "2022-10-04 20:10:54,603 INFO Download rate 8.8M/s                                                                                                            \n",
      "2022-10-04 20:10:55,364 INFO Welcome to the CDS\n",
      "2022-10-04 20:10:55,366 INFO Sending request to https://cds.climate.copernicus.eu/api/v2/resources/reanalysis-era5-pressure-levels\n"
     ]
    },
    {
     "name": "stdout",
     "output_type": "stream",
     "text": [
      "Directory already exists.\n"
     ]
    },
    {
     "name": "stderr",
     "output_type": "stream",
     "text": [
      "2022-10-04 20:10:55,538 INFO Request is queued\n",
      "2022-10-04 20:10:56,674 INFO Request is running\n",
      "2022-10-04 20:17:15,673 INFO Request is completed\n",
      "2022-10-04 20:17:15,675 INFO Downloading https://download-0011-clone.copernicus-climate.eu/cache-compute-0011/cache/data6/adaptor.mars.internal-1664928952.9516637-25763-1-99717988-ba01-4a23-98f3-829f37faa1e2.nc to /Users/jhayron/Data/ERA5/2007/ERA5_2007_06.nc (1.2G)\n",
      "2022-10-04 20:20:51,449 INFO Download rate 5.8M/s                                                                                                            \n",
      "2022-10-04 20:20:52,145 INFO Welcome to the CDS\n",
      "2022-10-04 20:20:52,147 INFO Sending request to https://cds.climate.copernicus.eu/api/v2/resources/reanalysis-era5-pressure-levels\n"
     ]
    },
    {
     "name": "stdout",
     "output_type": "stream",
     "text": [
      "Directory already exists.\n"
     ]
    },
    {
     "name": "stderr",
     "output_type": "stream",
     "text": [
      "2022-10-04 20:20:52,301 INFO Request is queued\n",
      "2022-10-04 20:20:53,454 INFO Request is running\n",
      "2022-10-04 20:27:12,669 INFO Request is completed\n",
      "2022-10-04 20:27:12,671 INFO Downloading https://download-0010-clone.copernicus-climate.eu/cache-compute-0010/cache/data6/adaptor.mars.internal-1664929573.182689-7655-2-0557b6f3-a434-44e1-9526-921fc60f5579.nc to /Users/jhayron/Data/ERA5/2007/ERA5_2007_07.nc (1.3G)\n",
      "2022-10-04 20:29:34,477 INFO Download rate 9M/s                                                                                                              \n",
      "2022-10-04 20:29:35,115 INFO Welcome to the CDS\n",
      "2022-10-04 20:29:35,117 INFO Sending request to https://cds.climate.copernicus.eu/api/v2/resources/reanalysis-era5-pressure-levels\n"
     ]
    },
    {
     "name": "stdout",
     "output_type": "stream",
     "text": [
      "Directory already exists.\n"
     ]
    },
    {
     "name": "stderr",
     "output_type": "stream",
     "text": [
      "2022-10-04 20:29:35,264 INFO Request is queued\n",
      "2022-10-04 20:29:36,405 INFO Request is running\n",
      "2022-10-04 20:35:55,432 INFO Request is completed\n",
      "2022-10-04 20:35:55,434 INFO Downloading https://download-0010-clone.copernicus-climate.eu/cache-compute-0010/cache/data6/adaptor.mars.internal-1664930092.3785095-14173-2-d1c5207e-cb6d-44e5-bc36-bdcfea3bc17f.nc to /Users/jhayron/Data/ERA5/2007/ERA5_2007_08.nc (1.3G)\n",
      "2022-10-04 20:38:15,537 INFO Download rate 9.2M/s                                                                                                            \n",
      "2022-10-04 20:38:16,175 INFO Welcome to the CDS\n",
      "2022-10-04 20:38:16,177 INFO Sending request to https://cds.climate.copernicus.eu/api/v2/resources/reanalysis-era5-pressure-levels\n"
     ]
    },
    {
     "name": "stdout",
     "output_type": "stream",
     "text": [
      "Directory already exists.\n"
     ]
    },
    {
     "name": "stderr",
     "output_type": "stream",
     "text": [
      "2022-10-04 20:38:16,318 INFO Request is queued\n",
      "2022-10-04 20:38:17,462 INFO Request is running\n",
      "2022-10-04 20:44:36,592 INFO Request is completed\n",
      "2022-10-04 20:44:36,594 INFO Downloading https://download-0013-clone.copernicus-climate.eu/cache-compute-0013/cache/data0/adaptor.mars.internal-1664930607.175952-13236-4-3444b918-adf0-4e3f-88de-45c1479b3add.nc to /Users/jhayron/Data/ERA5/2007/ERA5_2007_09.nc (1.2G)\n",
      "2022-10-04 20:46:58,100 INFO Download rate 8.8M/s                                                                                                            \n",
      "2022-10-04 20:46:58,814 INFO Welcome to the CDS\n",
      "2022-10-04 20:46:58,816 INFO Sending request to https://cds.climate.copernicus.eu/api/v2/resources/reanalysis-era5-pressure-levels\n"
     ]
    },
    {
     "name": "stdout",
     "output_type": "stream",
     "text": [
      "Directory already exists.\n"
     ]
    },
    {
     "name": "stderr",
     "output_type": "stream",
     "text": [
      "2022-10-04 20:46:58,963 INFO Request is queued\n",
      "2022-10-04 20:47:00,116 INFO Request is running\n",
      "2022-10-04 20:53:19,351 INFO Request is completed\n",
      "2022-10-04 20:53:19,352 INFO Downloading https://download-0011-clone.copernicus-climate.eu/cache-compute-0011/cache/data2/adaptor.mars.internal-1664931118.0199165-29959-14-572ad7fd-2fa0-40d1-87c4-a9e4ef352256.nc to /Users/jhayron/Data/ERA5/2007/ERA5_2007_10.nc (1.3G)\n",
      "2022-10-04 20:57:26,971 INFO Download rate 5.2M/s                                                                                                            \n"
     ]
    },
    {
     "name": "stdout",
     "output_type": "stream",
     "text": [
      "Directory already exists.\n"
     ]
    },
    {
     "name": "stderr",
     "output_type": "stream",
     "text": [
      "2022-10-04 20:57:27,910 INFO Welcome to the CDS\n",
      "2022-10-04 20:57:27,911 INFO Sending request to https://cds.climate.copernicus.eu/api/v2/resources/reanalysis-era5-pressure-levels\n",
      "2022-10-04 20:57:28,288 INFO Request is queued\n",
      "2022-10-04 20:57:29,423 INFO Request is running\n",
      "2022-10-04 21:05:49,096 INFO Request is completed\n",
      "2022-10-04 21:05:49,098 INFO Downloading https://download-0014-clone.copernicus-climate.eu/cache-compute-0014/cache/data9/adaptor.mars.internal-1664931785.250638-6306-17-a95f1fac-288e-4191-b355-e42bc6d55d23.nc to /Users/jhayron/Data/ERA5/2007/ERA5_2007_11.nc (1.2G)\n",
      "2022-10-04 21:08:09,566 INFO Download rate 8.8M/s                                                                                                            \n",
      "2022-10-04 21:08:10,250 INFO Welcome to the CDS\n",
      "2022-10-04 21:08:10,252 INFO Sending request to https://cds.climate.copernicus.eu/api/v2/resources/reanalysis-era5-pressure-levels\n"
     ]
    },
    {
     "name": "stdout",
     "output_type": "stream",
     "text": [
      "Directory already exists.\n"
     ]
    },
    {
     "name": "stderr",
     "output_type": "stream",
     "text": [
      "2022-10-04 21:08:10,449 INFO Request is queued\n",
      "2022-10-04 21:08:11,595 INFO Request is running\n",
      "2022-10-04 21:14:31,325 INFO Request is completed\n",
      "2022-10-04 21:14:31,327 INFO Downloading https://download-0002-clone.copernicus-climate.eu/cache-compute-0002/cache/data0/adaptor.mars.internal-1664932421.725932-26569-17-0d4e2a7e-6bd9-46c8-aecd-e6c5268e52f8.nc to /Users/jhayron/Data/ERA5/2007/ERA5_2007_12.nc (1.3G)\n",
      "2022-10-04 21:17:24,201 INFO Download rate 7.4M/s                                                                                                            \n"
     ]
    }
   ],
   "source": [
    "import cdsapi\n",
    "from calendar import monthrange\n",
    "import numpy as np\n",
    "import os\n",
    "\n",
    "year = '2007'\n",
    "for month in ['01','02','03','04','05','06','07','08','09','10','11','12']:\n",
    "    number_of_days = monthrange(int(year),int(month))[-1]\n",
    "    days = np.arange(1,number_of_days+1).astype(str).tolist()\n",
    "    path_output = f'/Users/jhayron/Data/ERA5/{year}/'\n",
    "    try:\n",
    "        os.mkdir(path_output)\n",
    "    except:\n",
    "        print('Directory already exists.')\n",
    "\n",
    "    c = cdsapi.Client()\n",
    "\n",
    "    c.retrieve(\n",
    "        'reanalysis-era5-pressure-levels',\n",
    "        {\n",
    "            'product_type': 'reanalysis',\n",
    "            'format': 'netcdf',\n",
    "            'pressure_level': [\n",
    "                '500', '600', '700',\n",
    "                '800', '850', '900',\n",
    "                '950', '1000',\n",
    "            ],\n",
    "            'variable': [\n",
    "                'geopotential', 'relative_humidity', 'specific_humidity',\n",
    "                'u_component_of_wind', 'v_component_of_wind', 'vertical_velocity',\n",
    "            ],\n",
    "            'year': year,\n",
    "            'month': [\n",
    "                month\n",
    "            ],\n",
    "            'day': days,\n",
    "            'time': [\n",
    "                '00:00', '03:00', '06:00',\n",
    "                '09:00', '12:00', '15:00',\n",
    "                '18:00', '21:00',\n",
    "            ],\n",
    "            'area': [\n",
    "                25, -100, -25,\n",
    "                -30,\n",
    "            ],\n",
    "        },\n",
    "        f'{path_output}ERA5_{year}_{month}.nc')"
   ]
  },
  {
   "cell_type": "code",
   "execution_count": 6,
   "id": "de24940d",
   "metadata": {},
   "outputs": [
    {
     "name": "stderr",
     "output_type": "stream",
     "text": [
      "2022-10-04 21:17:24,861 INFO Welcome to the CDS\n",
      "2022-10-04 21:17:24,863 INFO Sending request to https://cds.climate.copernicus.eu/api/v2/resources/reanalysis-era5-pressure-levels\n",
      "2022-10-04 21:17:24,996 INFO Request is queued\n",
      "2022-10-04 21:17:26,138 INFO Request is running\n",
      "2022-10-04 21:23:45,031 INFO Request is completed\n",
      "2022-10-04 21:23:45,033 INFO Downloading https://download-0001-clone.copernicus-climate.eu/cache-compute-0001/cache/data8/adaptor.mars.internal-1664932961.3336706-13239-6-91ce7fda-398e-41b6-9f54-0d081f66354f.nc to /Users/jhayron/Data/ERA5/2006/ERA5_2006_01.nc (1.3G)\n",
      "2022-10-04 21:26:03,638 INFO Download rate 9.3M/s                                                                                                            \n",
      "2022-10-04 21:26:04,276 INFO Welcome to the CDS\n",
      "2022-10-04 21:26:04,277 INFO Sending request to https://cds.climate.copernicus.eu/api/v2/resources/reanalysis-era5-pressure-levels\n"
     ]
    },
    {
     "name": "stdout",
     "output_type": "stream",
     "text": [
      "Directory already exists.\n"
     ]
    },
    {
     "name": "stderr",
     "output_type": "stream",
     "text": [
      "2022-10-04 21:26:04,436 INFO Request is queued\n",
      "2022-10-04 21:26:05,569 INFO Request is running\n",
      "2022-10-04 21:32:24,532 INFO Request is completed\n",
      "2022-10-04 21:32:24,534 INFO Downloading https://download-0012-clone.copernicus-climate.eu/cache-compute-0012/cache/data3/adaptor.mars.internal-1664933474.2772002-27548-2-bd5615a4-d300-48f5-8e98-95ab6c1ee6c9.nc to /Users/jhayron/Data/ERA5/2006/ERA5_2006_02.nc (1.1G)\n",
      "2022-10-04 21:35:36,103 INFO Download rate 6M/s                                                                                                              \n",
      "2022-10-04 21:35:36,886 INFO Welcome to the CDS\n",
      "2022-10-04 21:35:36,888 INFO Sending request to https://cds.climate.copernicus.eu/api/v2/resources/reanalysis-era5-pressure-levels\n"
     ]
    },
    {
     "name": "stdout",
     "output_type": "stream",
     "text": [
      "Directory already exists.\n"
     ]
    },
    {
     "name": "stderr",
     "output_type": "stream",
     "text": [
      "2022-10-04 21:35:37,033 INFO Request is queued\n",
      "2022-10-04 21:35:38,170 INFO Request is running\n",
      "2022-10-04 21:41:58,780 INFO Request is completed\n",
      "2022-10-04 21:41:58,782 INFO Downloading https://download-0012-clone.copernicus-climate.eu/cache-compute-0012/cache/data6/adaptor.mars.internal-1664934042.8862774-24827-10-8056ba3e-727e-4625-a0a1-063615c0421b.nc to /Users/jhayron/Data/ERA5/2006/ERA5_2006_03.nc (1.3G)\n",
      "2022-10-04 21:46:18,636 INFO Download rate 4.9M/s                                                                                                            \n",
      "2022-10-04 21:46:19,292 INFO Welcome to the CDS\n",
      "2022-10-04 21:46:19,293 INFO Sending request to https://cds.climate.copernicus.eu/api/v2/resources/reanalysis-era5-pressure-levels\n"
     ]
    },
    {
     "name": "stdout",
     "output_type": "stream",
     "text": [
      "Directory already exists.\n"
     ]
    },
    {
     "name": "stderr",
     "output_type": "stream",
     "text": [
      "2022-10-04 21:46:19,441 INFO Request is queued\n",
      "2022-10-04 21:46:20,571 INFO Request is running\n",
      "2022-10-04 21:52:40,017 INFO Request is completed\n",
      "2022-10-04 21:52:40,019 INFO Downloading https://download-0000-clone.copernicus-climate.eu/cache-compute-0000/cache/data1/adaptor.mars.internal-1664934704.848436-12188-12-798b2f8c-ffd9-48cb-8e13-304912443271.nc to /Users/jhayron/Data/ERA5/2006/ERA5_2006_04.nc (1.2G)\n",
      "2022-10-04 21:56:24,132 INFO Download rate 5.5M/s                                                                                                            \n",
      "2022-10-04 21:56:24,771 INFO Welcome to the CDS\n",
      "2022-10-04 21:56:24,773 INFO Sending request to https://cds.climate.copernicus.eu/api/v2/resources/reanalysis-era5-pressure-levels\n"
     ]
    },
    {
     "name": "stdout",
     "output_type": "stream",
     "text": [
      "Directory already exists.\n"
     ]
    },
    {
     "name": "stderr",
     "output_type": "stream",
     "text": [
      "2022-10-04 21:56:24,924 INFO Request is queued\n",
      "2022-10-04 21:56:26,069 INFO Request is running\n",
      "2022-10-04 22:04:45,739 INFO Request is completed\n",
      "2022-10-04 22:04:45,743 INFO Downloading https://download-0013-clone.copernicus-climate.eu/cache-compute-0013/cache/data9/adaptor.mars.internal-1664935327.5619724-11719-19-61a0254d-37f4-41f1-a2ea-9c4a5f29eb85.nc to /Users/jhayron/Data/ERA5/2006/ERA5_2006_05.nc (1.3G)\n",
      "2022-10-04 22:12:12,540 INFO Download rate 2.9M/s                                                                                                            \n",
      "2022-10-04 22:12:13,348 INFO Welcome to the CDS\n",
      "2022-10-04 22:12:13,349 INFO Sending request to https://cds.climate.copernicus.eu/api/v2/resources/reanalysis-era5-pressure-levels\n"
     ]
    },
    {
     "name": "stdout",
     "output_type": "stream",
     "text": [
      "Directory already exists.\n"
     ]
    },
    {
     "name": "stderr",
     "output_type": "stream",
     "text": [
      "2022-10-04 22:12:13,499 INFO Request is queued\n",
      "2022-10-04 22:12:14,625 INFO Request is running\n",
      "2022-10-04 22:18:34,202 INFO Request is completed\n",
      "2022-10-04 22:18:34,204 INFO Downloading https://download-0012-clone.copernicus-climate.eu/cache-compute-0012/cache/data3/adaptor.mars.internal-1664936255.8880286-10333-6-148ce170-2439-4d57-b009-c47af42242b4.nc to /Users/jhayron/Data/ERA5/2006/ERA5_2006_06.nc (1.2G)\n",
      "2022-10-04 22:22:47,011 INFO Download rate 4.9M/s                                                                                                            \n",
      "2022-10-04 22:22:47,766 INFO Welcome to the CDS\n",
      "2022-10-04 22:22:47,768 INFO Sending request to https://cds.climate.copernicus.eu/api/v2/resources/reanalysis-era5-pressure-levels\n"
     ]
    },
    {
     "name": "stdout",
     "output_type": "stream",
     "text": [
      "Directory already exists.\n"
     ]
    },
    {
     "name": "stderr",
     "output_type": "stream",
     "text": [
      "2022-10-04 22:22:47,924 INFO Request is queued\n",
      "2022-10-04 22:22:49,079 INFO Request is running\n",
      "2022-10-04 22:29:08,663 INFO Request is completed\n",
      "2022-10-04 22:29:08,665 INFO Downloading https://download-0016.copernicus-climate.eu/cache-compute-0016/cache/data5/adaptor.mars.internal-1664936895.6603446-5837-4-9d128357-e2fd-410e-9d20-0be7067aba53.nc to /Users/jhayron/Data/ERA5/2006/ERA5_2006_07.nc (1.3G)\n",
      "2022-10-04 22:33:55,061 INFO Download rate 4.5M/s                                                                                                            \n",
      "2022-10-04 22:33:55,892 INFO Welcome to the CDS\n",
      "2022-10-04 22:33:55,893 INFO Sending request to https://cds.climate.copernicus.eu/api/v2/resources/reanalysis-era5-pressure-levels\n"
     ]
    },
    {
     "name": "stdout",
     "output_type": "stream",
     "text": [
      "Directory already exists.\n"
     ]
    },
    {
     "name": "stderr",
     "output_type": "stream",
     "text": [
      "2022-10-04 22:33:56,061 INFO Request is queued\n",
      "2022-10-04 22:33:57,238 INFO Request is running\n",
      "2022-10-04 22:42:17,174 INFO Request is completed\n",
      "2022-10-04 22:42:17,176 INFO Downloading https://download-0001-clone.copernicus-climate.eu/cache-compute-0001/cache/data6/adaptor.mars.internal-1664937579.9654372-11628-4-5aedd5d1-5cc4-4f84-bfce-c2dfcdfd5ab2.nc to /Users/jhayron/Data/ERA5/2006/ERA5_2006_08.nc (1.3G)\n",
      "2022-10-04 22:46:08,708 INFO Download rate 5.5M/s                                                                                                            \n",
      "2022-10-04 22:46:09,544 INFO Welcome to the CDS\n",
      "2022-10-04 22:46:09,545 INFO Sending request to https://cds.climate.copernicus.eu/api/v2/resources/reanalysis-era5-pressure-levels\n"
     ]
    },
    {
     "name": "stdout",
     "output_type": "stream",
     "text": [
      "Directory already exists.\n"
     ]
    },
    {
     "name": "stderr",
     "output_type": "stream",
     "text": [
      "2022-10-04 22:46:09,704 INFO Request is queued\n",
      "2022-10-04 22:46:10,842 INFO Request is running\n",
      "2022-10-04 22:52:29,904 INFO Request is completed\n",
      "2022-10-04 22:52:29,907 INFO Downloading https://download-0008-clone.copernicus-climate.eu/cache-compute-0008/cache/data0/adaptor.mars.internal-1664938304.7614589-27380-10-d7be431a-38d4-4f06-90e5-a29982785185.nc to /Users/jhayron/Data/ERA5/2006/ERA5_2006_09.nc (1.2G)\n",
      "2022-10-04 22:57:19,710 INFO Download rate 4.3M/s                                                                                                            \n",
      "2022-10-04 22:57:20,467 INFO Welcome to the CDS\n",
      "2022-10-04 22:57:20,468 INFO Sending request to https://cds.climate.copernicus.eu/api/v2/resources/reanalysis-era5-pressure-levels\n"
     ]
    },
    {
     "name": "stdout",
     "output_type": "stream",
     "text": [
      "Directory already exists.\n"
     ]
    },
    {
     "name": "stderr",
     "output_type": "stream",
     "text": [
      "2022-10-04 22:57:20,634 INFO Request is queued\n",
      "2022-10-04 22:57:21,798 INFO Request is running\n",
      "2022-10-04 23:05:42,551 INFO Request is completed\n",
      "2022-10-04 23:05:42,553 INFO Downloading https://download-0014-clone.copernicus-climate.eu/cache-compute-0014/cache/data6/adaptor.mars.internal-1664938990.4516299-25228-16-a1dfeadb-5c4f-4140-90ac-8ff9f409b827.nc to /Users/jhayron/Data/ERA5/2006/ERA5_2006_10.nc (1.3G)\n",
      "2022-10-04 23:18:03,816 INFO Download rate 1.7M/s                                                                                                            \n",
      "2022-10-04 23:18:04,581 INFO Welcome to the CDS\n",
      "2022-10-04 23:18:04,583 INFO Sending request to https://cds.climate.copernicus.eu/api/v2/resources/reanalysis-era5-pressure-levels\n"
     ]
    },
    {
     "name": "stdout",
     "output_type": "stream",
     "text": [
      "Directory already exists.\n"
     ]
    },
    {
     "name": "stderr",
     "output_type": "stream",
     "text": [
      "2022-10-04 23:18:04,731 INFO Request is queued\n",
      "2022-10-04 23:18:05,876 INFO Request is running\n",
      "2022-10-04 23:24:25,160 INFO Request is completed\n",
      "2022-10-04 23:24:25,161 INFO Downloading https://download-0010-clone.copernicus-climate.eu/cache-compute-0010/cache/data1/adaptor.mars.internal-1664940191.3041692-1225-19-c741d56b-ffd9-483d-bcfd-39bfbc4b4f33.nc to /Users/jhayron/Data/ERA5/2006/ERA5_2006_11.nc (1.2G)\n",
      "2022-10-04 23:38:10,372 INFO Download rate 1.5M/s                                                                                                            \n",
      "2022-10-04 23:38:11,568 INFO Welcome to the CDS\n",
      "2022-10-04 23:38:11,569 INFO Sending request to https://cds.climate.copernicus.eu/api/v2/resources/reanalysis-era5-pressure-levels\n"
     ]
    },
    {
     "name": "stdout",
     "output_type": "stream",
     "text": [
      "Directory already exists.\n"
     ]
    },
    {
     "name": "stderr",
     "output_type": "stream",
     "text": [
      "2022-10-04 23:38:11,712 INFO Request is queued\n",
      "2022-10-04 23:38:12,852 INFO Request is running\n",
      "2022-10-04 23:44:33,419 INFO Request is completed\n",
      "2022-10-04 23:44:33,420 INFO Downloading https://download-0021.copernicus-climate.eu/cache-compute-0021/cache/data3/adaptor.mars.internal-1664941405.245512-11929-6-37f71168-a86b-4638-b06e-8b88322cf2b8.nc to /Users/jhayron/Data/ERA5/2006/ERA5_2006_12.nc (1.3G)\n",
      "2022-10-04 23:58:26,839 INFO Download rate 1.5M/s                                                                                                            \n"
     ]
    }
   ],
   "source": [
    "import cdsapi\n",
    "from calendar import monthrange\n",
    "import numpy as np\n",
    "import os\n",
    "\n",
    "year = '2006'\n",
    "for month in ['01','02','03','04','05','06','07','08','09','10','11','12']:\n",
    "    number_of_days = monthrange(int(year),int(month))[-1]\n",
    "    days = np.arange(1,number_of_days+1).astype(str).tolist()\n",
    "    path_output = f'/Users/jhayron/Data/ERA5/{year}/'\n",
    "    try:\n",
    "        os.mkdir(path_output)\n",
    "    except:\n",
    "        print('Directory already exists.')\n",
    "\n",
    "    c = cdsapi.Client()\n",
    "\n",
    "    c.retrieve(\n",
    "        'reanalysis-era5-pressure-levels',\n",
    "        {\n",
    "            'product_type': 'reanalysis',\n",
    "            'format': 'netcdf',\n",
    "            'pressure_level': [\n",
    "                '500', '600', '700',\n",
    "                '800', '850', '900',\n",
    "                '950', '1000',\n",
    "            ],\n",
    "            'variable': [\n",
    "                'geopotential', 'relative_humidity', 'specific_humidity',\n",
    "                'u_component_of_wind', 'v_component_of_wind', 'vertical_velocity',\n",
    "            ],\n",
    "            'year': year,\n",
    "            'month': [\n",
    "                month\n",
    "            ],\n",
    "            'day': days,\n",
    "            'time': [\n",
    "                '00:00', '03:00', '06:00',\n",
    "                '09:00', '12:00', '15:00',\n",
    "                '18:00', '21:00',\n",
    "            ],\n",
    "            'area': [\n",
    "                25, -100, -25,\n",
    "                -30,\n",
    "            ],\n",
    "        },\n",
    "        f'{path_output}ERA5_{year}_{month}.nc')"
   ]
  },
  {
   "cell_type": "code",
   "execution_count": 7,
   "id": "5a818b2f",
   "metadata": {},
   "outputs": [
    {
     "name": "stderr",
     "output_type": "stream",
     "text": [
      "2022-10-04 23:58:27,979 INFO Welcome to the CDS\n",
      "2022-10-04 23:58:27,981 INFO Sending request to https://cds.climate.copernicus.eu/api/v2/resources/reanalysis-era5-pressure-levels\n",
      "2022-10-04 23:58:28,166 INFO Request is queued\n",
      "2022-10-04 23:58:29,294 INFO Request is running\n",
      "2022-10-05 00:04:48,653 INFO Request is completed\n",
      "2022-10-05 00:04:48,656 INFO Downloading https://download-0002-clone.copernicus-climate.eu/cache-compute-0002/cache/data8/adaptor.mars.internal-1664942626.036446-11103-1-176d30e1-a1a4-4954-b3f8-def349a09573.nc to /Users/jhayron/Data/ERA5/2005/ERA5_2005_01.nc (1.3G)\n",
      "2022-10-05 00:09:43,466 INFO Download rate 4.3M/s                                                                                                            \n",
      "2022-10-05 00:09:44,285 INFO Welcome to the CDS\n",
      "2022-10-05 00:09:44,286 INFO Sending request to https://cds.climate.copernicus.eu/api/v2/resources/reanalysis-era5-pressure-levels\n"
     ]
    },
    {
     "name": "stdout",
     "output_type": "stream",
     "text": [
      "Directory already exists.\n"
     ]
    },
    {
     "name": "stderr",
     "output_type": "stream",
     "text": [
      "2022-10-05 00:09:44,433 INFO Request is queued\n",
      "2022-10-05 00:09:45,563 INFO Request is running\n",
      "2022-10-05 00:16:04,907 INFO Request is completed\n",
      "2022-10-05 00:16:04,910 INFO Downloading https://download-0017.copernicus-climate.eu/cache-compute-0017/cache/data1/adaptor.mars.internal-1664943254.9142413-11664-20-ae920968-392b-4861-a119-82b88e36ca09.nc to /Users/jhayron/Data/ERA5/2005/ERA5_2005_02.nc (1.1G)\n",
      "2022-10-05 00:19:09,771 INFO Download rate 6.3M/s                                                                                                            \n",
      "2022-10-05 00:19:10,502 INFO Welcome to the CDS\n",
      "2022-10-05 00:19:10,504 INFO Sending request to https://cds.climate.copernicus.eu/api/v2/resources/reanalysis-era5-pressure-levels\n"
     ]
    },
    {
     "name": "stdout",
     "output_type": "stream",
     "text": [
      "Directory already exists.\n"
     ]
    },
    {
     "name": "stderr",
     "output_type": "stream",
     "text": [
      "2022-10-05 00:19:10,644 INFO Request is queued\n",
      "2022-10-05 00:19:11,787 INFO Request is running\n",
      "2022-10-05 00:25:31,129 INFO Request is completed\n",
      "2022-10-05 00:25:31,130 INFO Downloading https://download-0013-clone.copernicus-climate.eu/cache-compute-0013/cache/data4/adaptor.mars.internal-1664943843.3368878-12067-13-4d4580eb-1a07-4d70-a599-b1840dc4e80d.nc to /Users/jhayron/Data/ERA5/2005/ERA5_2005_03.nc (1.3G)\n",
      "2022-10-05 00:29:55,053 INFO Download rate 4.9M/s                                                                                                            \n",
      "2022-10-05 00:29:55,737 INFO Welcome to the CDS\n",
      "2022-10-05 00:29:55,738 INFO Sending request to https://cds.climate.copernicus.eu/api/v2/resources/reanalysis-era5-pressure-levels\n"
     ]
    },
    {
     "name": "stdout",
     "output_type": "stream",
     "text": [
      "Directory already exists.\n"
     ]
    },
    {
     "name": "stderr",
     "output_type": "stream",
     "text": [
      "2022-10-05 00:29:55,894 INFO Request is queued\n",
      "2022-10-05 00:29:57,085 INFO Request is running\n",
      "2022-10-05 00:36:16,249 INFO Request is completed\n",
      "2022-10-05 00:36:16,251 INFO Downloading https://download-0008-clone.copernicus-climate.eu/cache-compute-0008/cache/data1/adaptor.mars.internal-1664944487.5604382-9266-18-a40ca3c5-734b-4bdf-a3f3-fabe7f986d6e.nc to /Users/jhayron/Data/ERA5/2005/ERA5_2005_04.nc (1.2G)\n",
      "2022-10-05 00:40:46,738 INFO Download rate 4.6M/s                                                                                                            \n",
      "2022-10-05 00:40:47,489 INFO Welcome to the CDS\n",
      "2022-10-05 00:40:47,490 INFO Sending request to https://cds.climate.copernicus.eu/api/v2/resources/reanalysis-era5-pressure-levels\n"
     ]
    },
    {
     "name": "stdout",
     "output_type": "stream",
     "text": [
      "Directory already exists.\n"
     ]
    },
    {
     "name": "stderr",
     "output_type": "stream",
     "text": [
      "2022-10-05 00:40:47,793 INFO Request is queued\n",
      "2022-10-05 00:40:48,927 INFO Request is running\n",
      "2022-10-05 00:47:07,984 INFO Request is completed\n",
      "2022-10-05 00:47:07,985 INFO Downloading https://download-0014-clone.copernicus-climate.eu/cache-compute-0014/cache/data0/adaptor.mars.internal-1664945147.2295442-24654-6-5bff95f3-852f-4e4e-b928-ead3fada5771.nc to /Users/jhayron/Data/ERA5/2005/ERA5_2005_05.nc (1.3G)\n",
      "2022-10-05 00:50:45,273 INFO Download rate 5.9M/s                                                                                                            \n",
      "2022-10-05 00:50:45,971 INFO Welcome to the CDS\n",
      "2022-10-05 00:50:45,972 INFO Sending request to https://cds.climate.copernicus.eu/api/v2/resources/reanalysis-era5-pressure-levels\n"
     ]
    },
    {
     "name": "stdout",
     "output_type": "stream",
     "text": [
      "Directory already exists.\n"
     ]
    },
    {
     "name": "stderr",
     "output_type": "stream",
     "text": [
      "2022-10-05 00:50:46,114 INFO Request is queued\n",
      "2022-10-05 00:50:47,248 INFO Request is running\n",
      "2022-10-05 00:57:06,489 INFO Request is completed\n",
      "2022-10-05 00:57:06,490 INFO Downloading https://download-0009-clone.copernicus-climate.eu/cache-compute-0009/cache/data9/adaptor.mars.internal-1664945770.2866592-22846-20-66570afb-f423-4f19-866d-a654bb0d70a6.nc to /Users/jhayron/Data/ERA5/2005/ERA5_2005_06.nc (1.2G)\n",
      "2022-10-05 01:00:59,176 INFO Download rate 5.3M/s                                                                                                            \n",
      "2022-10-05 01:00:59,930 INFO Welcome to the CDS\n",
      "2022-10-05 01:00:59,932 INFO Sending request to https://cds.climate.copernicus.eu/api/v2/resources/reanalysis-era5-pressure-levels\n"
     ]
    },
    {
     "name": "stdout",
     "output_type": "stream",
     "text": [
      "Directory already exists.\n"
     ]
    },
    {
     "name": "stderr",
     "output_type": "stream",
     "text": [
      "2022-10-05 01:01:00,100 INFO Request is queued\n",
      "2022-10-05 01:01:01,236 INFO Request is running\n",
      "2022-10-05 01:07:20,574 INFO Request is completed\n",
      "2022-10-05 01:07:20,588 INFO Downloading https://download-0021.copernicus-climate.eu/cache-compute-0021/cache/data0/adaptor.mars.internal-1664946368.0641234-11367-10-956d7c69-be4e-4d1a-9b92-1bcbfd5ecfc3.nc to /Users/jhayron/Data/ERA5/2005/ERA5_2005_07.nc (1.3G)\n",
      "2022-10-05 01:21:00,651 INFO Download rate 1.6M/s                                                                                                            \n",
      "2022-10-05 01:21:01,849 INFO Welcome to the CDS\n",
      "2022-10-05 01:21:01,850 INFO Sending request to https://cds.climate.copernicus.eu/api/v2/resources/reanalysis-era5-pressure-levels\n"
     ]
    },
    {
     "name": "stdout",
     "output_type": "stream",
     "text": [
      "Directory already exists.\n"
     ]
    },
    {
     "name": "stderr",
     "output_type": "stream",
     "text": [
      "2022-10-05 01:21:02,008 INFO Request is queued\n",
      "2022-10-05 01:21:03,160 INFO Request is running\n",
      "2022-10-05 01:29:23,499 INFO Request is completed\n",
      "2022-10-05 01:29:23,500 INFO Downloading https://download-0000-clone.copernicus-climate.eu/cache-compute-0000/cache/data0/adaptor.mars.internal-1664947601.7722557-17366-2-d4ce5093-dbf8-4d04-8506-e0a81b0fd36a.nc to /Users/jhayron/Data/ERA5/2005/ERA5_2005_08.nc (1.3G)\n",
      "2022-10-05 01:39:03,839 INFO Download rate 2.2M/s                                                                                                            \n",
      "2022-10-05 01:39:04,585 INFO Welcome to the CDS\n",
      "2022-10-05 01:39:04,587 INFO Sending request to https://cds.climate.copernicus.eu/api/v2/resources/reanalysis-era5-pressure-levels\n"
     ]
    },
    {
     "name": "stdout",
     "output_type": "stream",
     "text": [
      "Directory already exists.\n"
     ]
    },
    {
     "name": "stderr",
     "output_type": "stream",
     "text": [
      "2022-10-05 01:39:04,772 INFO Request is queued\n",
      "2022-10-05 01:39:05,940 INFO Request is running\n",
      "2022-10-05 01:45:25,213 INFO Request is completed\n",
      "2022-10-05 01:45:25,216 INFO Downloading https://download-0012-clone.copernicus-climate.eu/cache-compute-0012/cache/data3/adaptor.mars.internal-1664948621.0239003-6695-15-2e57c8a3-8197-49e6-8a63-d8bb3910ed28.nc to /Users/jhayron/Data/ERA5/2005/ERA5_2005_09.nc (1.2G)\n",
      "2022-10-05 01:51:21,898 INFO Download rate 3.5M/s                                                                                                            \n",
      "2022-10-05 01:51:23,179 INFO Welcome to the CDS\n",
      "2022-10-05 01:51:23,181 INFO Sending request to https://cds.climate.copernicus.eu/api/v2/resources/reanalysis-era5-pressure-levels\n"
     ]
    },
    {
     "name": "stdout",
     "output_type": "stream",
     "text": [
      "Directory already exists.\n"
     ]
    },
    {
     "name": "stderr",
     "output_type": "stream",
     "text": [
      "2022-10-05 01:51:23,334 INFO Request is queued\n",
      "2022-10-05 01:51:24,477 INFO Request is running\n",
      "2022-10-05 01:57:43,773 INFO Request is completed\n",
      "2022-10-05 01:57:43,776 INFO Downloading https://download-0005-clone.copernicus-climate.eu/cache-compute-0005/cache/data9/adaptor.mars.internal-1664949389.4193866-2930-1-3d8c0e6b-f187-48c5-a534-3366952c96bd.nc to /Users/jhayron/Data/ERA5/2005/ERA5_2005_10.nc (1.3G)\n",
      "2022-10-05 02:03:09,779 INFO Download rate 3.9M/s                                                                                                            \n",
      "2022-10-05 02:03:10,574 INFO Welcome to the CDS\n",
      "2022-10-05 02:03:10,576 INFO Sending request to https://cds.climate.copernicus.eu/api/v2/resources/reanalysis-era5-pressure-levels\n"
     ]
    },
    {
     "name": "stdout",
     "output_type": "stream",
     "text": [
      "Directory already exists.\n"
     ]
    },
    {
     "name": "stderr",
     "output_type": "stream",
     "text": [
      "2022-10-05 02:03:10,726 INFO Request is queued\n",
      "2022-10-05 02:03:11,857 INFO Request is running\n",
      "2022-10-05 02:09:31,136 INFO Request is completed\n",
      "2022-10-05 02:09:31,138 INFO Downloading https://download-0004-clone.copernicus-climate.eu/cache-compute-0004/cache/data5/adaptor.mars.internal-1664950058.6664376-4862-1-d11f50e7-6f71-4000-868d-2d77b79e3c5d.nc to /Users/jhayron/Data/ERA5/2005/ERA5_2005_11.nc (1.2G)\n",
      "2022-10-05 02:12:33,861 INFO Download rate 6.8M/s                                                                                                            \n",
      "2022-10-05 02:12:34,530 INFO Welcome to the CDS\n",
      "2022-10-05 02:12:34,532 INFO Sending request to https://cds.climate.copernicus.eu/api/v2/resources/reanalysis-era5-pressure-levels\n"
     ]
    },
    {
     "name": "stdout",
     "output_type": "stream",
     "text": [
      "Directory already exists.\n"
     ]
    },
    {
     "name": "stderr",
     "output_type": "stream",
     "text": [
      "2022-10-05 02:12:34,701 INFO Request is queued\n",
      "2022-10-05 02:12:35,845 INFO Request is running\n",
      "2022-10-05 02:18:54,944 INFO Request is completed\n",
      "2022-10-05 02:18:54,946 INFO Downloading https://download-0000-clone.copernicus-climate.eu/cache-compute-0000/cache/data5/adaptor.mars.internal-1664950640.0405052-9706-3-43dee722-c826-4473-8211-69d69b640ee1.nc to /Users/jhayron/Data/ERA5/2005/ERA5_2005_12.nc (1.3G)\n",
      "2022-10-05 02:23:40,286 INFO Download rate 4.5M/s                                                                                                            \n"
     ]
    }
   ],
   "source": [
    "import cdsapi\n",
    "from calendar import monthrange\n",
    "import numpy as np\n",
    "import os\n",
    "\n",
    "year = '2005'\n",
    "for month in ['01','02','03','04','05','06','07','08','09','10','11','12']:\n",
    "    number_of_days = monthrange(int(year),int(month))[-1]\n",
    "    days = np.arange(1,number_of_days+1).astype(str).tolist()\n",
    "    path_output = f'/Users/jhayron/Data/ERA5/{year}/'\n",
    "    try:\n",
    "        os.mkdir(path_output)\n",
    "    except:\n",
    "        print('Directory already exists.')\n",
    "\n",
    "    c = cdsapi.Client()\n",
    "\n",
    "    c.retrieve(\n",
    "        'reanalysis-era5-pressure-levels',\n",
    "        {\n",
    "            'product_type': 'reanalysis',\n",
    "            'format': 'netcdf',\n",
    "            'pressure_level': [\n",
    "                '500', '600', '700',\n",
    "                '800', '850', '900',\n",
    "                '950', '1000',\n",
    "            ],\n",
    "            'variable': [\n",
    "                'geopotential', 'relative_humidity', 'specific_humidity',\n",
    "                'u_component_of_wind', 'v_component_of_wind', 'vertical_velocity',\n",
    "            ],\n",
    "            'year': year,\n",
    "            'month': [\n",
    "                month\n",
    "            ],\n",
    "            'day': days,\n",
    "            'time': [\n",
    "                '00:00', '03:00', '06:00',\n",
    "                '09:00', '12:00', '15:00',\n",
    "                '18:00', '21:00',\n",
    "            ],\n",
    "            'area': [\n",
    "                25, -100, -25,\n",
    "                -30,\n",
    "            ],\n",
    "        },\n",
    "        f'{path_output}ERA5_{year}_{month}.nc')"
   ]
  },
  {
   "cell_type": "code",
   "execution_count": 8,
   "id": "5df21927",
   "metadata": {},
   "outputs": [
    {
     "name": "stderr",
     "output_type": "stream",
     "text": [
      "2022-10-05 02:23:41,025 INFO Welcome to the CDS\n",
      "2022-10-05 02:23:41,027 INFO Sending request to https://cds.climate.copernicus.eu/api/v2/resources/reanalysis-era5-pressure-levels\n",
      "2022-10-05 02:23:41,230 INFO Request is queued\n",
      "2022-10-05 02:23:42,382 INFO Request is running\n",
      "2022-10-05 02:30:01,404 INFO Request is completed\n",
      "2022-10-05 02:30:01,407 INFO Downloading https://download-0012-clone.copernicus-climate.eu/cache-compute-0012/cache/data4/adaptor.mars.internal-1664951310.5659218-4605-1-23458a79-0c0c-4562-b4bb-502068530f35.nc to /Users/jhayron/Data/ERA5/2004/ERA5_2004_01.nc (1.3G)\n",
      "2022-10-05 02:33:18,227 INFO Download rate 6.5M/s                                                                                                            \n",
      "2022-10-05 02:33:18,981 INFO Welcome to the CDS\n",
      "2022-10-05 02:33:18,983 INFO Sending request to https://cds.climate.copernicus.eu/api/v2/resources/reanalysis-era5-pressure-levels\n"
     ]
    },
    {
     "name": "stdout",
     "output_type": "stream",
     "text": [
      "Directory already exists.\n"
     ]
    },
    {
     "name": "stderr",
     "output_type": "stream",
     "text": [
      "2022-10-05 02:33:19,139 INFO Request is queued\n",
      "2022-10-05 02:33:20,291 INFO Request is running\n",
      "2022-10-05 02:39:39,311 INFO Request is completed\n",
      "2022-10-05 02:39:39,313 INFO Downloading https://download-0003-clone.copernicus-climate.eu/cache-compute-0003/cache/data8/adaptor.mars.internal-1664951888.8426113-28042-13-fcd83e9a-fea9-4a80-bfd1-c443e6e71b55.nc to /Users/jhayron/Data/ERA5/2004/ERA5_2004_02.nc (1.2G)\n",
      "2022-10-05 02:43:04,316 INFO Download rate 5.9M/s                                                                                                            \n",
      "2022-10-05 02:43:04,954 INFO Welcome to the CDS\n",
      "2022-10-05 02:43:04,956 INFO Sending request to https://cds.climate.copernicus.eu/api/v2/resources/reanalysis-era5-pressure-levels\n"
     ]
    },
    {
     "name": "stdout",
     "output_type": "stream",
     "text": [
      "Directory already exists.\n"
     ]
    },
    {
     "name": "stderr",
     "output_type": "stream",
     "text": [
      "2022-10-05 02:43:05,102 INFO Request is queued\n",
      "2022-10-05 02:43:06,249 INFO Request is running\n",
      "2022-10-05 02:49:25,252 INFO Request is completed\n",
      "2022-10-05 02:49:25,254 INFO Downloading https://download-0010-clone.copernicus-climate.eu/cache-compute-0010/cache/data6/adaptor.mars.internal-1664952480.6664627-28559-2-3abe0c77-4eb7-4b95-8ce8-ce7a57240676.nc to /Users/jhayron/Data/ERA5/2004/ERA5_2004_03.nc (1.3G)\n",
      "2022-10-05 02:53:36,145 INFO Download rate 5.1M/s                                                                                                            \n",
      "2022-10-05 02:53:36,781 INFO Welcome to the CDS\n",
      "2022-10-05 02:53:36,782 INFO Sending request to https://cds.climate.copernicus.eu/api/v2/resources/reanalysis-era5-pressure-levels\n"
     ]
    },
    {
     "name": "stdout",
     "output_type": "stream",
     "text": [
      "Directory already exists.\n"
     ]
    },
    {
     "name": "stderr",
     "output_type": "stream",
     "text": [
      "2022-10-05 02:53:36,925 INFO Request is queued\n",
      "2022-10-05 02:53:38,063 INFO Request is running\n",
      "2022-10-05 02:59:59,303 INFO Request is completed\n",
      "2022-10-05 02:59:59,305 INFO Downloading https://download-0009-clone.copernicus-climate.eu/cache-compute-0009/cache/data1/adaptor.mars.internal-1664953112.1943567-30971-3-97b155fd-a28d-4235-8592-911c52b60eb2.nc to /Users/jhayron/Data/ERA5/2004/ERA5_2004_04.nc (1.2G)\n",
      "2022-10-05 03:03:22,999 INFO Download rate 6.1M/s                                                                                                            \n",
      "2022-10-05 03:03:23,684 INFO Welcome to the CDS\n",
      "2022-10-05 03:03:23,686 INFO Sending request to https://cds.climate.copernicus.eu/api/v2/resources/reanalysis-era5-pressure-levels\n"
     ]
    },
    {
     "name": "stdout",
     "output_type": "stream",
     "text": [
      "Directory already exists.\n"
     ]
    },
    {
     "name": "stderr",
     "output_type": "stream",
     "text": [
      "2022-10-05 03:03:23,852 INFO Request is queued\n",
      "2022-10-05 03:03:24,981 INFO Request is running\n",
      "2022-10-05 03:09:46,914 INFO Request is completed\n",
      "2022-10-05 03:09:46,916 INFO Downloading https://download-0006-clone.copernicus-climate.eu/cache-compute-0006/cache/data6/adaptor.mars.internal-1664953703.2573779-9868-8-350f6cdf-a8c5-4a59-867d-ce77f599a820.nc to /Users/jhayron/Data/ERA5/2004/ERA5_2004_05.nc (1.3G)\n",
      "2022-10-05 03:14:24,151 INFO Download rate 4.6M/s                                                                                                            \n",
      "2022-10-05 03:14:24,815 INFO Welcome to the CDS\n",
      "2022-10-05 03:14:24,816 INFO Sending request to https://cds.climate.copernicus.eu/api/v2/resources/reanalysis-era5-pressure-levels\n"
     ]
    },
    {
     "name": "stdout",
     "output_type": "stream",
     "text": [
      "Directory already exists.\n"
     ]
    },
    {
     "name": "stderr",
     "output_type": "stream",
     "text": [
      "2022-10-05 03:14:25,005 INFO Request is queued\n",
      "2022-10-05 03:14:26,140 INFO Request is running\n",
      "2022-10-05 03:20:45,190 INFO Request is completed\n",
      "2022-10-05 03:20:45,195 INFO Downloading https://download-0003-clone.copernicus-climate.eu/cache-compute-0003/cache/data8/adaptor.mars.internal-1664954363.4633136-8882-11-6e4f5f4b-b3bc-4bb5-bc9f-88a227b7eeee.nc to /Users/jhayron/Data/ERA5/2004/ERA5_2004_06.nc (1.2G)\n",
      "2022-10-05 03:24:31,863 INFO Download rate 5.5M/s                                                                                                            \n",
      "2022-10-05 03:24:33,633 INFO Welcome to the CDS\n",
      "2022-10-05 03:24:33,635 INFO Sending request to https://cds.climate.copernicus.eu/api/v2/resources/reanalysis-era5-pressure-levels\n"
     ]
    },
    {
     "name": "stdout",
     "output_type": "stream",
     "text": [
      "Directory already exists.\n"
     ]
    },
    {
     "name": "stderr",
     "output_type": "stream",
     "text": [
      "2022-10-05 03:24:33,815 INFO Request is queued\n",
      "2022-10-05 03:24:34,964 INFO Request is running\n",
      "2022-10-05 03:33:01,371 INFO Request is completed\n",
      "2022-10-05 03:33:01,373 INFO Downloading https://download-0008-clone.copernicus-climate.eu/cache-compute-0008/cache/data6/adaptor.mars.internal-1664955017.5927496-27339-6-9c513ec1-c948-41ae-9977-56daf77bef21.nc to /Users/jhayron/Data/ERA5/2004/ERA5_2004_07.nc (1.3G)\n",
      "2022-10-05 03:36:24,662 INFO Download rate 6.3M/s                                                                                                            \n",
      "2022-10-05 03:36:25,311 INFO Welcome to the CDS\n",
      "2022-10-05 03:36:25,313 INFO Sending request to https://cds.climate.copernicus.eu/api/v2/resources/reanalysis-era5-pressure-levels\n"
     ]
    },
    {
     "name": "stdout",
     "output_type": "stream",
     "text": [
      "Directory already exists.\n"
     ]
    },
    {
     "name": "stderr",
     "output_type": "stream",
     "text": [
      "2022-10-05 03:36:25,481 INFO Request is queued\n",
      "2022-10-05 03:36:26,623 INFO Request is running\n",
      "2022-10-05 03:42:46,715 INFO Request is completed\n",
      "2022-10-05 03:42:46,717 INFO Downloading https://download-0019.copernicus-climate.eu/cache-compute-0019/cache/data3/adaptor.mars.internal-1664955695.1525612-10575-4-14cc95fc-aa8d-470d-b358-0a759a69ae38.nc to /Users/jhayron/Data/ERA5/2004/ERA5_2004_08.nc (1.3G)\n",
      "2022-10-05 03:46:39,894 INFO Download rate 5.5M/s                                                                                                            \n",
      "2022-10-05 03:46:40,562 INFO Welcome to the CDS\n",
      "2022-10-05 03:46:40,564 INFO Sending request to https://cds.climate.copernicus.eu/api/v2/resources/reanalysis-era5-pressure-levels\n"
     ]
    },
    {
     "name": "stdout",
     "output_type": "stream",
     "text": [
      "Directory already exists.\n"
     ]
    },
    {
     "name": "stderr",
     "output_type": "stream",
     "text": [
      "2022-10-05 03:46:40,726 INFO Request is queued\n",
      "2022-10-05 03:46:41,858 INFO Request is running\n",
      "2022-10-05 03:53:00,865 INFO Request is completed\n",
      "2022-10-05 03:53:00,867 INFO Downloading https://download-0020.copernicus-climate.eu/cache-compute-0020/cache/data4/adaptor.mars.internal-1664956293.6858063-20931-5-c3da4a9c-46a2-44fc-9300-c3536e6a12b9.nc to /Users/jhayron/Data/ERA5/2004/ERA5_2004_09.nc (1.2G)\n",
      "2022-10-05 03:56:36,223 INFO Download rate 5.8M/s                                                                                                            \n",
      "2022-10-05 03:56:36,863 INFO Welcome to the CDS\n",
      "2022-10-05 03:56:36,865 INFO Sending request to https://cds.climate.copernicus.eu/api/v2/resources/reanalysis-era5-pressure-levels\n"
     ]
    },
    {
     "name": "stdout",
     "output_type": "stream",
     "text": [
      "Directory already exists.\n"
     ]
    },
    {
     "name": "stderr",
     "output_type": "stream",
     "text": [
      "2022-10-05 03:56:37,011 INFO Request is queued\n",
      "2022-10-05 03:56:38,149 INFO Request is running\n",
      "2022-10-05 04:04:57,995 INFO Request is completed\n",
      "2022-10-05 04:04:57,997 INFO Downloading https://download-0014-clone.copernicus-climate.eu/cache-compute-0014/cache/data9/adaptor.mars.internal-1664956935.2501078-6229-17-bef42e5b-cd1b-4c5b-ad33-9e8bee26b2d3.nc to /Users/jhayron/Data/ERA5/2004/ERA5_2004_10.nc (1.3G)\n",
      "2022-10-05 04:07:41,984 INFO Download rate 7.8M/s                                                                                                            \n",
      "2022-10-05 04:07:42,672 INFO Welcome to the CDS\n",
      "2022-10-05 04:07:42,674 INFO Sending request to https://cds.climate.copernicus.eu/api/v2/resources/reanalysis-era5-pressure-levels\n"
     ]
    },
    {
     "name": "stdout",
     "output_type": "stream",
     "text": [
      "Directory already exists.\n"
     ]
    },
    {
     "name": "stderr",
     "output_type": "stream",
     "text": [
      "2022-10-05 04:07:42,813 INFO Request is queued\n",
      "2022-10-05 04:07:43,953 INFO Request is running\n",
      "2022-10-05 04:14:03,112 INFO Request is completed\n",
      "2022-10-05 04:14:03,115 INFO Downloading https://download-0002-clone.copernicus-climate.eu/cache-compute-0002/cache/data9/adaptor.mars.internal-1664957588.7257915-24538-6-d5746d69-9d86-4d56-b343-0aa388f4ab9b.nc to /Users/jhayron/Data/ERA5/2004/ERA5_2004_11.nc (1.2G)\n",
      "2022-10-05 04:19:06,124 INFO Download rate 4.1M/s                                                                                                            \n",
      "2022-10-05 04:19:06,804 INFO Welcome to the CDS\n",
      "2022-10-05 04:19:06,805 INFO Sending request to https://cds.climate.copernicus.eu/api/v2/resources/reanalysis-era5-pressure-levels\n"
     ]
    },
    {
     "name": "stdout",
     "output_type": "stream",
     "text": [
      "Directory already exists.\n"
     ]
    },
    {
     "name": "stderr",
     "output_type": "stream",
     "text": [
      "2022-10-05 04:19:06,983 INFO Request is queued\n",
      "2022-10-05 04:19:08,134 INFO Request is running\n",
      "2022-10-05 04:25:27,614 INFO Request is completed\n",
      "2022-10-05 04:25:27,616 INFO Downloading https://download-0021.copernicus-climate.eu/cache-compute-0021/cache/data9/adaptor.mars.internal-1664958260.4708517-9783-8-843e0719-0a73-4ca6-b3d3-a7c33cd25f74.nc to /Users/jhayron/Data/ERA5/2004/ERA5_2004_12.nc (1.3G)\n",
      "2022-10-05 04:27:50,724 INFO Download rate 9M/s                                                                                                              \n"
     ]
    }
   ],
   "source": [
    "import cdsapi\n",
    "from calendar import monthrange\n",
    "import numpy as np\n",
    "import os\n",
    "\n",
    "year = '2004'\n",
    "for month in ['01','02','03','04','05','06','07','08','09','10','11','12']:\n",
    "    number_of_days = monthrange(int(year),int(month))[-1]\n",
    "    days = np.arange(1,number_of_days+1).astype(str).tolist()\n",
    "    path_output = f'/Users/jhayron/Data/ERA5/{year}/'\n",
    "    try:\n",
    "        os.mkdir(path_output)\n",
    "    except:\n",
    "        print('Directory already exists.')\n",
    "\n",
    "    c = cdsapi.Client()\n",
    "\n",
    "    c.retrieve(\n",
    "        'reanalysis-era5-pressure-levels',\n",
    "        {\n",
    "            'product_type': 'reanalysis',\n",
    "            'format': 'netcdf',\n",
    "            'pressure_level': [\n",
    "                '500', '600', '700',\n",
    "                '800', '850', '900',\n",
    "                '950', '1000',\n",
    "            ],\n",
    "            'variable': [\n",
    "                'geopotential', 'relative_humidity', 'specific_humidity',\n",
    "                'u_component_of_wind', 'v_component_of_wind', 'vertical_velocity',\n",
    "            ],\n",
    "            'year': year,\n",
    "            'month': [\n",
    "                month\n",
    "            ],\n",
    "            'day': days,\n",
    "            'time': [\n",
    "                '00:00', '03:00', '06:00',\n",
    "                '09:00', '12:00', '15:00',\n",
    "                '18:00', '21:00',\n",
    "            ],\n",
    "            'area': [\n",
    "                25, -100, -25,\n",
    "                -30,\n",
    "            ],\n",
    "        },\n",
    "        f'{path_output}ERA5_{year}_{month}.nc')"
   ]
  },
  {
   "cell_type": "code",
   "execution_count": 9,
   "id": "0b440e2a",
   "metadata": {},
   "outputs": [
    {
     "name": "stderr",
     "output_type": "stream",
     "text": [
      "2022-10-05 04:27:51,450 INFO Welcome to the CDS\n",
      "2022-10-05 04:27:51,452 INFO Sending request to https://cds.climate.copernicus.eu/api/v2/resources/reanalysis-era5-pressure-levels\n",
      "2022-10-05 04:27:51,585 INFO Request is queued\n",
      "2022-10-05 04:27:52,723 INFO Request is running\n",
      "2022-10-05 04:34:11,702 INFO Request is completed\n",
      "2022-10-05 04:34:11,704 INFO Downloading https://download-0019.copernicus-climate.eu/cache-compute-0019/cache/data8/adaptor.mars.internal-1664958793.1484985-29533-10-348efefb-521e-4101-83d9-04ddb1320aaf.nc to /Users/jhayron/Data/ERA5/2003/ERA5_2003_01.nc (1.3G)\n",
      "2022-10-05 04:36:21,352 INFO Download rate 9.9M/s                                                                                                            \n",
      "2022-10-05 04:36:21,982 INFO Welcome to the CDS\n",
      "2022-10-05 04:36:21,984 INFO Sending request to https://cds.climate.copernicus.eu/api/v2/resources/reanalysis-era5-pressure-levels\n"
     ]
    },
    {
     "name": "stdout",
     "output_type": "stream",
     "text": [
      "Directory already exists.\n"
     ]
    },
    {
     "name": "stderr",
     "output_type": "stream",
     "text": [
      "2022-10-05 04:36:22,195 INFO Request is queued\n",
      "2022-10-05 04:36:23,361 INFO Request is running\n",
      "2022-10-05 04:42:42,390 INFO Request is completed\n",
      "2022-10-05 04:42:42,393 INFO Downloading https://download-0004-clone.copernicus-climate.eu/cache-compute-0004/cache/data6/adaptor.mars.internal-1664959287.2306628-30952-12-d6792023-517e-4d4e-82ad-53999a54a6d4.nc to /Users/jhayron/Data/ERA5/2003/ERA5_2003_02.nc (1.1G)\n",
      "2022-10-05 04:45:00,670 INFO Download rate 8.4M/s                                                                                                            \n",
      "2022-10-05 04:45:01,395 INFO Welcome to the CDS\n",
      "2022-10-05 04:45:01,397 INFO Sending request to https://cds.climate.copernicus.eu/api/v2/resources/reanalysis-era5-pressure-levels\n"
     ]
    },
    {
     "name": "stdout",
     "output_type": "stream",
     "text": [
      "Directory already exists.\n"
     ]
    },
    {
     "name": "stderr",
     "output_type": "stream",
     "text": [
      "2022-10-05 04:45:01,529 INFO Request is queued\n",
      "2022-10-05 04:45:02,670 INFO Request is running\n",
      "2022-10-05 04:53:22,160 INFO Request is completed\n",
      "2022-10-05 04:53:22,165 INFO Downloading https://download-0014-clone.copernicus-climate.eu/cache-compute-0014/cache/data8/adaptor.mars.internal-1664959837.291215-11492-9-57ed8be5-79cc-453d-b6b1-717cca8baf01.nc to /Users/jhayron/Data/ERA5/2003/ERA5_2003_03.nc (1.3G)\n",
      "2022-10-05 04:56:01,549 INFO Download rate 8M/s                                                                                                              \n",
      "2022-10-05 04:56:02,187 INFO Welcome to the CDS\n",
      "2022-10-05 04:56:02,189 INFO Sending request to https://cds.climate.copernicus.eu/api/v2/resources/reanalysis-era5-pressure-levels\n"
     ]
    },
    {
     "name": "stdout",
     "output_type": "stream",
     "text": [
      "Directory already exists.\n"
     ]
    },
    {
     "name": "stderr",
     "output_type": "stream",
     "text": [
      "2022-10-05 04:56:02,391 INFO Request is queued\n",
      "2022-10-05 04:56:03,526 INFO Request is running\n",
      "2022-10-05 05:02:22,643 INFO Request is completed\n",
      "2022-10-05 05:02:22,644 INFO Downloading https://download-0003-clone.copernicus-climate.eu/cache-compute-0003/cache/data7/adaptor.mars.internal-1664960477.5394201-7127-9-4054c752-2e27-43d5-99b7-eedfdf345d5e.nc to /Users/jhayron/Data/ERA5/2003/ERA5_2003_04.nc (1.2G)\n",
      "2022-10-05 05:05:05,747 INFO Download rate 7.6M/s                                                                                                            \n",
      "2022-10-05 05:05:06,441 INFO Welcome to the CDS\n",
      "2022-10-05 05:05:06,444 INFO Sending request to https://cds.climate.copernicus.eu/api/v2/resources/reanalysis-era5-pressure-levels\n"
     ]
    },
    {
     "name": "stdout",
     "output_type": "stream",
     "text": [
      "Directory already exists.\n"
     ]
    },
    {
     "name": "stderr",
     "output_type": "stream",
     "text": [
      "2022-10-05 05:05:06,612 INFO Request is queued\n",
      "2022-10-05 05:05:09,410 INFO Request is running\n",
      "2022-10-05 05:13:27,286 INFO Request is completed\n",
      "2022-10-05 05:13:27,289 INFO Downloading https://download-0018.copernicus-climate.eu/cache-compute-0018/cache/data7/adaptor.mars.internal-1664961045.957191-21661-11-105e79cf-af5f-4541-8e99-02821c415788.nc to /Users/jhayron/Data/ERA5/2003/ERA5_2003_05.nc (1.3G)\n",
      "2022-10-05 05:15:55,408 INFO Download rate 8.7M/s                                                                                                            \n",
      "2022-10-05 05:15:56,120 INFO Welcome to the CDS\n",
      "2022-10-05 05:15:56,122 INFO Sending request to https://cds.climate.copernicus.eu/api/v2/resources/reanalysis-era5-pressure-levels\n"
     ]
    },
    {
     "name": "stdout",
     "output_type": "stream",
     "text": [
      "Directory already exists.\n"
     ]
    },
    {
     "name": "stderr",
     "output_type": "stream",
     "text": [
      "2022-10-05 05:15:56,265 INFO Request is queued\n",
      "2022-10-05 05:15:57,419 INFO Request is running\n",
      "2022-10-05 05:24:16,919 INFO Request is completed\n",
      "2022-10-05 05:24:16,921 INFO Downloading https://download-0003-clone.copernicus-climate.eu/cache-compute-0003/cache/data5/adaptor.mars.internal-1664961730.582865-14986-2-b167faa8-f3d4-4df4-9f21-fccca1e0710c.nc to /Users/jhayron/Data/ERA5/2003/ERA5_2003_06.nc (1.2G)\n",
      "2022-10-05 05:27:16,763 INFO Download rate 6.9M/s                                                                                                            \n",
      "2022-10-05 05:27:17,537 INFO Welcome to the CDS\n",
      "2022-10-05 05:27:17,538 INFO Sending request to https://cds.climate.copernicus.eu/api/v2/resources/reanalysis-era5-pressure-levels\n"
     ]
    },
    {
     "name": "stdout",
     "output_type": "stream",
     "text": [
      "Directory already exists.\n"
     ]
    },
    {
     "name": "stderr",
     "output_type": "stream",
     "text": [
      "2022-10-05 05:27:17,719 INFO Request is queued\n",
      "2022-10-05 05:27:22,912 INFO Request is running\n",
      "2022-10-05 05:37:39,363 INFO Request is queued\n",
      "2022-10-05 05:39:39,917 INFO Request is running\n",
      "2022-10-05 05:47:42,068 INFO Request is completed\n",
      "2022-10-05 05:47:42,071 INFO Downloading https://download-0002-clone.copernicus-climate.eu/cache-compute-0002/cache/data9/adaptor.mars.internal-1664963111.896149-7351-2-085bb494-ae04-46e0-8cc9-011424fe78fc.nc to /Users/jhayron/Data/ERA5/2003/ERA5_2003_07.nc (1.3G)\n",
      "2022-10-05 05:50:45,094 INFO Download rate 7M/s                                                                                                              \n",
      "2022-10-05 05:50:46,170 INFO Welcome to the CDS\n",
      "2022-10-05 05:50:46,172 INFO Sending request to https://cds.climate.copernicus.eu/api/v2/resources/reanalysis-era5-pressure-levels\n"
     ]
    },
    {
     "name": "stdout",
     "output_type": "stream",
     "text": [
      "Directory already exists.\n"
     ]
    },
    {
     "name": "stderr",
     "output_type": "stream",
     "text": [
      "2022-10-05 05:50:46,339 INFO Request is queued\n",
      "2022-10-05 05:50:47,484 INFO Request is running\n",
      "2022-10-05 05:59:06,989 INFO Request is completed\n",
      "2022-10-05 05:59:06,991 INFO Downloading https://download-0018.copernicus-climate.eu/cache-compute-0018/cache/data9/adaptor.mars.internal-1664963842.7312114-20607-6-fed2fdd5-8d0f-4e5f-91c9-d16fb118eff2.nc to /Users/jhayron/Data/ERA5/2003/ERA5_2003_08.nc (1.3G)\n",
      "2022-10-05 06:02:20,516 INFO Download rate 6.6M/s                                                                                                            \n",
      "2022-10-05 06:02:21,144 INFO Welcome to the CDS\n",
      "2022-10-05 06:02:21,146 INFO Sending request to https://cds.climate.copernicus.eu/api/v2/resources/reanalysis-era5-pressure-levels\n"
     ]
    },
    {
     "name": "stdout",
     "output_type": "stream",
     "text": [
      "Directory already exists.\n"
     ]
    },
    {
     "name": "stderr",
     "output_type": "stream",
     "text": [
      "2022-10-05 06:02:21,312 INFO Request is queued\n",
      "2022-10-05 06:02:22,445 INFO Request is running\n",
      "2022-10-05 06:08:41,414 INFO Request is completed\n",
      "2022-10-05 06:08:41,417 INFO Downloading https://download-0011-clone.copernicus-climate.eu/cache-compute-0011/cache/data6/adaptor.mars.internal-1664964474.7779324-21844-1-711e683a-045e-4b19-9826-db0aa0a5ae40.nc to /Users/jhayron/Data/ERA5/2003/ERA5_2003_09.nc (1.2G)\n",
      "2022-10-05 06:12:22,020 INFO Download rate 5.6M/s                                                                                                            \n",
      "2022-10-05 06:12:22,793 INFO Welcome to the CDS\n",
      "2022-10-05 06:12:22,795 INFO Sending request to https://cds.climate.copernicus.eu/api/v2/resources/reanalysis-era5-pressure-levels\n"
     ]
    },
    {
     "name": "stdout",
     "output_type": "stream",
     "text": [
      "Directory already exists.\n"
     ]
    },
    {
     "name": "stderr",
     "output_type": "stream",
     "text": [
      "2022-10-05 06:12:22,959 INFO Request is queued\n",
      "2022-10-05 06:12:24,455 INFO Request is running\n",
      "2022-10-05 06:20:44,661 INFO Request is completed\n",
      "2022-10-05 06:20:44,663 INFO Downloading https://download-0011-clone.copernicus-climate.eu/cache-compute-0011/cache/data2/adaptor.mars.internal-1664965082.9621837-29681-2-a076bd12-46fd-49f7-95e3-500e9c62e95b.nc to /Users/jhayron/Data/ERA5/2003/ERA5_2003_10.nc (1.3G)\n",
      "2022-10-05 06:23:49,172 INFO Download rate 7M/s                                                                                                              \n",
      "2022-10-05 06:23:49,845 INFO Welcome to the CDS\n",
      "2022-10-05 06:23:49,847 INFO Sending request to https://cds.climate.copernicus.eu/api/v2/resources/reanalysis-era5-pressure-levels\n"
     ]
    },
    {
     "name": "stdout",
     "output_type": "stream",
     "text": [
      "Directory already exists.\n"
     ]
    },
    {
     "name": "stderr",
     "output_type": "stream",
     "text": [
      "2022-10-05 06:23:49,983 INFO Request is queued\n",
      "2022-10-05 06:23:51,127 INFO Request is running\n",
      "2022-10-05 06:32:10,787 INFO Request is completed\n",
      "2022-10-05 06:32:10,792 INFO Downloading https://download-0010-clone.copernicus-climate.eu/cache-compute-0010/cache/data6/adaptor.mars.internal-1664965769.5653005-26174-17-b45ecc19-df84-449e-9978-756dc3d589e3.nc to /Users/jhayron/Data/ERA5/2003/ERA5_2003_11.nc (1.2G)\n",
      "2022-10-05 06:35:00,262 INFO Download rate 7.3M/s                                                                                                            \n",
      "2022-10-05 06:35:00,918 INFO Welcome to the CDS\n",
      "2022-10-05 06:35:00,920 INFO Sending request to https://cds.climate.copernicus.eu/api/v2/resources/reanalysis-era5-pressure-levels\n"
     ]
    },
    {
     "name": "stdout",
     "output_type": "stream",
     "text": [
      "Directory already exists.\n"
     ]
    },
    {
     "name": "stderr",
     "output_type": "stream",
     "text": [
      "2022-10-05 06:35:01,055 INFO Request is queued\n",
      "2022-10-05 06:35:02,199 INFO Request is running\n",
      "2022-10-05 06:43:21,706 INFO Request is completed\n",
      "2022-10-05 06:43:21,709 INFO Downloading https://download-0010-clone.copernicus-climate.eu/cache-compute-0010/cache/data1/adaptor.mars.internal-1664966436.527217-10330-5-5ff67e33-6268-4be0-9759-6cf7d20bbdc4.nc to /Users/jhayron/Data/ERA5/2003/ERA5_2003_12.nc (1.3G)\n",
      "2022-10-05 06:45:56,216 INFO Download rate 8.3M/s                                                                                                            \n"
     ]
    }
   ],
   "source": [
    "import cdsapi\n",
    "from calendar import monthrange\n",
    "import numpy as np\n",
    "import os\n",
    "\n",
    "year = '2003'\n",
    "for month in ['01','02','03','04','05','06','07','08','09','10','11','12']:\n",
    "    number_of_days = monthrange(int(year),int(month))[-1]\n",
    "    days = np.arange(1,number_of_days+1).astype(str).tolist()\n",
    "    path_output = f'/Users/jhayron/Data/ERA5/{year}/'\n",
    "    try:\n",
    "        os.mkdir(path_output)\n",
    "    except:\n",
    "        print('Directory already exists.')\n",
    "\n",
    "    c = cdsapi.Client()\n",
    "\n",
    "    c.retrieve(\n",
    "        'reanalysis-era5-pressure-levels',\n",
    "        {\n",
    "            'product_type': 'reanalysis',\n",
    "            'format': 'netcdf',\n",
    "            'pressure_level': [\n",
    "                '500', '600', '700',\n",
    "                '800', '850', '900',\n",
    "                '950', '1000',\n",
    "            ],\n",
    "            'variable': [\n",
    "                'geopotential', 'relative_humidity', 'specific_humidity',\n",
    "                'u_component_of_wind', 'v_component_of_wind', 'vertical_velocity',\n",
    "            ],\n",
    "            'year': year,\n",
    "            'month': [\n",
    "                month\n",
    "            ],\n",
    "            'day': days,\n",
    "            'time': [\n",
    "                '00:00', '03:00', '06:00',\n",
    "                '09:00', '12:00', '15:00',\n",
    "                '18:00', '21:00',\n",
    "            ],\n",
    "            'area': [\n",
    "                25, -100, -25,\n",
    "                -30,\n",
    "            ],\n",
    "        },\n",
    "        f'{path_output}ERA5_{year}_{month}.nc')"
   ]
  },
  {
   "cell_type": "code",
   "execution_count": 10,
   "id": "f5b1444d",
   "metadata": {},
   "outputs": [
    {
     "name": "stderr",
     "output_type": "stream",
     "text": [
      "2022-10-05 06:45:57,008 INFO Welcome to the CDS\n",
      "2022-10-05 06:45:57,010 INFO Sending request to https://cds.climate.copernicus.eu/api/v2/resources/reanalysis-era5-pressure-levels\n",
      "2022-10-05 06:45:57,168 INFO Request is queued\n",
      "2022-10-05 06:45:58,318 INFO Request is running\n",
      "2022-10-05 06:52:17,377 INFO Request is completed\n",
      "2022-10-05 06:52:17,380 INFO Downloading https://download-0010-clone.copernicus-climate.eu/cache-compute-0010/cache/data4/adaptor.mars.internal-1664967071.7669766-11270-11-55574e23-bd64-4201-ac2d-d17cbb09be13.nc to /Users/jhayron/Data/ERA5/2002/ERA5_2002_01.nc (1.3G)\n",
      "2022-10-05 06:55:29,477 INFO Download rate 6.7M/s                                                                                                            \n",
      "2022-10-05 06:55:30,159 INFO Welcome to the CDS\n",
      "2022-10-05 06:55:30,160 INFO Sending request to https://cds.climate.copernicus.eu/api/v2/resources/reanalysis-era5-pressure-levels\n"
     ]
    },
    {
     "name": "stdout",
     "output_type": "stream",
     "text": [
      "Directory already exists.\n"
     ]
    },
    {
     "name": "stderr",
     "output_type": "stream",
     "text": [
      "2022-10-05 06:55:30,308 INFO Request is queued\n",
      "2022-10-05 06:55:31,466 INFO Request is running\n",
      "2022-10-05 07:01:50,644 INFO Request is completed\n",
      "2022-10-05 07:01:50,646 INFO Downloading https://download-0014-clone.copernicus-climate.eu/cache-compute-0014/cache/data7/adaptor.mars.internal-1664967616.1104352-22174-2-f9d386bb-7d05-440d-b7dc-c2fa617f7bcb.nc to /Users/jhayron/Data/ERA5/2002/ERA5_2002_02.nc (1.1G)\n",
      "2022-10-05 07:04:08,032 INFO Download rate 8.4M/s                                                                                                            \n",
      "2022-10-05 07:04:08,714 INFO Welcome to the CDS\n",
      "2022-10-05 07:04:08,715 INFO Sending request to https://cds.climate.copernicus.eu/api/v2/resources/reanalysis-era5-pressure-levels\n"
     ]
    },
    {
     "name": "stdout",
     "output_type": "stream",
     "text": [
      "Directory already exists.\n"
     ]
    },
    {
     "name": "stderr",
     "output_type": "stream",
     "text": [
      "2022-10-05 07:04:08,876 INFO Request is queued\n",
      "2022-10-05 07:04:10,022 INFO Request is running\n",
      "2022-10-05 07:10:29,020 INFO Request is completed\n",
      "2022-10-05 07:10:29,025 INFO Downloading https://download-0021.copernicus-climate.eu/cache-compute-0021/cache/data8/adaptor.mars.internal-1664968169.6483266-32614-4-9cd23c3a-b8b6-4c43-9a2d-8853c3e7cdaf.nc to /Users/jhayron/Data/ERA5/2002/ERA5_2002_03.nc (1.3G)\n",
      "2022-10-05 07:13:16,643 INFO Download rate 7.7M/s                                                                                                            \n",
      "2022-10-05 07:13:17,316 INFO Welcome to the CDS\n",
      "2022-10-05 07:13:17,317 INFO Sending request to https://cds.climate.copernicus.eu/api/v2/resources/reanalysis-era5-pressure-levels\n"
     ]
    },
    {
     "name": "stdout",
     "output_type": "stream",
     "text": [
      "Directory already exists.\n"
     ]
    },
    {
     "name": "stderr",
     "output_type": "stream",
     "text": [
      "2022-10-05 07:13:17,454 INFO Request is queued\n",
      "2022-10-05 07:13:18,602 INFO Request is running\n",
      "2022-10-05 07:19:37,645 INFO Request is completed\n",
      "2022-10-05 07:19:37,647 INFO Downloading https://download-0020.copernicus-climate.eu/cache-compute-0020/cache/data5/adaptor.mars.internal-1664968730.1383133-31623-3-779a6c58-aa65-407b-aaeb-11371a63600a.nc to /Users/jhayron/Data/ERA5/2002/ERA5_2002_04.nc (1.2G)\n",
      "2022-10-05 07:22:14,536 INFO Download rate 7.9M/s                                                                                                            \n",
      "2022-10-05 07:22:15,249 INFO Welcome to the CDS\n"
     ]
    },
    {
     "name": "stdout",
     "output_type": "stream",
     "text": [
      "Directory already exists.\n"
     ]
    },
    {
     "name": "stderr",
     "output_type": "stream",
     "text": [
      "2022-10-05 07:22:15,251 INFO Sending request to https://cds.climate.copernicus.eu/api/v2/resources/reanalysis-era5-pressure-levels\n",
      "2022-10-05 07:22:15,407 INFO Request is queued\n",
      "2022-10-05 07:22:16,555 INFO Request is running\n",
      "2022-10-05 07:30:36,208 INFO Request is completed\n",
      "2022-10-05 07:30:36,214 INFO Downloading https://download-0016.copernicus-climate.eu/cache-compute-0016/cache/data4/adaptor.mars.internal-1664969291.9460206-4260-10-cfd62fbe-092b-4aa1-a9ba-9f8046285494.nc to /Users/jhayron/Data/ERA5/2002/ERA5_2002_05.nc (1.3G)\n",
      "2022-10-05 07:33:02,756 INFO Download rate 8.8M/s                                                                                                            \n",
      "2022-10-05 07:33:03,402 INFO Welcome to the CDS\n",
      "2022-10-05 07:33:03,404 INFO Sending request to https://cds.climate.copernicus.eu/api/v2/resources/reanalysis-era5-pressure-levels\n"
     ]
    },
    {
     "name": "stdout",
     "output_type": "stream",
     "text": [
      "Directory already exists.\n"
     ]
    },
    {
     "name": "stderr",
     "output_type": "stream",
     "text": [
      "2022-10-05 07:33:03,569 INFO Request is queued\n",
      "2022-10-05 07:33:04,713 INFO Request is running\n",
      "2022-10-05 07:41:24,420 INFO Request is completed\n",
      "2022-10-05 07:41:24,422 INFO Downloading https://download-0017.copernicus-climate.eu/cache-compute-0017/cache/data6/adaptor.mars.internal-1664969930.9287794-27077-4-59d5abbc-daa5-4e53-8e13-1c7aae53b910.nc to /Users/jhayron/Data/ERA5/2002/ERA5_2002_06.nc (1.2G)\n",
      "2022-10-05 07:44:53,651 INFO Download rate 5.9M/s                                                                                                            \n",
      "2022-10-05 07:44:54,281 INFO Welcome to the CDS\n",
      "2022-10-05 07:44:54,283 INFO Sending request to https://cds.climate.copernicus.eu/api/v2/resources/reanalysis-era5-pressure-levels\n"
     ]
    },
    {
     "name": "stdout",
     "output_type": "stream",
     "text": [
      "Directory already exists.\n"
     ]
    },
    {
     "name": "stderr",
     "output_type": "stream",
     "text": [
      "2022-10-05 07:44:54,412 INFO Request is queued\n",
      "2022-10-05 07:44:55,554 INFO Request is running\n",
      "2022-10-05 07:53:15,111 INFO Request is completed\n",
      "2022-10-05 07:53:15,114 INFO Downloading https://download-0010-clone.copernicus-climate.eu/cache-compute-0010/cache/data5/adaptor.mars.internal-1664970666.8797328-13048-8-2026496d-a750-4c8f-9979-08f6d0a177b9.nc to /Users/jhayron/Data/ERA5/2002/ERA5_2002_07.nc (1.3G)\n",
      "2022-10-05 07:56:09,836 INFO Download rate 7.3M/s                                                                                                            \n",
      "2022-10-05 07:56:10,499 INFO Welcome to the CDS\n",
      "2022-10-05 07:56:10,500 INFO Sending request to https://cds.climate.copernicus.eu/api/v2/resources/reanalysis-era5-pressure-levels\n"
     ]
    },
    {
     "name": "stdout",
     "output_type": "stream",
     "text": [
      "Directory already exists.\n"
     ]
    },
    {
     "name": "stderr",
     "output_type": "stream",
     "text": [
      "2022-10-05 07:56:10,638 INFO Request is queued\n",
      "2022-10-05 07:56:11,788 INFO Request is running\n",
      "2022-10-05 08:04:31,446 INFO Request is completed\n",
      "2022-10-05 08:04:31,447 INFO Downloading https://download-0015-clone.copernicus-climate.eu/cache-compute-0015/cache/data1/adaptor.mars.internal-1664971328.694173-8753-12-01fdfadd-9672-4c06-bc0c-f09a728df1ec.nc to /Users/jhayron/Data/ERA5/2002/ERA5_2002_08.nc (1.3G)\n",
      "2022-10-05 08:07:02,621 INFO Download rate 8.5M/s                                                                                                            \n",
      "2022-10-05 08:07:03,299 INFO Welcome to the CDS\n",
      "2022-10-05 08:07:03,301 INFO Sending request to https://cds.climate.copernicus.eu/api/v2/resources/reanalysis-era5-pressure-levels\n"
     ]
    },
    {
     "name": "stdout",
     "output_type": "stream",
     "text": [
      "Directory already exists.\n"
     ]
    },
    {
     "name": "stderr",
     "output_type": "stream",
     "text": [
      "2022-10-05 08:07:03,461 INFO Request is queued\n",
      "2022-10-05 08:07:04,598 INFO Request is running\n",
      "2022-10-05 08:15:24,132 INFO Request is completed\n",
      "2022-10-05 08:15:24,133 INFO Downloading https://download-0008-clone.copernicus-climate.eu/cache-compute-0008/cache/data9/adaptor.mars.internal-1664971942.8839772-5006-6-650a9b02-fe88-4834-bd30-ac602917888f.nc to /Users/jhayron/Data/ERA5/2002/ERA5_2002_09.nc (1.2G)\n",
      "2022-10-05 08:17:52,780 INFO Download rate 8.3M/s                                                                                                            \n",
      "2022-10-05 08:17:53,466 INFO Welcome to the CDS\n",
      "2022-10-05 08:17:53,467 INFO Sending request to https://cds.climate.copernicus.eu/api/v2/resources/reanalysis-era5-pressure-levels\n"
     ]
    },
    {
     "name": "stdout",
     "output_type": "stream",
     "text": [
      "Directory already exists.\n"
     ]
    },
    {
     "name": "stderr",
     "output_type": "stream",
     "text": [
      "2022-10-05 08:17:53,644 INFO Request is queued\n",
      "2022-10-05 08:17:54,780 INFO Request is running\n",
      "2022-10-05 08:26:14,363 INFO Request is completed\n",
      "2022-10-05 08:26:14,365 INFO Downloading https://download-0006-clone.copernicus-climate.eu/cache-compute-0006/cache/data1/adaptor.mars.internal-1664972637.3986614-31306-8-8d2fe25f-ab3c-4d16-b6fd-83ce8f4e949d.nc to /Users/jhayron/Data/ERA5/2002/ERA5_2002_10.nc (1.3G)\n",
      "2022-10-05 08:28:33,592 INFO Download rate 9.2M/s                                                                                                            \n",
      "2022-10-05 08:28:34,278 INFO Welcome to the CDS\n",
      "2022-10-05 08:28:34,280 INFO Sending request to https://cds.climate.copernicus.eu/api/v2/resources/reanalysis-era5-pressure-levels\n"
     ]
    },
    {
     "name": "stdout",
     "output_type": "stream",
     "text": [
      "Directory already exists.\n"
     ]
    },
    {
     "name": "stderr",
     "output_type": "stream",
     "text": [
      "2022-10-05 08:28:34,440 INFO Request is queued\n",
      "2022-10-05 08:28:39,626 INFO Request is running\n",
      "2022-10-05 08:36:55,238 INFO Request is completed\n",
      "2022-10-05 08:36:55,239 INFO Downloading https://download-0007-clone.copernicus-climate.eu/cache-compute-0007/cache/data3/adaptor.mars.internal-1664973260.0484238-24561-3-dfd39858-0d86-4987-813b-a8a6329316a6.nc to /Users/jhayron/Data/ERA5/2002/ERA5_2002_11.nc (1.2G)\n",
      "2022-10-05 08:39:35,695 INFO Download rate 7.7M/s                                                                                                            \n"
     ]
    },
    {
     "name": "stdout",
     "output_type": "stream",
     "text": [
      "Directory already exists.\n"
     ]
    },
    {
     "name": "stderr",
     "output_type": "stream",
     "text": [
      "2022-10-05 08:39:36,421 INFO Welcome to the CDS\n",
      "2022-10-05 08:39:36,422 INFO Sending request to https://cds.climate.copernicus.eu/api/v2/resources/reanalysis-era5-pressure-levels\n",
      "2022-10-05 08:39:36,601 INFO Request is queued\n",
      "2022-10-05 08:39:41,788 INFO Request is running\n",
      "2022-10-05 08:47:57,213 INFO Request is completed\n",
      "2022-10-05 08:47:57,214 INFO Downloading https://download-0008-clone.copernicus-climate.eu/cache-compute-0008/cache/data7/adaptor.mars.internal-1664973905.609664-4023-19-22cc6645-bdf9-4fad-91d3-29aca39d824f.nc to /Users/jhayron/Data/ERA5/2002/ERA5_2002_12.nc (1.3G)\n",
      "2022-10-05 08:51:34,367 INFO Download rate 5.9M/s                                                                                                            \n"
     ]
    }
   ],
   "source": [
    "import cdsapi\n",
    "from calendar import monthrange\n",
    "import numpy as np\n",
    "import os\n",
    "\n",
    "year = '2002'\n",
    "for month in ['01','02','03','04','05','06','07','08','09','10','11','12']:\n",
    "    number_of_days = monthrange(int(year),int(month))[-1]\n",
    "    days = np.arange(1,number_of_days+1).astype(str).tolist()\n",
    "    path_output = f'/Users/jhayron/Data/ERA5/{year}/'\n",
    "    try:\n",
    "        os.mkdir(path_output)\n",
    "    except:\n",
    "        print('Directory already exists.')\n",
    "\n",
    "    c = cdsapi.Client()\n",
    "\n",
    "    c.retrieve(\n",
    "        'reanalysis-era5-pressure-levels',\n",
    "        {\n",
    "            'product_type': 'reanalysis',\n",
    "            'format': 'netcdf',\n",
    "            'pressure_level': [\n",
    "                '500', '600', '700',\n",
    "                '800', '850', '900',\n",
    "                '950', '1000',\n",
    "            ],\n",
    "            'variable': [\n",
    "                'geopotential', 'relative_humidity', 'specific_humidity',\n",
    "                'u_component_of_wind', 'v_component_of_wind', 'vertical_velocity',\n",
    "            ],\n",
    "            'year': year,\n",
    "            'month': [\n",
    "                month\n",
    "            ],\n",
    "            'day': days,\n",
    "            'time': [\n",
    "                '00:00', '03:00', '06:00',\n",
    "                '09:00', '12:00', '15:00',\n",
    "                '18:00', '21:00',\n",
    "            ],\n",
    "            'area': [\n",
    "                25, -100, -25,\n",
    "                -30,\n",
    "            ],\n",
    "        },\n",
    "        f'{path_output}ERA5_{year}_{month}.nc')"
   ]
  },
  {
   "cell_type": "code",
   "execution_count": 11,
   "id": "e6ba4fb1",
   "metadata": {},
   "outputs": [
    {
     "name": "stderr",
     "output_type": "stream",
     "text": [
      "2022-10-05 08:51:35,180 INFO Welcome to the CDS\n",
      "2022-10-05 08:51:35,181 INFO Sending request to https://cds.climate.copernicus.eu/api/v2/resources/reanalysis-era5-pressure-levels\n",
      "2022-10-05 08:51:35,353 INFO Request is queued\n",
      "2022-10-05 08:51:36,487 INFO Request is running\n",
      "2022-10-05 08:59:56,243 INFO Request is completed\n",
      "2022-10-05 08:59:56,246 INFO Downloading https://download-0006-clone.copernicus-climate.eu/cache-compute-0006/cache/data4/adaptor.mars.internal-1664974657.7984307-25169-23-9ed77336-12da-44b1-8cb5-1e62e3308635.nc to /Users/jhayron/Data/ERA5/2001/ERA5_2001_01.nc (1.3G)\n",
      "2022-10-05 09:03:13,788 INFO Download rate 6.5M/s                                                                                                            \n",
      "2022-10-05 09:03:14,764 INFO Welcome to the CDS\n",
      "2022-10-05 09:03:14,765 INFO Sending request to https://cds.climate.copernicus.eu/api/v2/resources/reanalysis-era5-pressure-levels\n"
     ]
    },
    {
     "name": "stdout",
     "output_type": "stream",
     "text": [
      "Directory already exists.\n"
     ]
    },
    {
     "name": "stderr",
     "output_type": "stream",
     "text": [
      "2022-10-05 09:03:14,948 INFO Request is queued\n",
      "2022-10-05 09:03:23,761 INFO Request is running\n",
      "2022-10-05 09:09:35,476 INFO Request is completed\n",
      "2022-10-05 09:09:35,477 INFO Downloading https://download-0016.copernicus-climate.eu/cache-compute-0016/cache/data9/adaptor.mars.internal-1664975306.1951067-32638-12-46f1bec0-c47e-498f-b29e-0522e011ada7.nc to /Users/jhayron/Data/ERA5/2001/ERA5_2001_02.nc (1.1G)\n",
      "2022-10-05 09:12:40,287 INFO Download rate 6.3M/s                                                                                                            \n",
      "2022-10-05 09:12:41,010 INFO Welcome to the CDS\n",
      "2022-10-05 09:12:41,011 INFO Sending request to https://cds.climate.copernicus.eu/api/v2/resources/reanalysis-era5-pressure-levels\n"
     ]
    },
    {
     "name": "stdout",
     "output_type": "stream",
     "text": [
      "Directory already exists.\n"
     ]
    },
    {
     "name": "stderr",
     "output_type": "stream",
     "text": [
      "2022-10-05 09:12:41,175 INFO Request is queued\n",
      "2022-10-05 09:12:42,330 INFO Request is running\n",
      "2022-10-05 09:21:02,259 INFO Request is completed\n",
      "2022-10-05 09:21:02,264 INFO Downloading https://download-0009-clone.copernicus-climate.eu/cache-compute-0009/cache/data2/adaptor.mars.internal-1664975917.2467244-10285-10-4ec8944d-5c53-418a-a949-ca4a9edfc2e4.nc to /Users/jhayron/Data/ERA5/2001/ERA5_2001_03.nc (1.3G)\n",
      "2022-10-05 09:26:24,998 INFO Download rate 4M/s                                                                                                              \n",
      "2022-10-05 09:26:25,794 INFO Welcome to the CDS\n",
      "2022-10-05 09:26:25,796 INFO Sending request to https://cds.climate.copernicus.eu/api/v2/resources/reanalysis-era5-pressure-levels\n"
     ]
    },
    {
     "name": "stdout",
     "output_type": "stream",
     "text": [
      "Directory already exists.\n"
     ]
    },
    {
     "name": "stderr",
     "output_type": "stream",
     "text": [
      "2022-10-05 09:26:25,958 INFO Request is queued\n",
      "2022-10-05 09:26:27,097 INFO Request is running\n",
      "2022-10-05 09:32:46,439 INFO Request is completed\n",
      "2022-10-05 09:32:46,441 INFO Downloading https://download-0017.copernicus-climate.eu/cache-compute-0017/cache/data6/adaptor.mars.internal-1664976718.017857-32535-13-4d756ebb-8730-443b-bfc8-099688f1b2e6.nc to /Users/jhayron/Data/ERA5/2001/ERA5_2001_04.nc (1.2G)\n",
      "2022-10-05 09:37:32,957 INFO Download rate 4.3M/s                                                                                                            \n",
      "2022-10-05 09:37:33,722 INFO Welcome to the CDS\n",
      "2022-10-05 09:37:33,723 INFO Sending request to https://cds.climate.copernicus.eu/api/v2/resources/reanalysis-era5-pressure-levels\n"
     ]
    },
    {
     "name": "stdout",
     "output_type": "stream",
     "text": [
      "Directory already exists.\n"
     ]
    },
    {
     "name": "stderr",
     "output_type": "stream",
     "text": [
      "2022-10-05 09:37:33,925 INFO Request is queued\n",
      "2022-10-05 09:37:39,196 INFO Request is running\n",
      "2022-10-05 09:45:55,159 INFO Request is completed\n",
      "2022-10-05 09:45:55,164 INFO Downloading https://download-0020.copernicus-climate.eu/cache-compute-0020/cache/data8/adaptor.mars.internal-1664977391.9334536-10543-16-78067eba-86d9-4006-8d72-b047f102453c.nc to /Users/jhayron/Data/ERA5/2001/ERA5_2001_05.nc (1.3G)\n",
      "2022-10-05 09:50:20,525 INFO Download rate 4.8M/s                                                                                                            \n"
     ]
    },
    {
     "name": "stdout",
     "output_type": "stream",
     "text": [
      "Directory already exists.\n"
     ]
    },
    {
     "name": "stderr",
     "output_type": "stream",
     "text": [
      "2022-10-05 09:50:21,297 INFO Welcome to the CDS\n",
      "2022-10-05 09:50:21,299 INFO Sending request to https://cds.climate.copernicus.eu/api/v2/resources/reanalysis-era5-pressure-levels\n",
      "2022-10-05 09:50:21,437 INFO Request is queued\n",
      "2022-10-05 09:50:22,572 INFO Request is running\n",
      "2022-10-05 09:58:42,699 INFO Request is completed\n",
      "2022-10-05 09:58:42,703 INFO Downloading https://download-0004-clone.copernicus-climate.eu/cache-compute-0004/cache/data5/adaptor.mars.internal-1664978166.008555-23606-3-2d136296-f979-42e4-8c5e-0b58cd5887bf.nc to /Users/jhayron/Data/ERA5/2001/ERA5_2001_06.nc (1.2G)\n",
      "2022-10-05 10:06:46,045 INFO Download rate 2.6M/s                                                                                                            \n",
      "2022-10-05 10:06:46,680 INFO Welcome to the CDS\n",
      "2022-10-05 10:06:46,681 INFO Sending request to https://cds.climate.copernicus.eu/api/v2/resources/reanalysis-era5-pressure-levels\n"
     ]
    },
    {
     "name": "stdout",
     "output_type": "stream",
     "text": [
      "Directory already exists.\n"
     ]
    },
    {
     "name": "stderr",
     "output_type": "stream",
     "text": [
      "2022-10-05 10:06:46,881 INFO Request is queued\n",
      "2022-10-05 10:06:49,697 INFO Request is running\n",
      "2022-10-05 10:15:08,892 INFO Request is completed\n",
      "2022-10-05 10:15:08,897 INFO Downloading https://download-0000-clone.copernicus-climate.eu/cache-compute-0000/cache/data4/adaptor.mars.internal-1664979156.6855404-4966-13-88dd1472-bd24-4cab-ac08-d8c4134ea898.nc to /Users/jhayron/Data/ERA5/2001/ERA5_2001_07.nc (1.3G)\n",
      "2022-10-05 10:23:23,959 INFO Download rate 2.6M/s                                                                                                            \n",
      "2022-10-05 10:23:24,661 INFO Welcome to the CDS\n",
      "2022-10-05 10:23:24,662 INFO Sending request to https://cds.climate.copernicus.eu/api/v2/resources/reanalysis-era5-pressure-levels\n"
     ]
    },
    {
     "name": "stdout",
     "output_type": "stream",
     "text": [
      "Directory already exists.\n"
     ]
    },
    {
     "name": "stderr",
     "output_type": "stream",
     "text": [
      "2022-10-05 10:23:24,817 INFO Request is queued\n",
      "2022-10-05 10:23:27,598 INFO Request is running\n",
      "2022-10-05 10:31:45,701 INFO Request is completed\n",
      "2022-10-05 10:31:45,707 INFO Downloading https://download-0015-clone.copernicus-climate.eu/cache-compute-0015/cache/data7/adaptor.mars.internal-1664980157.1845741-7264-4-c0dd6275-b156-4b88-9e69-ca726db0f493.nc to /Users/jhayron/Data/ERA5/2001/ERA5_2001_08.nc (1.3G)\n",
      "2022-10-05 10:41:11,082 INFO Download rate 2.3M/s                                                                                                            \n"
     ]
    },
    {
     "name": "stdout",
     "output_type": "stream",
     "text": [
      "Directory already exists.\n"
     ]
    },
    {
     "name": "stderr",
     "output_type": "stream",
     "text": [
      "2022-10-05 10:41:12,577 INFO Welcome to the CDS\n",
      "2022-10-05 10:41:12,579 INFO Sending request to https://cds.climate.copernicus.eu/api/v2/resources/reanalysis-era5-pressure-levels\n",
      "2022-10-05 10:41:12,721 INFO Request is queued\n",
      "2022-10-05 10:41:17,945 INFO Request is running\n",
      "2022-10-05 10:49:34,063 INFO Request is completed\n",
      "2022-10-05 10:49:34,065 INFO Downloading https://download-0010-clone.copernicus-climate.eu/cache-compute-0010/cache/data6/adaptor.mars.internal-1664981194.723056-9785-9-a939f2f8-6765-48d1-97ba-722fe0e35468.nc to /Users/jhayron/Data/ERA5/2001/ERA5_2001_09.nc (1.2G)\n",
      "2022-10-05 10:55:47,581 INFO Download rate 3.3M/s                                                                                                            \n",
      "2022-10-05 10:55:48,409 INFO Welcome to the CDS\n",
      "2022-10-05 10:55:48,411 INFO Sending request to https://cds.climate.copernicus.eu/api/v2/resources/reanalysis-era5-pressure-levels\n"
     ]
    },
    {
     "name": "stdout",
     "output_type": "stream",
     "text": [
      "Directory already exists.\n"
     ]
    },
    {
     "name": "stderr",
     "output_type": "stream",
     "text": [
      "2022-10-05 10:55:48,599 INFO Request is queued\n",
      "2022-10-05 10:55:49,731 INFO Request is running\n",
      "2022-10-05 11:04:09,770 INFO Request is completed\n",
      "2022-10-05 11:04:09,782 INFO Downloading https://download-0021.copernicus-climate.eu/cache-compute-0021/cache/data0/adaptor.mars.internal-1664982099.3973315-10381-16-38734ad2-3a39-423a-a6fe-fc015d5ed63e.nc to /Users/jhayron/Data/ERA5/2001/ERA5_2001_10.nc (1.3G)\n",
      "2022-10-05 11:09:16,347 INFO Download rate 4.2M/s                                                                                                            \n",
      "2022-10-05 11:09:17,218 INFO Welcome to the CDS\n",
      "2022-10-05 11:09:17,219 INFO Sending request to https://cds.climate.copernicus.eu/api/v2/resources/reanalysis-era5-pressure-levels\n"
     ]
    },
    {
     "name": "stdout",
     "output_type": "stream",
     "text": [
      "Directory already exists.\n"
     ]
    },
    {
     "name": "stderr",
     "output_type": "stream",
     "text": [
      "2022-10-05 11:09:17,375 INFO Request is queued\n",
      "2022-10-05 11:09:20,164 INFO Request is running\n",
      "2022-10-05 11:17:38,354 INFO Request is completed\n",
      "2022-10-05 11:17:38,359 INFO Downloading https://download-0007-clone.copernicus-climate.eu/cache-compute-0007/cache/data6/adaptor.mars.internal-1664982925.8358052-19546-8-e703df8f-a745-452b-aad8-7e046ccf1a07.nc to /Users/jhayron/Data/ERA5/2001/ERA5_2001_11.nc (1.2G)\n",
      "2022-10-05 11:23:11,350 INFO Download rate 3.7M/s                                                                                                            \n",
      "2022-10-05 11:23:12,061 INFO Welcome to the CDS\n",
      "2022-10-05 11:23:12,062 INFO Sending request to https://cds.climate.copernicus.eu/api/v2/resources/reanalysis-era5-pressure-levels\n"
     ]
    },
    {
     "name": "stdout",
     "output_type": "stream",
     "text": [
      "Directory already exists.\n"
     ]
    },
    {
     "name": "stderr",
     "output_type": "stream",
     "text": [
      "2022-10-05 11:23:12,226 INFO Request is queued\n",
      "2022-10-05 11:23:13,400 INFO Request is running\n",
      "2022-10-05 11:31:33,226 INFO Request is completed\n",
      "2022-10-05 11:31:33,229 INFO Downloading https://download-0001-clone.copernicus-climate.eu/cache-compute-0001/cache/data4/adaptor.mars.internal-1664983747.1808543-8787-10-bb821b68-4aa5-4499-955b-29c0d05d12bf.nc to /Users/jhayron/Data/ERA5/2001/ERA5_2001_12.nc (1.3G)\n",
      "2022-10-05 11:36:42,144 INFO Download rate 4.2M/s                                                                                                            \n"
     ]
    }
   ],
   "source": [
    "import cdsapi\n",
    "from calendar import monthrange\n",
    "import numpy as np\n",
    "import os\n",
    "\n",
    "year = '2001'\n",
    "for month in ['01','02','03','04','05','06','07','08','09','10','11','12']:\n",
    "    number_of_days = monthrange(int(year),int(month))[-1]\n",
    "    days = np.arange(1,number_of_days+1).astype(str).tolist()\n",
    "    path_output = f'/Users/jhayron/Data/ERA5/{year}/'\n",
    "    try:\n",
    "        os.mkdir(path_output)\n",
    "    except:\n",
    "        print('Directory already exists.')\n",
    "\n",
    "    c = cdsapi.Client()\n",
    "\n",
    "    c.retrieve(\n",
    "        'reanalysis-era5-pressure-levels',\n",
    "        {\n",
    "            'product_type': 'reanalysis',\n",
    "            'format': 'netcdf',\n",
    "            'pressure_level': [\n",
    "                '500', '600', '700',\n",
    "                '800', '850', '900',\n",
    "                '950', '1000',\n",
    "            ],\n",
    "            'variable': [\n",
    "                'geopotential', 'relative_humidity', 'specific_humidity',\n",
    "                'u_component_of_wind', 'v_component_of_wind', 'vertical_velocity',\n",
    "            ],\n",
    "            'year': year,\n",
    "            'month': [\n",
    "                month\n",
    "            ],\n",
    "            'day': days,\n",
    "            'time': [\n",
    "                '00:00', '03:00', '06:00',\n",
    "                '09:00', '12:00', '15:00',\n",
    "                '18:00', '21:00',\n",
    "            ],\n",
    "            'area': [\n",
    "                25, -100, -25,\n",
    "                -30,\n",
    "            ],\n",
    "        },\n",
    "        f'{path_output}ERA5_{year}_{month}.nc')"
   ]
  },
  {
   "cell_type": "code",
   "execution_count": 12,
   "id": "8b214b5c",
   "metadata": {},
   "outputs": [
    {
     "name": "stderr",
     "output_type": "stream",
     "text": [
      "2022-10-05 11:36:42,837 INFO Welcome to the CDS\n",
      "2022-10-05 11:36:42,839 INFO Sending request to https://cds.climate.copernicus.eu/api/v2/resources/reanalysis-era5-pressure-levels\n",
      "2022-10-05 11:36:42,981 INFO Request is queued\n",
      "2022-10-05 11:36:44,118 INFO Request is running\n",
      "2022-10-05 11:45:04,178 INFO Request is completed\n",
      "2022-10-05 11:45:04,182 INFO Downloading https://download-0006-clone.copernicus-climate.eu/cache-compute-0006/cache/data5/adaptor.mars.internal-1664984556.694304-19311-7-16763e16-6ef9-43dc-ae38-a3c70f8275c2.nc to /Users/jhayron/Data/ERA5/2000/ERA5_2000_01.nc (1.3G)\n",
      "2022-10-05 11:50:50,985 INFO Download rate 3.7M/s                                                                                                            \n",
      "2022-10-05 11:50:51,710 INFO Welcome to the CDS\n",
      "2022-10-05 11:50:51,712 INFO Sending request to https://cds.climate.copernicus.eu/api/v2/resources/reanalysis-era5-pressure-levels\n"
     ]
    },
    {
     "name": "stdout",
     "output_type": "stream",
     "text": [
      "Directory already exists.\n"
     ]
    },
    {
     "name": "stderr",
     "output_type": "stream",
     "text": [
      "2022-10-05 11:50:51,950 INFO Request is queued\n",
      "2022-10-05 11:50:53,088 INFO Request is running\n",
      "2022-10-05 11:57:12,355 INFO Request is completed\n",
      "2022-10-05 11:57:12,357 INFO Downloading https://download-0002-clone.copernicus-climate.eu/cache-compute-0002/cache/data1/adaptor.mars.internal-1664985365.0555055-24434-5-9692c49a-19d6-4000-a947-089453049ca5.nc to /Users/jhayron/Data/ERA5/2000/ERA5_2000_02.nc (1.2G)\n",
      "2022-10-05 12:02:00,209 INFO Download rate 4.2M/s                                                                                                            \n",
      "2022-10-05 12:02:01,037 INFO Welcome to the CDS\n",
      "2022-10-05 12:02:01,038 INFO Sending request to https://cds.climate.copernicus.eu/api/v2/resources/reanalysis-era5-pressure-levels\n"
     ]
    },
    {
     "name": "stdout",
     "output_type": "stream",
     "text": [
      "Directory already exists.\n"
     ]
    },
    {
     "name": "stderr",
     "output_type": "stream",
     "text": [
      "2022-10-05 12:02:01,254 INFO Request is queued\n",
      "2022-10-05 12:02:02,423 INFO Request is running\n",
      "2022-10-05 12:10:22,041 INFO Request is completed\n",
      "2022-10-05 12:10:22,045 INFO Downloading https://download-0006-clone.copernicus-climate.eu/cache-compute-0006/cache/data3/adaptor.mars.internal-1664986070.966061-32644-5-1201c699-9e3d-4d6d-ad12-d9458015af3e.nc to /Users/jhayron/Data/ERA5/2000/ERA5_2000_03.nc (1.3G)\n",
      "2022-10-05 12:14:12,357 INFO Download rate 5.6M/s                                                                                                            \n",
      "2022-10-05 12:14:13,176 INFO Welcome to the CDS\n",
      "2022-10-05 12:14:13,177 INFO Sending request to https://cds.climate.copernicus.eu/api/v2/resources/reanalysis-era5-pressure-levels\n"
     ]
    },
    {
     "name": "stdout",
     "output_type": "stream",
     "text": [
      "Directory already exists.\n"
     ]
    },
    {
     "name": "stderr",
     "output_type": "stream",
     "text": [
      "2022-10-05 12:14:13,323 INFO Request is queued\n",
      "2022-10-05 12:14:14,461 INFO Request is running\n",
      "2022-10-05 12:22:34,087 INFO Request is completed\n",
      "2022-10-05 12:22:34,091 INFO Downloading https://download-0004-clone.copernicus-climate.eu/cache-compute-0004/cache/data4/adaptor.mars.internal-1664986804.8535388-20599-8-f75e2c01-d9f1-4e6e-924b-e34339b2a3a5.nc to /Users/jhayron/Data/ERA5/2000/ERA5_2000_04.nc (1.2G)\n",
      "2022-10-05 12:26:27,590 INFO Download rate 5.3M/s                                                                                                            \n",
      "2022-10-05 12:26:28,397 INFO Welcome to the CDS\n",
      "2022-10-05 12:26:28,398 INFO Sending request to https://cds.climate.copernicus.eu/api/v2/resources/reanalysis-era5-pressure-levels\n"
     ]
    },
    {
     "name": "stdout",
     "output_type": "stream",
     "text": [
      "Directory already exists.\n"
     ]
    },
    {
     "name": "stderr",
     "output_type": "stream",
     "text": [
      "2022-10-05 12:26:28,570 INFO Request is queued\n",
      "2022-10-05 12:26:29,697 INFO Request is running\n",
      "2022-10-05 12:34:49,718 INFO Request is completed\n",
      "2022-10-05 12:34:49,723 INFO Downloading https://download-0016.copernicus-climate.eu/cache-compute-0016/cache/data9/adaptor.mars.internal-1664987541.4128728-3800-12-bc8ccd3b-a37b-4338-83ca-20c5ee4d0b02.nc to /Users/jhayron/Data/ERA5/2000/ERA5_2000_05.nc (1.3G)\n",
      "2022-10-05 12:39:40,343 INFO Download rate 4.4M/s                                                                                                            \n"
     ]
    },
    {
     "name": "stdout",
     "output_type": "stream",
     "text": [
      "Directory already exists.\n"
     ]
    },
    {
     "name": "stderr",
     "output_type": "stream",
     "text": [
      "2022-10-05 12:39:41,097 INFO Welcome to the CDS\n",
      "2022-10-05 12:39:41,098 INFO Sending request to https://cds.climate.copernicus.eu/api/v2/resources/reanalysis-era5-pressure-levels\n",
      "2022-10-05 12:39:41,247 INFO Request is queued\n",
      "2022-10-05 12:39:42,374 INFO Request is running\n",
      "2022-10-05 12:46:01,336 INFO Request is completed\n",
      "2022-10-05 12:46:01,338 INFO Downloading https://download-0013-clone.copernicus-climate.eu/cache-compute-0013/cache/data3/adaptor.mars.internal-1664988281.3622687-8820-10-915f9095-6b3b-418c-89a5-5c76c7be7bf4.nc to /Users/jhayron/Data/ERA5/2000/ERA5_2000_06.nc (1.2G)\n",
      "2022-10-05 12:49:07,674 INFO Download rate 6.7M/s                                                                                                            \n",
      "2022-10-05 12:49:08,398 INFO Welcome to the CDS\n",
      "2022-10-05 12:49:08,401 INFO Sending request to https://cds.climate.copernicus.eu/api/v2/resources/reanalysis-era5-pressure-levels\n"
     ]
    },
    {
     "name": "stdout",
     "output_type": "stream",
     "text": [
      "Directory already exists.\n"
     ]
    },
    {
     "name": "stderr",
     "output_type": "stream",
     "text": [
      "2022-10-05 12:49:08,752 INFO Request is queued\n",
      "2022-10-05 12:49:09,884 INFO Request is running\n",
      "2022-10-05 12:57:29,401 INFO Request is completed\n",
      "2022-10-05 12:57:29,404 INFO Downloading https://download-0000-clone.copernicus-climate.eu/cache-compute-0000/cache/data0/adaptor.mars.internal-1664988928.938197-27084-12-a6f3e001-cbb9-4340-acbd-3a93e44f99ad.nc to /Users/jhayron/Data/ERA5/2000/ERA5_2000_07.nc (1.3G)\n",
      "2022-10-05 13:00:45,847 INFO Download rate 6.5M/s                                                                                                            \n",
      "2022-10-05 13:00:46,536 INFO Welcome to the CDS\n",
      "2022-10-05 13:00:46,537 INFO Sending request to https://cds.climate.copernicus.eu/api/v2/resources/reanalysis-era5-pressure-levels\n"
     ]
    },
    {
     "name": "stdout",
     "output_type": "stream",
     "text": [
      "Directory already exists.\n"
     ]
    },
    {
     "name": "stderr",
     "output_type": "stream",
     "text": [
      "2022-10-05 13:00:46,728 INFO Request is queued\n",
      "2022-10-05 13:00:47,910 INFO Request is running\n",
      "2022-10-05 13:09:07,650 INFO Request is completed\n",
      "2022-10-05 13:09:07,655 INFO Downloading https://download-0001-clone.copernicus-climate.eu/cache-compute-0001/cache/data1/adaptor.mars.internal-1664989612.5221915-7033-16-52419d63-4404-4c32-89ec-6324ee607d61.nc to /Users/jhayron/Data/ERA5/2000/ERA5_2000_08.nc (1.3G)\n",
      "2022-10-05 13:12:27,687 INFO Download rate 6.4M/s                                                                                                            \n",
      "2022-10-05 13:12:28,362 INFO Welcome to the CDS\n",
      "2022-10-05 13:12:28,364 INFO Sending request to https://cds.climate.copernicus.eu/api/v2/resources/reanalysis-era5-pressure-levels\n"
     ]
    },
    {
     "name": "stdout",
     "output_type": "stream",
     "text": [
      "Directory already exists.\n"
     ]
    },
    {
     "name": "stderr",
     "output_type": "stream",
     "text": [
      "2022-10-05 13:12:28,504 INFO Request is queued\n",
      "2022-10-05 13:12:29,639 INFO Request is running\n",
      "2022-10-05 13:20:49,257 INFO Request is completed\n",
      "2022-10-05 13:20:49,261 INFO Downloading https://download-0017.copernicus-climate.eu/cache-compute-0017/cache/data6/adaptor.mars.internal-1664990300.3025155-4261-4-fb55d4f3-c832-49cf-ba54-6f9d486aa08d.nc to /Users/jhayron/Data/ERA5/2000/ERA5_2000_09.nc (1.2G)\n",
      "2022-10-05 13:25:06,752 INFO Download rate 4.8M/s                                                                                                            \n",
      "2022-10-05 13:25:07,452 INFO Welcome to the CDS\n",
      "2022-10-05 13:25:07,453 INFO Sending request to https://cds.climate.copernicus.eu/api/v2/resources/reanalysis-era5-pressure-levels\n"
     ]
    },
    {
     "name": "stdout",
     "output_type": "stream",
     "text": [
      "Directory already exists.\n"
     ]
    },
    {
     "name": "stderr",
     "output_type": "stream",
     "text": [
      "2022-10-05 13:25:07,656 INFO Request is queued\n",
      "2022-10-05 13:25:08,805 INFO Request is running\n",
      "2022-10-05 13:33:28,316 INFO Request is completed\n",
      "2022-10-05 13:33:28,320 INFO Downloading https://download-0008-clone.copernicus-climate.eu/cache-compute-0008/cache/data9/adaptor.mars.internal-1664991051.5779765-5230-8-d1b7d6ff-036f-42a7-aa32-9763290e6ae9.nc to /Users/jhayron/Data/ERA5/2000/ERA5_2000_10.nc (1.3G)\n",
      "2022-10-05 13:38:45,428 INFO Download rate 4M/s                                                                                                              \n",
      "2022-10-05 13:38:46,169 INFO Welcome to the CDS\n",
      "2022-10-05 13:38:46,170 INFO Sending request to https://cds.climate.copernicus.eu/api/v2/resources/reanalysis-era5-pressure-levels\n"
     ]
    },
    {
     "name": "stdout",
     "output_type": "stream",
     "text": [
      "Directory already exists.\n"
     ]
    },
    {
     "name": "stderr",
     "output_type": "stream",
     "text": [
      "2022-10-05 13:38:46,313 INFO Request is queued\n",
      "2022-10-05 13:38:47,455 INFO Request is running\n",
      "2022-10-05 13:47:06,941 INFO Request is completed\n",
      "2022-10-05 13:47:06,945 INFO Downloading https://download-0001-clone.copernicus-climate.eu/cache-compute-0001/cache/data9/adaptor.mars.internal-1664991880.2973526-3074-9-628a3926-d3c8-4cd9-a475-d2ef3e0b9c0b.nc to /Users/jhayron/Data/ERA5/2000/ERA5_2000_11.nc (1.2G)\n",
      "2022-10-05 13:50:47,087 INFO Download rate 5.6M/s                                                                                                            \n",
      "2022-10-05 13:50:47,726 INFO Welcome to the CDS\n",
      "2022-10-05 13:50:47,728 INFO Sending request to https://cds.climate.copernicus.eu/api/v2/resources/reanalysis-era5-pressure-levels\n"
     ]
    },
    {
     "name": "stdout",
     "output_type": "stream",
     "text": [
      "Directory already exists.\n"
     ]
    },
    {
     "name": "stderr",
     "output_type": "stream",
     "text": [
      "2022-10-05 13:50:47,880 INFO Request is queued\n",
      "2022-10-05 13:50:49,010 INFO Request is running\n",
      "2022-10-05 13:59:08,624 INFO Request is completed\n",
      "2022-10-05 13:59:08,627 INFO Downloading https://download-0002-clone.copernicus-climate.eu/cache-compute-0002/cache/data9/adaptor.mars.internal-1664992577.878697-32001-1-25e3debe-b6ef-4db9-8c0c-9dfd481dbc63.nc to /Users/jhayron/Data/ERA5/2000/ERA5_2000_12.nc (1.3G)\n",
      "2022-10-05 14:03:07,551 INFO Download rate 5.4M/s                                                                                                            \n"
     ]
    }
   ],
   "source": [
    "import cdsapi\n",
    "from calendar import monthrange\n",
    "import numpy as np\n",
    "import os\n",
    "\n",
    "year = '2000'\n",
    "for month in ['01','02','03','04','05','06','07','08','09','10','11','12']:\n",
    "    number_of_days = monthrange(int(year),int(month))[-1]\n",
    "    days = np.arange(1,number_of_days+1).astype(str).tolist()\n",
    "    path_output = f'/Users/jhayron/Data/ERA5/{year}/'\n",
    "    try:\n",
    "        os.mkdir(path_output)\n",
    "    except:\n",
    "        print('Directory already exists.')\n",
    "\n",
    "    c = cdsapi.Client()\n",
    "\n",
    "    c.retrieve(\n",
    "        'reanalysis-era5-pressure-levels',\n",
    "        {\n",
    "            'product_type': 'reanalysis',\n",
    "            'format': 'netcdf',\n",
    "            'pressure_level': [\n",
    "                '500', '600', '700',\n",
    "                '800', '850', '900',\n",
    "                '950', '1000',\n",
    "            ],\n",
    "            'variable': [\n",
    "                'geopotential', 'relative_humidity', 'specific_humidity',\n",
    "                'u_component_of_wind', 'v_component_of_wind', 'vertical_velocity',\n",
    "            ],\n",
    "            'year': year,\n",
    "            'month': [\n",
    "                month\n",
    "            ],\n",
    "            'day': days,\n",
    "            'time': [\n",
    "                '00:00', '03:00', '06:00',\n",
    "                '09:00', '12:00', '15:00',\n",
    "                '18:00', '21:00',\n",
    "            ],\n",
    "            'area': [\n",
    "                25, -100, -25,\n",
    "                -30,\n",
    "            ],\n",
    "        },\n",
    "        f'{path_output}ERA5_{year}_{month}.nc')"
   ]
  },
  {
   "cell_type": "code",
   "execution_count": null,
   "id": "092054f7",
   "metadata": {},
   "outputs": [],
   "source": []
  },
  {
   "cell_type": "code",
   "execution_count": null,
   "id": "b3a129bc",
   "metadata": {},
   "outputs": [],
   "source": []
  },
  {
   "cell_type": "code",
   "execution_count": null,
   "id": "91f2fc58",
   "metadata": {},
   "outputs": [],
   "source": []
  }
 ],
 "metadata": {
  "kernelspec": {
   "display_name": "Python 3 (ipykernel)",
   "language": "python",
   "name": "python3"
  },
  "language_info": {
   "codemirror_mode": {
    "name": "ipython",
    "version": 3
   },
   "file_extension": ".py",
   "mimetype": "text/x-python",
   "name": "python",
   "nbconvert_exporter": "python",
   "pygments_lexer": "ipython3",
   "version": "3.10.6"
  }
 },
 "nbformat": 4,
 "nbformat_minor": 5
}
